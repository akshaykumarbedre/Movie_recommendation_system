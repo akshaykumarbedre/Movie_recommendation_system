{
  "nbformat": 4,
  "nbformat_minor": 0,
  "metadata": {
    "colab": {
      "provenance": [],
      "authorship_tag": "ABX9TyPYE0RCf/G/wsGMj1DN8zN9",
      "include_colab_link": true
    },
    "kernelspec": {
      "name": "python3",
      "display_name": "Python 3"
    },
    "language_info": {
      "name": "python"
    }
  },
  "cells": [
    {
      "cell_type": "markdown",
      "metadata": {
        "id": "view-in-github",
        "colab_type": "text"
      },
      "source": [
        "<a href=\"https://colab.research.google.com/github/akshaykumarbedre/Movie_recommendation_system/blob/main/Movie_Recommendation_System.ipynb\" target=\"_parent\"><img src=\"https://colab.research.google.com/assets/colab-badge.svg\" alt=\"Open In Colab\"/></a>"
      ]
    },
    {
      "cell_type": "markdown",
      "source": [
        "# Movie Recommendation System\n",
        "\n",
        "Recommender System is a system that seeks to predict or filter preferences according to the user's choices. Recommender systems are\n",
        "utilized in a variety of areas including movies, music, news, books, research articles, search queries, social tags, and products in general.\n",
        "Recommender systems produce a list of recommendations in any of the two ways -\n",
        "Collaborative filtering: Collaborative filtering approaches build a model from the user's past behavior (i.e. items purchased or searched by the\n",
        "user) as well as similar decisions made by other users. This model is then used to predict items (or ratings for items) that users may have an\n",
        "interest in.\n",
        "\n",
        "Content-based filtering: Content-based filtering approaches uses a series of discrete characteristics of an item in order to recommend\n",
        "additional items with similar properties. Content-based filtering methods are totally based on a description of the item and a profile of the user's\n",
        "preferences. It recommends items based on the user's past preferences. Let's develop a basic recommendation system using Python and\n",
        "Pandas.\n",
        "\n",
        "Let's develop a basic recommendation system by suggesting items that are most similar to a particular item, in this case, movies. It just tells\n",
        "what movies/items are most similar to the user's movie choice."
      ],
      "metadata": {
        "id": "CcNWbUTCmWB7"
      }
    },
    {
      "cell_type": "markdown",
      "source": [
        "\n",
        "## **Import Library**\n"
      ],
      "metadata": {
        "id": "T8JvjBLdmoqV"
      }
    },
    {
      "cell_type": "code",
      "source": [
        "import pandas as pd\n",
        "import numpy as np"
      ],
      "metadata": {
        "id": "z8RKZhRhmuGm"
      },
      "execution_count": 1,
      "outputs": []
    },
    {
      "cell_type": "markdown",
      "source": [
        "## **Import Data**"
      ],
      "metadata": {
        "id": "RXwXwCp_mon4"
      }
    },
    {
      "cell_type": "code",
      "source": [
        "df=pd.read_csv(r'https://raw.githubusercontent.com/YBI-Foundation/Dataset/main/Movies%20Recommendation.csv')"
      ],
      "metadata": {
        "id": "GzyNSJNim3hu"
      },
      "execution_count": 9,
      "outputs": []
    },
    {
      "cell_type": "code",
      "source": [
        "df.head()"
      ],
      "metadata": {
        "colab": {
          "base_uri": "https://localhost:8080/",
          "height": 672
        },
        "id": "2GDlFWfapIta",
        "outputId": "60f1fdd5-21ac-4fca-8050-efcc4173f568"
      },
      "execution_count": 10,
      "outputs": [
        {
          "output_type": "execute_result",
          "data": {
            "text/plain": [
              "   Movie_ID      Movie_Title                       Movie_Genre Movie_Language  \\\n",
              "0         1       Four Rooms                      Crime Comedy             en   \n",
              "1         2        Star Wars  Adventure Action Science Fiction             en   \n",
              "2         3     Finding Nemo                  Animation Family             en   \n",
              "3         4     Forrest Gump              Comedy Drama Romance             en   \n",
              "4         5  American Beauty                             Drama             en   \n",
              "\n",
              "   Movie_Budget  Movie_Popularity Movie_Release_Date  Movie_Revenue  \\\n",
              "0       4000000         22.876230         09-12-1995        4300000   \n",
              "1      11000000        126.393695         25-05-1977      775398007   \n",
              "2      94000000         85.688789         30-05-2003      940335536   \n",
              "3      55000000        138.133331         06-07-1994      677945399   \n",
              "4      15000000         80.878605         15-09-1999      356296601   \n",
              "\n",
              "   Movie_Runtime  Movie_Vote  ...  \\\n",
              "0           98.0         6.5  ...   \n",
              "1          121.0         8.1  ...   \n",
              "2          100.0         7.6  ...   \n",
              "3          142.0         8.2  ...   \n",
              "4          122.0         7.9  ...   \n",
              "\n",
              "                                      Movie_Homepage  \\\n",
              "0                                                NaN   \n",
              "1  http://www.starwars.com/films/star-wars-episod...   \n",
              "2              http://movies.disney.com/finding-nemo   \n",
              "3                                                NaN   \n",
              "4                      http://www.dreamworks.com/ab/   \n",
              "\n",
              "                                      Movie_Keywords  \\\n",
              "0          hotel new year's eve witch bet hotel room   \n",
              "1        android galaxy hermit death star lightsaber   \n",
              "2  father son relationship harbor underwater fish...   \n",
              "3  vietnam veteran hippie mentally disabled runni...   \n",
              "4  male nudity female nudity adultery midlife cri...   \n",
              "\n",
              "                                      Movie_Overview  \\\n",
              "0  It's Ted the Bellhop's first night on the job....   \n",
              "1  Princess Leia is captured and held hostage by ...   \n",
              "2  Nemo, an adventurous young clownfish, is unexp...   \n",
              "3  A man with a low IQ has accomplished great thi...   \n",
              "4  Lester Burnham, a depressed suburban father in...   \n",
              "\n",
              "                              Movie_Production_House  \\\n",
              "0  [{\"name\": \"Miramax Films\", \"id\": 14}, {\"name\":...   \n",
              "1  [{\"name\": \"Lucasfilm\", \"id\": 1}, {\"name\": \"Twe...   \n",
              "2     [{\"name\": \"Pixar Animation Studios\", \"id\": 3}]   \n",
              "3          [{\"name\": \"Paramount Pictures\", \"id\": 4}]   \n",
              "4  [{\"name\": \"DreamWorks SKG\", \"id\": 27}, {\"name\"...   \n",
              "\n",
              "                            Movie_Production_Country  \\\n",
              "0  [{\"iso_3166_1\": \"US\", \"name\": \"United States o...   \n",
              "1  [{\"iso_3166_1\": \"US\", \"name\": \"United States o...   \n",
              "2  [{\"iso_3166_1\": \"US\", \"name\": \"United States o...   \n",
              "3  [{\"iso_3166_1\": \"US\", \"name\": \"United States o...   \n",
              "4  [{\"iso_3166_1\": \"US\", \"name\": \"United States o...   \n",
              "\n",
              "                      Movie_Spoken_Language  \\\n",
              "0  [{\"iso_639_1\": \"en\", \"name\": \"English\"}]   \n",
              "1  [{\"iso_639_1\": \"en\", \"name\": \"English\"}]   \n",
              "2  [{\"iso_639_1\": \"en\", \"name\": \"English\"}]   \n",
              "3  [{\"iso_639_1\": \"en\", \"name\": \"English\"}]   \n",
              "4  [{\"iso_639_1\": \"en\", \"name\": \"English\"}]   \n",
              "\n",
              "                                       Movie_Tagline  \\\n",
              "0  Twelve outrageous guests. Four scandalous requ...   \n",
              "1       A long time ago in a galaxy far, far away...   \n",
              "2  There are 3.7 trillion fish in the ocean, they...   \n",
              "3  The world will never be the same, once you've ...   \n",
              "4                                       Look closer.   \n",
              "\n",
              "                                          Movie_Cast  \\\n",
              "0  Tim Roth Antonio Banderas Jennifer Beals Madon...   \n",
              "1  Mark Hamill Harrison Ford Carrie Fisher Peter ...   \n",
              "2  Albert Brooks Ellen DeGeneres Alexander Gould ...   \n",
              "3  Tom Hanks Robin Wright Gary Sinise Mykelti Wil...   \n",
              "4  Kevin Spacey Annette Bening Thora Birch Wes Be...   \n",
              "\n",
              "                                          Movie_Crew   Movie_Director  \n",
              "0  [{'name': 'Allison Anders', 'gender': 1, 'depa...   Allison Anders  \n",
              "1  [{'name': 'George Lucas', 'gender': 2, 'depart...     George Lucas  \n",
              "2  [{'name': 'Andrew Stanton', 'gender': 2, 'depa...   Andrew Stanton  \n",
              "3  [{'name': 'Alan Silvestri', 'gender': 2, 'depa...  Robert Zemeckis  \n",
              "4  [{'name': 'Thomas Newman', 'gender': 2, 'depar...       Sam Mendes  \n",
              "\n",
              "[5 rows x 21 columns]"
            ],
            "text/html": [
              "\n",
              "  <div id=\"df-fa6ea101-2acf-4f6e-a4ce-42dc22f208dc\" class=\"colab-df-container\">\n",
              "    <div>\n",
              "<style scoped>\n",
              "    .dataframe tbody tr th:only-of-type {\n",
              "        vertical-align: middle;\n",
              "    }\n",
              "\n",
              "    .dataframe tbody tr th {\n",
              "        vertical-align: top;\n",
              "    }\n",
              "\n",
              "    .dataframe thead th {\n",
              "        text-align: right;\n",
              "    }\n",
              "</style>\n",
              "<table border=\"1\" class=\"dataframe\">\n",
              "  <thead>\n",
              "    <tr style=\"text-align: right;\">\n",
              "      <th></th>\n",
              "      <th>Movie_ID</th>\n",
              "      <th>Movie_Title</th>\n",
              "      <th>Movie_Genre</th>\n",
              "      <th>Movie_Language</th>\n",
              "      <th>Movie_Budget</th>\n",
              "      <th>Movie_Popularity</th>\n",
              "      <th>Movie_Release_Date</th>\n",
              "      <th>Movie_Revenue</th>\n",
              "      <th>Movie_Runtime</th>\n",
              "      <th>Movie_Vote</th>\n",
              "      <th>...</th>\n",
              "      <th>Movie_Homepage</th>\n",
              "      <th>Movie_Keywords</th>\n",
              "      <th>Movie_Overview</th>\n",
              "      <th>Movie_Production_House</th>\n",
              "      <th>Movie_Production_Country</th>\n",
              "      <th>Movie_Spoken_Language</th>\n",
              "      <th>Movie_Tagline</th>\n",
              "      <th>Movie_Cast</th>\n",
              "      <th>Movie_Crew</th>\n",
              "      <th>Movie_Director</th>\n",
              "    </tr>\n",
              "  </thead>\n",
              "  <tbody>\n",
              "    <tr>\n",
              "      <th>0</th>\n",
              "      <td>1</td>\n",
              "      <td>Four Rooms</td>\n",
              "      <td>Crime Comedy</td>\n",
              "      <td>en</td>\n",
              "      <td>4000000</td>\n",
              "      <td>22.876230</td>\n",
              "      <td>09-12-1995</td>\n",
              "      <td>4300000</td>\n",
              "      <td>98.0</td>\n",
              "      <td>6.5</td>\n",
              "      <td>...</td>\n",
              "      <td>NaN</td>\n",
              "      <td>hotel new year's eve witch bet hotel room</td>\n",
              "      <td>It's Ted the Bellhop's first night on the job....</td>\n",
              "      <td>[{\"name\": \"Miramax Films\", \"id\": 14}, {\"name\":...</td>\n",
              "      <td>[{\"iso_3166_1\": \"US\", \"name\": \"United States o...</td>\n",
              "      <td>[{\"iso_639_1\": \"en\", \"name\": \"English\"}]</td>\n",
              "      <td>Twelve outrageous guests. Four scandalous requ...</td>\n",
              "      <td>Tim Roth Antonio Banderas Jennifer Beals Madon...</td>\n",
              "      <td>[{'name': 'Allison Anders', 'gender': 1, 'depa...</td>\n",
              "      <td>Allison Anders</td>\n",
              "    </tr>\n",
              "    <tr>\n",
              "      <th>1</th>\n",
              "      <td>2</td>\n",
              "      <td>Star Wars</td>\n",
              "      <td>Adventure Action Science Fiction</td>\n",
              "      <td>en</td>\n",
              "      <td>11000000</td>\n",
              "      <td>126.393695</td>\n",
              "      <td>25-05-1977</td>\n",
              "      <td>775398007</td>\n",
              "      <td>121.0</td>\n",
              "      <td>8.1</td>\n",
              "      <td>...</td>\n",
              "      <td>http://www.starwars.com/films/star-wars-episod...</td>\n",
              "      <td>android galaxy hermit death star lightsaber</td>\n",
              "      <td>Princess Leia is captured and held hostage by ...</td>\n",
              "      <td>[{\"name\": \"Lucasfilm\", \"id\": 1}, {\"name\": \"Twe...</td>\n",
              "      <td>[{\"iso_3166_1\": \"US\", \"name\": \"United States o...</td>\n",
              "      <td>[{\"iso_639_1\": \"en\", \"name\": \"English\"}]</td>\n",
              "      <td>A long time ago in a galaxy far, far away...</td>\n",
              "      <td>Mark Hamill Harrison Ford Carrie Fisher Peter ...</td>\n",
              "      <td>[{'name': 'George Lucas', 'gender': 2, 'depart...</td>\n",
              "      <td>George Lucas</td>\n",
              "    </tr>\n",
              "    <tr>\n",
              "      <th>2</th>\n",
              "      <td>3</td>\n",
              "      <td>Finding Nemo</td>\n",
              "      <td>Animation Family</td>\n",
              "      <td>en</td>\n",
              "      <td>94000000</td>\n",
              "      <td>85.688789</td>\n",
              "      <td>30-05-2003</td>\n",
              "      <td>940335536</td>\n",
              "      <td>100.0</td>\n",
              "      <td>7.6</td>\n",
              "      <td>...</td>\n",
              "      <td>http://movies.disney.com/finding-nemo</td>\n",
              "      <td>father son relationship harbor underwater fish...</td>\n",
              "      <td>Nemo, an adventurous young clownfish, is unexp...</td>\n",
              "      <td>[{\"name\": \"Pixar Animation Studios\", \"id\": 3}]</td>\n",
              "      <td>[{\"iso_3166_1\": \"US\", \"name\": \"United States o...</td>\n",
              "      <td>[{\"iso_639_1\": \"en\", \"name\": \"English\"}]</td>\n",
              "      <td>There are 3.7 trillion fish in the ocean, they...</td>\n",
              "      <td>Albert Brooks Ellen DeGeneres Alexander Gould ...</td>\n",
              "      <td>[{'name': 'Andrew Stanton', 'gender': 2, 'depa...</td>\n",
              "      <td>Andrew Stanton</td>\n",
              "    </tr>\n",
              "    <tr>\n",
              "      <th>3</th>\n",
              "      <td>4</td>\n",
              "      <td>Forrest Gump</td>\n",
              "      <td>Comedy Drama Romance</td>\n",
              "      <td>en</td>\n",
              "      <td>55000000</td>\n",
              "      <td>138.133331</td>\n",
              "      <td>06-07-1994</td>\n",
              "      <td>677945399</td>\n",
              "      <td>142.0</td>\n",
              "      <td>8.2</td>\n",
              "      <td>...</td>\n",
              "      <td>NaN</td>\n",
              "      <td>vietnam veteran hippie mentally disabled runni...</td>\n",
              "      <td>A man with a low IQ has accomplished great thi...</td>\n",
              "      <td>[{\"name\": \"Paramount Pictures\", \"id\": 4}]</td>\n",
              "      <td>[{\"iso_3166_1\": \"US\", \"name\": \"United States o...</td>\n",
              "      <td>[{\"iso_639_1\": \"en\", \"name\": \"English\"}]</td>\n",
              "      <td>The world will never be the same, once you've ...</td>\n",
              "      <td>Tom Hanks Robin Wright Gary Sinise Mykelti Wil...</td>\n",
              "      <td>[{'name': 'Alan Silvestri', 'gender': 2, 'depa...</td>\n",
              "      <td>Robert Zemeckis</td>\n",
              "    </tr>\n",
              "    <tr>\n",
              "      <th>4</th>\n",
              "      <td>5</td>\n",
              "      <td>American Beauty</td>\n",
              "      <td>Drama</td>\n",
              "      <td>en</td>\n",
              "      <td>15000000</td>\n",
              "      <td>80.878605</td>\n",
              "      <td>15-09-1999</td>\n",
              "      <td>356296601</td>\n",
              "      <td>122.0</td>\n",
              "      <td>7.9</td>\n",
              "      <td>...</td>\n",
              "      <td>http://www.dreamworks.com/ab/</td>\n",
              "      <td>male nudity female nudity adultery midlife cri...</td>\n",
              "      <td>Lester Burnham, a depressed suburban father in...</td>\n",
              "      <td>[{\"name\": \"DreamWorks SKG\", \"id\": 27}, {\"name\"...</td>\n",
              "      <td>[{\"iso_3166_1\": \"US\", \"name\": \"United States o...</td>\n",
              "      <td>[{\"iso_639_1\": \"en\", \"name\": \"English\"}]</td>\n",
              "      <td>Look closer.</td>\n",
              "      <td>Kevin Spacey Annette Bening Thora Birch Wes Be...</td>\n",
              "      <td>[{'name': 'Thomas Newman', 'gender': 2, 'depar...</td>\n",
              "      <td>Sam Mendes</td>\n",
              "    </tr>\n",
              "  </tbody>\n",
              "</table>\n",
              "<p>5 rows × 21 columns</p>\n",
              "</div>\n",
              "    <div class=\"colab-df-buttons\">\n",
              "\n",
              "  <div class=\"colab-df-container\">\n",
              "    <button class=\"colab-df-convert\" onclick=\"convertToInteractive('df-fa6ea101-2acf-4f6e-a4ce-42dc22f208dc')\"\n",
              "            title=\"Convert this dataframe to an interactive table.\"\n",
              "            style=\"display:none;\">\n",
              "\n",
              "  <svg xmlns=\"http://www.w3.org/2000/svg\" height=\"24px\" viewBox=\"0 -960 960 960\">\n",
              "    <path d=\"M120-120v-720h720v720H120Zm60-500h600v-160H180v160Zm220 220h160v-160H400v160Zm0 220h160v-160H400v160ZM180-400h160v-160H180v160Zm440 0h160v-160H620v160ZM180-180h160v-160H180v160Zm440 0h160v-160H620v160Z\"/>\n",
              "  </svg>\n",
              "    </button>\n",
              "\n",
              "  <style>\n",
              "    .colab-df-container {\n",
              "      display:flex;\n",
              "      gap: 12px;\n",
              "    }\n",
              "\n",
              "    .colab-df-convert {\n",
              "      background-color: #E8F0FE;\n",
              "      border: none;\n",
              "      border-radius: 50%;\n",
              "      cursor: pointer;\n",
              "      display: none;\n",
              "      fill: #1967D2;\n",
              "      height: 32px;\n",
              "      padding: 0 0 0 0;\n",
              "      width: 32px;\n",
              "    }\n",
              "\n",
              "    .colab-df-convert:hover {\n",
              "      background-color: #E2EBFA;\n",
              "      box-shadow: 0px 1px 2px rgba(60, 64, 67, 0.3), 0px 1px 3px 1px rgba(60, 64, 67, 0.15);\n",
              "      fill: #174EA6;\n",
              "    }\n",
              "\n",
              "    .colab-df-buttons div {\n",
              "      margin-bottom: 4px;\n",
              "    }\n",
              "\n",
              "    [theme=dark] .colab-df-convert {\n",
              "      background-color: #3B4455;\n",
              "      fill: #D2E3FC;\n",
              "    }\n",
              "\n",
              "    [theme=dark] .colab-df-convert:hover {\n",
              "      background-color: #434B5C;\n",
              "      box-shadow: 0px 1px 3px 1px rgba(0, 0, 0, 0.15);\n",
              "      filter: drop-shadow(0px 1px 2px rgba(0, 0, 0, 0.3));\n",
              "      fill: #FFFFFF;\n",
              "    }\n",
              "  </style>\n",
              "\n",
              "    <script>\n",
              "      const buttonEl =\n",
              "        document.querySelector('#df-fa6ea101-2acf-4f6e-a4ce-42dc22f208dc button.colab-df-convert');\n",
              "      buttonEl.style.display =\n",
              "        google.colab.kernel.accessAllowed ? 'block' : 'none';\n",
              "\n",
              "      async function convertToInteractive(key) {\n",
              "        const element = document.querySelector('#df-fa6ea101-2acf-4f6e-a4ce-42dc22f208dc');\n",
              "        const dataTable =\n",
              "          await google.colab.kernel.invokeFunction('convertToInteractive',\n",
              "                                                    [key], {});\n",
              "        if (!dataTable) return;\n",
              "\n",
              "        const docLinkHtml = 'Like what you see? Visit the ' +\n",
              "          '<a target=\"_blank\" href=https://colab.research.google.com/notebooks/data_table.ipynb>data table notebook</a>'\n",
              "          + ' to learn more about interactive tables.';\n",
              "        element.innerHTML = '';\n",
              "        dataTable['output_type'] = 'display_data';\n",
              "        await google.colab.output.renderOutput(dataTable, element);\n",
              "        const docLink = document.createElement('div');\n",
              "        docLink.innerHTML = docLinkHtml;\n",
              "        element.appendChild(docLink);\n",
              "      }\n",
              "    </script>\n",
              "  </div>\n",
              "\n",
              "\n",
              "<div id=\"df-7d1fa8de-4524-41fc-902d-b1cf746ea74d\">\n",
              "  <button class=\"colab-df-quickchart\" onclick=\"quickchart('df-7d1fa8de-4524-41fc-902d-b1cf746ea74d')\"\n",
              "            title=\"Suggest charts\"\n",
              "            style=\"display:none;\">\n",
              "\n",
              "<svg xmlns=\"http://www.w3.org/2000/svg\" height=\"24px\"viewBox=\"0 0 24 24\"\n",
              "     width=\"24px\">\n",
              "    <g>\n",
              "        <path d=\"M19 3H5c-1.1 0-2 .9-2 2v14c0 1.1.9 2 2 2h14c1.1 0 2-.9 2-2V5c0-1.1-.9-2-2-2zM9 17H7v-7h2v7zm4 0h-2V7h2v10zm4 0h-2v-4h2v4z\"/>\n",
              "    </g>\n",
              "</svg>\n",
              "  </button>\n",
              "\n",
              "<style>\n",
              "  .colab-df-quickchart {\n",
              "      --bg-color: #E8F0FE;\n",
              "      --fill-color: #1967D2;\n",
              "      --hover-bg-color: #E2EBFA;\n",
              "      --hover-fill-color: #174EA6;\n",
              "      --disabled-fill-color: #AAA;\n",
              "      --disabled-bg-color: #DDD;\n",
              "  }\n",
              "\n",
              "  [theme=dark] .colab-df-quickchart {\n",
              "      --bg-color: #3B4455;\n",
              "      --fill-color: #D2E3FC;\n",
              "      --hover-bg-color: #434B5C;\n",
              "      --hover-fill-color: #FFFFFF;\n",
              "      --disabled-bg-color: #3B4455;\n",
              "      --disabled-fill-color: #666;\n",
              "  }\n",
              "\n",
              "  .colab-df-quickchart {\n",
              "    background-color: var(--bg-color);\n",
              "    border: none;\n",
              "    border-radius: 50%;\n",
              "    cursor: pointer;\n",
              "    display: none;\n",
              "    fill: var(--fill-color);\n",
              "    height: 32px;\n",
              "    padding: 0;\n",
              "    width: 32px;\n",
              "  }\n",
              "\n",
              "  .colab-df-quickchart:hover {\n",
              "    background-color: var(--hover-bg-color);\n",
              "    box-shadow: 0 1px 2px rgba(60, 64, 67, 0.3), 0 1px 3px 1px rgba(60, 64, 67, 0.15);\n",
              "    fill: var(--button-hover-fill-color);\n",
              "  }\n",
              "\n",
              "  .colab-df-quickchart-complete:disabled,\n",
              "  .colab-df-quickchart-complete:disabled:hover {\n",
              "    background-color: var(--disabled-bg-color);\n",
              "    fill: var(--disabled-fill-color);\n",
              "    box-shadow: none;\n",
              "  }\n",
              "\n",
              "  .colab-df-spinner {\n",
              "    border: 2px solid var(--fill-color);\n",
              "    border-color: transparent;\n",
              "    border-bottom-color: var(--fill-color);\n",
              "    animation:\n",
              "      spin 1s steps(1) infinite;\n",
              "  }\n",
              "\n",
              "  @keyframes spin {\n",
              "    0% {\n",
              "      border-color: transparent;\n",
              "      border-bottom-color: var(--fill-color);\n",
              "      border-left-color: var(--fill-color);\n",
              "    }\n",
              "    20% {\n",
              "      border-color: transparent;\n",
              "      border-left-color: var(--fill-color);\n",
              "      border-top-color: var(--fill-color);\n",
              "    }\n",
              "    30% {\n",
              "      border-color: transparent;\n",
              "      border-left-color: var(--fill-color);\n",
              "      border-top-color: var(--fill-color);\n",
              "      border-right-color: var(--fill-color);\n",
              "    }\n",
              "    40% {\n",
              "      border-color: transparent;\n",
              "      border-right-color: var(--fill-color);\n",
              "      border-top-color: var(--fill-color);\n",
              "    }\n",
              "    60% {\n",
              "      border-color: transparent;\n",
              "      border-right-color: var(--fill-color);\n",
              "    }\n",
              "    80% {\n",
              "      border-color: transparent;\n",
              "      border-right-color: var(--fill-color);\n",
              "      border-bottom-color: var(--fill-color);\n",
              "    }\n",
              "    90% {\n",
              "      border-color: transparent;\n",
              "      border-bottom-color: var(--fill-color);\n",
              "    }\n",
              "  }\n",
              "</style>\n",
              "\n",
              "  <script>\n",
              "    async function quickchart(key) {\n",
              "      const quickchartButtonEl =\n",
              "        document.querySelector('#' + key + ' button');\n",
              "      quickchartButtonEl.disabled = true;  // To prevent multiple clicks.\n",
              "      quickchartButtonEl.classList.add('colab-df-spinner');\n",
              "      try {\n",
              "        const charts = await google.colab.kernel.invokeFunction(\n",
              "            'suggestCharts', [key], {});\n",
              "      } catch (error) {\n",
              "        console.error('Error during call to suggestCharts:', error);\n",
              "      }\n",
              "      quickchartButtonEl.classList.remove('colab-df-spinner');\n",
              "      quickchartButtonEl.classList.add('colab-df-quickchart-complete');\n",
              "    }\n",
              "    (() => {\n",
              "      let quickchartButtonEl =\n",
              "        document.querySelector('#df-7d1fa8de-4524-41fc-902d-b1cf746ea74d button');\n",
              "      quickchartButtonEl.style.display =\n",
              "        google.colab.kernel.accessAllowed ? 'block' : 'none';\n",
              "    })();\n",
              "  </script>\n",
              "</div>\n",
              "\n",
              "    </div>\n",
              "  </div>\n"
            ],
            "application/vnd.google.colaboratory.intrinsic+json": {
              "type": "dataframe",
              "variable_name": "df"
            }
          },
          "metadata": {},
          "execution_count": 10
        }
      ]
    },
    {
      "cell_type": "code",
      "source": [],
      "metadata": {
        "id": "ewiSr3carSTU"
      },
      "execution_count": null,
      "outputs": []
    },
    {
      "cell_type": "markdown",
      "source": [
        "# **Feature Selection**\n",
        "\n",
        "\n"
      ],
      "metadata": {
        "id": "-mJ4xni4molq"
      }
    },
    {
      "cell_type": "code",
      "source": [
        "df.columns"
      ],
      "metadata": {
        "colab": {
          "base_uri": "https://localhost:8080/"
        },
        "id": "ouRsfDZKpQC6",
        "outputId": "fa213e0d-e7ef-4d76-dd33-0022244d1b48"
      },
      "execution_count": 14,
      "outputs": [
        {
          "output_type": "execute_result",
          "data": {
            "text/plain": [
              "Index(['Movie_ID', 'Movie_Title', 'Movie_Genre', 'Movie_Language',\n",
              "       'Movie_Budget', 'Movie_Popularity', 'Movie_Release_Date',\n",
              "       'Movie_Revenue', 'Movie_Runtime', 'Movie_Vote', 'Movie_Vote_Count',\n",
              "       'Movie_Homepage', 'Movie_Keywords', 'Movie_Overview',\n",
              "       'Movie_Production_House', 'Movie_Production_Country',\n",
              "       'Movie_Spoken_Language', 'Movie_Tagline', 'Movie_Cast', 'Movie_Crew',\n",
              "       'Movie_Director'],\n",
              "      dtype='object')"
            ]
          },
          "metadata": {},
          "execution_count": 14
        }
      ]
    },
    {
      "cell_type": "code",
      "source": [
        "df_feature=df[['Movie_Genre', 'Movie_Keywords',  'Movie_Tagline', 'Movie_Cast', 'Movie_Director']]"
      ],
      "metadata": {
        "id": "FADdb--2pQAV"
      },
      "execution_count": 17,
      "outputs": []
    },
    {
      "cell_type": "code",
      "source": [
        "df_feature.fillna(' ',inplace=True)"
      ],
      "metadata": {
        "colab": {
          "base_uri": "https://localhost:8080/"
        },
        "id": "W3WcqnHxpP94",
        "outputId": "0b697956-f674-4439-a30f-b766c14d7cba"
      },
      "execution_count": 18,
      "outputs": [
        {
          "output_type": "stream",
          "name": "stderr",
          "text": [
            "<ipython-input-18-24d437af535e>:1: SettingWithCopyWarning: \n",
            "A value is trying to be set on a copy of a slice from a DataFrame\n",
            "\n",
            "See the caveats in the documentation: https://pandas.pydata.org/pandas-docs/stable/user_guide/indexing.html#returning-a-view-versus-a-copy\n",
            "  df_feature.fillna(' ',inplace=True)\n"
          ]
        }
      ]
    },
    {
      "cell_type": "code",
      "source": [
        "df_feature.head()"
      ],
      "metadata": {
        "colab": {
          "base_uri": "https://localhost:8080/",
          "height": 206
        },
        "id": "s6dM9KwspP7F",
        "outputId": "afdd2479-1936-4de0-8287-0c89275158e4"
      },
      "execution_count": 19,
      "outputs": [
        {
          "output_type": "execute_result",
          "data": {
            "text/plain": [
              "                        Movie_Genre  \\\n",
              "0                      Crime Comedy   \n",
              "1  Adventure Action Science Fiction   \n",
              "2                  Animation Family   \n",
              "3              Comedy Drama Romance   \n",
              "4                             Drama   \n",
              "\n",
              "                                      Movie_Keywords  \\\n",
              "0          hotel new year's eve witch bet hotel room   \n",
              "1        android galaxy hermit death star lightsaber   \n",
              "2  father son relationship harbor underwater fish...   \n",
              "3  vietnam veteran hippie mentally disabled runni...   \n",
              "4  male nudity female nudity adultery midlife cri...   \n",
              "\n",
              "                                       Movie_Tagline  \\\n",
              "0  Twelve outrageous guests. Four scandalous requ...   \n",
              "1       A long time ago in a galaxy far, far away...   \n",
              "2  There are 3.7 trillion fish in the ocean, they...   \n",
              "3  The world will never be the same, once you've ...   \n",
              "4                                       Look closer.   \n",
              "\n",
              "                                          Movie_Cast   Movie_Director  \n",
              "0  Tim Roth Antonio Banderas Jennifer Beals Madon...   Allison Anders  \n",
              "1  Mark Hamill Harrison Ford Carrie Fisher Peter ...     George Lucas  \n",
              "2  Albert Brooks Ellen DeGeneres Alexander Gould ...   Andrew Stanton  \n",
              "3  Tom Hanks Robin Wright Gary Sinise Mykelti Wil...  Robert Zemeckis  \n",
              "4  Kevin Spacey Annette Bening Thora Birch Wes Be...       Sam Mendes  "
            ],
            "text/html": [
              "\n",
              "  <div id=\"df-752cf082-d084-46b9-a287-8e0873d032d4\" class=\"colab-df-container\">\n",
              "    <div>\n",
              "<style scoped>\n",
              "    .dataframe tbody tr th:only-of-type {\n",
              "        vertical-align: middle;\n",
              "    }\n",
              "\n",
              "    .dataframe tbody tr th {\n",
              "        vertical-align: top;\n",
              "    }\n",
              "\n",
              "    .dataframe thead th {\n",
              "        text-align: right;\n",
              "    }\n",
              "</style>\n",
              "<table border=\"1\" class=\"dataframe\">\n",
              "  <thead>\n",
              "    <tr style=\"text-align: right;\">\n",
              "      <th></th>\n",
              "      <th>Movie_Genre</th>\n",
              "      <th>Movie_Keywords</th>\n",
              "      <th>Movie_Tagline</th>\n",
              "      <th>Movie_Cast</th>\n",
              "      <th>Movie_Director</th>\n",
              "    </tr>\n",
              "  </thead>\n",
              "  <tbody>\n",
              "    <tr>\n",
              "      <th>0</th>\n",
              "      <td>Crime Comedy</td>\n",
              "      <td>hotel new year's eve witch bet hotel room</td>\n",
              "      <td>Twelve outrageous guests. Four scandalous requ...</td>\n",
              "      <td>Tim Roth Antonio Banderas Jennifer Beals Madon...</td>\n",
              "      <td>Allison Anders</td>\n",
              "    </tr>\n",
              "    <tr>\n",
              "      <th>1</th>\n",
              "      <td>Adventure Action Science Fiction</td>\n",
              "      <td>android galaxy hermit death star lightsaber</td>\n",
              "      <td>A long time ago in a galaxy far, far away...</td>\n",
              "      <td>Mark Hamill Harrison Ford Carrie Fisher Peter ...</td>\n",
              "      <td>George Lucas</td>\n",
              "    </tr>\n",
              "    <tr>\n",
              "      <th>2</th>\n",
              "      <td>Animation Family</td>\n",
              "      <td>father son relationship harbor underwater fish...</td>\n",
              "      <td>There are 3.7 trillion fish in the ocean, they...</td>\n",
              "      <td>Albert Brooks Ellen DeGeneres Alexander Gould ...</td>\n",
              "      <td>Andrew Stanton</td>\n",
              "    </tr>\n",
              "    <tr>\n",
              "      <th>3</th>\n",
              "      <td>Comedy Drama Romance</td>\n",
              "      <td>vietnam veteran hippie mentally disabled runni...</td>\n",
              "      <td>The world will never be the same, once you've ...</td>\n",
              "      <td>Tom Hanks Robin Wright Gary Sinise Mykelti Wil...</td>\n",
              "      <td>Robert Zemeckis</td>\n",
              "    </tr>\n",
              "    <tr>\n",
              "      <th>4</th>\n",
              "      <td>Drama</td>\n",
              "      <td>male nudity female nudity adultery midlife cri...</td>\n",
              "      <td>Look closer.</td>\n",
              "      <td>Kevin Spacey Annette Bening Thora Birch Wes Be...</td>\n",
              "      <td>Sam Mendes</td>\n",
              "    </tr>\n",
              "  </tbody>\n",
              "</table>\n",
              "</div>\n",
              "    <div class=\"colab-df-buttons\">\n",
              "\n",
              "  <div class=\"colab-df-container\">\n",
              "    <button class=\"colab-df-convert\" onclick=\"convertToInteractive('df-752cf082-d084-46b9-a287-8e0873d032d4')\"\n",
              "            title=\"Convert this dataframe to an interactive table.\"\n",
              "            style=\"display:none;\">\n",
              "\n",
              "  <svg xmlns=\"http://www.w3.org/2000/svg\" height=\"24px\" viewBox=\"0 -960 960 960\">\n",
              "    <path d=\"M120-120v-720h720v720H120Zm60-500h600v-160H180v160Zm220 220h160v-160H400v160Zm0 220h160v-160H400v160ZM180-400h160v-160H180v160Zm440 0h160v-160H620v160ZM180-180h160v-160H180v160Zm440 0h160v-160H620v160Z\"/>\n",
              "  </svg>\n",
              "    </button>\n",
              "\n",
              "  <style>\n",
              "    .colab-df-container {\n",
              "      display:flex;\n",
              "      gap: 12px;\n",
              "    }\n",
              "\n",
              "    .colab-df-convert {\n",
              "      background-color: #E8F0FE;\n",
              "      border: none;\n",
              "      border-radius: 50%;\n",
              "      cursor: pointer;\n",
              "      display: none;\n",
              "      fill: #1967D2;\n",
              "      height: 32px;\n",
              "      padding: 0 0 0 0;\n",
              "      width: 32px;\n",
              "    }\n",
              "\n",
              "    .colab-df-convert:hover {\n",
              "      background-color: #E2EBFA;\n",
              "      box-shadow: 0px 1px 2px rgba(60, 64, 67, 0.3), 0px 1px 3px 1px rgba(60, 64, 67, 0.15);\n",
              "      fill: #174EA6;\n",
              "    }\n",
              "\n",
              "    .colab-df-buttons div {\n",
              "      margin-bottom: 4px;\n",
              "    }\n",
              "\n",
              "    [theme=dark] .colab-df-convert {\n",
              "      background-color: #3B4455;\n",
              "      fill: #D2E3FC;\n",
              "    }\n",
              "\n",
              "    [theme=dark] .colab-df-convert:hover {\n",
              "      background-color: #434B5C;\n",
              "      box-shadow: 0px 1px 3px 1px rgba(0, 0, 0, 0.15);\n",
              "      filter: drop-shadow(0px 1px 2px rgba(0, 0, 0, 0.3));\n",
              "      fill: #FFFFFF;\n",
              "    }\n",
              "  </style>\n",
              "\n",
              "    <script>\n",
              "      const buttonEl =\n",
              "        document.querySelector('#df-752cf082-d084-46b9-a287-8e0873d032d4 button.colab-df-convert');\n",
              "      buttonEl.style.display =\n",
              "        google.colab.kernel.accessAllowed ? 'block' : 'none';\n",
              "\n",
              "      async function convertToInteractive(key) {\n",
              "        const element = document.querySelector('#df-752cf082-d084-46b9-a287-8e0873d032d4');\n",
              "        const dataTable =\n",
              "          await google.colab.kernel.invokeFunction('convertToInteractive',\n",
              "                                                    [key], {});\n",
              "        if (!dataTable) return;\n",
              "\n",
              "        const docLinkHtml = 'Like what you see? Visit the ' +\n",
              "          '<a target=\"_blank\" href=https://colab.research.google.com/notebooks/data_table.ipynb>data table notebook</a>'\n",
              "          + ' to learn more about interactive tables.';\n",
              "        element.innerHTML = '';\n",
              "        dataTable['output_type'] = 'display_data';\n",
              "        await google.colab.output.renderOutput(dataTable, element);\n",
              "        const docLink = document.createElement('div');\n",
              "        docLink.innerHTML = docLinkHtml;\n",
              "        element.appendChild(docLink);\n",
              "      }\n",
              "    </script>\n",
              "  </div>\n",
              "\n",
              "\n",
              "<div id=\"df-4f410717-21a2-40af-b0e5-5e987c674afc\">\n",
              "  <button class=\"colab-df-quickchart\" onclick=\"quickchart('df-4f410717-21a2-40af-b0e5-5e987c674afc')\"\n",
              "            title=\"Suggest charts\"\n",
              "            style=\"display:none;\">\n",
              "\n",
              "<svg xmlns=\"http://www.w3.org/2000/svg\" height=\"24px\"viewBox=\"0 0 24 24\"\n",
              "     width=\"24px\">\n",
              "    <g>\n",
              "        <path d=\"M19 3H5c-1.1 0-2 .9-2 2v14c0 1.1.9 2 2 2h14c1.1 0 2-.9 2-2V5c0-1.1-.9-2-2-2zM9 17H7v-7h2v7zm4 0h-2V7h2v10zm4 0h-2v-4h2v4z\"/>\n",
              "    </g>\n",
              "</svg>\n",
              "  </button>\n",
              "\n",
              "<style>\n",
              "  .colab-df-quickchart {\n",
              "      --bg-color: #E8F0FE;\n",
              "      --fill-color: #1967D2;\n",
              "      --hover-bg-color: #E2EBFA;\n",
              "      --hover-fill-color: #174EA6;\n",
              "      --disabled-fill-color: #AAA;\n",
              "      --disabled-bg-color: #DDD;\n",
              "  }\n",
              "\n",
              "  [theme=dark] .colab-df-quickchart {\n",
              "      --bg-color: #3B4455;\n",
              "      --fill-color: #D2E3FC;\n",
              "      --hover-bg-color: #434B5C;\n",
              "      --hover-fill-color: #FFFFFF;\n",
              "      --disabled-bg-color: #3B4455;\n",
              "      --disabled-fill-color: #666;\n",
              "  }\n",
              "\n",
              "  .colab-df-quickchart {\n",
              "    background-color: var(--bg-color);\n",
              "    border: none;\n",
              "    border-radius: 50%;\n",
              "    cursor: pointer;\n",
              "    display: none;\n",
              "    fill: var(--fill-color);\n",
              "    height: 32px;\n",
              "    padding: 0;\n",
              "    width: 32px;\n",
              "  }\n",
              "\n",
              "  .colab-df-quickchart:hover {\n",
              "    background-color: var(--hover-bg-color);\n",
              "    box-shadow: 0 1px 2px rgba(60, 64, 67, 0.3), 0 1px 3px 1px rgba(60, 64, 67, 0.15);\n",
              "    fill: var(--button-hover-fill-color);\n",
              "  }\n",
              "\n",
              "  .colab-df-quickchart-complete:disabled,\n",
              "  .colab-df-quickchart-complete:disabled:hover {\n",
              "    background-color: var(--disabled-bg-color);\n",
              "    fill: var(--disabled-fill-color);\n",
              "    box-shadow: none;\n",
              "  }\n",
              "\n",
              "  .colab-df-spinner {\n",
              "    border: 2px solid var(--fill-color);\n",
              "    border-color: transparent;\n",
              "    border-bottom-color: var(--fill-color);\n",
              "    animation:\n",
              "      spin 1s steps(1) infinite;\n",
              "  }\n",
              "\n",
              "  @keyframes spin {\n",
              "    0% {\n",
              "      border-color: transparent;\n",
              "      border-bottom-color: var(--fill-color);\n",
              "      border-left-color: var(--fill-color);\n",
              "    }\n",
              "    20% {\n",
              "      border-color: transparent;\n",
              "      border-left-color: var(--fill-color);\n",
              "      border-top-color: var(--fill-color);\n",
              "    }\n",
              "    30% {\n",
              "      border-color: transparent;\n",
              "      border-left-color: var(--fill-color);\n",
              "      border-top-color: var(--fill-color);\n",
              "      border-right-color: var(--fill-color);\n",
              "    }\n",
              "    40% {\n",
              "      border-color: transparent;\n",
              "      border-right-color: var(--fill-color);\n",
              "      border-top-color: var(--fill-color);\n",
              "    }\n",
              "    60% {\n",
              "      border-color: transparent;\n",
              "      border-right-color: var(--fill-color);\n",
              "    }\n",
              "    80% {\n",
              "      border-color: transparent;\n",
              "      border-right-color: var(--fill-color);\n",
              "      border-bottom-color: var(--fill-color);\n",
              "    }\n",
              "    90% {\n",
              "      border-color: transparent;\n",
              "      border-bottom-color: var(--fill-color);\n",
              "    }\n",
              "  }\n",
              "</style>\n",
              "\n",
              "  <script>\n",
              "    async function quickchart(key) {\n",
              "      const quickchartButtonEl =\n",
              "        document.querySelector('#' + key + ' button');\n",
              "      quickchartButtonEl.disabled = true;  // To prevent multiple clicks.\n",
              "      quickchartButtonEl.classList.add('colab-df-spinner');\n",
              "      try {\n",
              "        const charts = await google.colab.kernel.invokeFunction(\n",
              "            'suggestCharts', [key], {});\n",
              "      } catch (error) {\n",
              "        console.error('Error during call to suggestCharts:', error);\n",
              "      }\n",
              "      quickchartButtonEl.classList.remove('colab-df-spinner');\n",
              "      quickchartButtonEl.classList.add('colab-df-quickchart-complete');\n",
              "    }\n",
              "    (() => {\n",
              "      let quickchartButtonEl =\n",
              "        document.querySelector('#df-4f410717-21a2-40af-b0e5-5e987c674afc button');\n",
              "      quickchartButtonEl.style.display =\n",
              "        google.colab.kernel.accessAllowed ? 'block' : 'none';\n",
              "    })();\n",
              "  </script>\n",
              "</div>\n",
              "\n",
              "    </div>\n",
              "  </div>\n"
            ],
            "application/vnd.google.colaboratory.intrinsic+json": {
              "type": "dataframe",
              "variable_name": "df_feature",
              "summary": "{\n  \"name\": \"df_feature\",\n  \"rows\": 4760,\n  \"fields\": [\n    {\n      \"column\": \"Movie_Genre\",\n      \"properties\": {\n        \"dtype\": \"category\",\n        \"num_unique_values\": 1164,\n        \"samples\": [\n          \"Family Animation Adventure\",\n          \"Adventure Science Fiction Action\",\n          \"Action Crime Drama Romance Thriller\"\n        ],\n        \"semantic_type\": \"\",\n        \"description\": \"\"\n      }\n    },\n    {\n      \"column\": \"Movie_Keywords\",\n      \"properties\": {\n        \"dtype\": \"string\",\n        \"num_unique_values\": 4203,\n        \"samples\": [\n          \"canada nazis sequel spin off ancient evil\",\n          \"sex professor wedding woman director columbia university\",\n          \"prophecy sea beach gold small town\"\n        ],\n        \"semantic_type\": \"\",\n        \"description\": \"\"\n      }\n    },\n    {\n      \"column\": \"Movie_Tagline\",\n      \"properties\": {\n        \"dtype\": \"string\",\n        \"num_unique_values\": 3928,\n        \"samples\": [\n          \"The messenger must be silenced.\",\n          \"It's not the house that's haunted.\",\n          \"The final hunt begins.\"\n        ],\n        \"semantic_type\": \"\",\n        \"description\": \"\"\n      }\n    },\n    {\n      \"column\": \"Movie_Cast\",\n      \"properties\": {\n        \"dtype\": \"string\",\n        \"num_unique_values\": 4715,\n        \"samples\": [\n          \"Robin Tunney Fairuza Balk Neve Campbell Rachel True Skeet Ulrich\",\n          \"Peter Sellers Christopher Plummer Herbert Lom Catherine Schell Peter Arne\",\n          \"John Wayne Laraine Day Cedric Hardwicke Judith Anderson Anthony Quinn\"\n        ],\n        \"semantic_type\": \"\",\n        \"description\": \"\"\n      }\n    },\n    {\n      \"column\": \"Movie_Director\",\n      \"properties\": {\n        \"dtype\": \"category\",\n        \"num_unique_values\": 2332,\n        \"samples\": [\n          \"Rob McKittrick\",\n          \"Terron R. Parsons\",\n          \"Cyrus Nowrasteh\"\n        ],\n        \"semantic_type\": \"\",\n        \"description\": \"\"\n      }\n    }\n  ]\n}"
            }
          },
          "metadata": {},
          "execution_count": 19
        }
      ]
    },
    {
      "cell_type": "code",
      "source": [
        "df_feature.shape"
      ],
      "metadata": {
        "colab": {
          "base_uri": "https://localhost:8080/"
        },
        "id": "dgfHan5NrFOY",
        "outputId": "5b96bcba-243f-47c5-e5f3-5b7abe1d4d99"
      },
      "execution_count": 20,
      "outputs": [
        {
          "output_type": "execute_result",
          "data": {
            "text/plain": [
              "(4760, 5)"
            ]
          },
          "metadata": {},
          "execution_count": 20
        }
      ]
    },
    {
      "cell_type": "code",
      "source": [
        "x=df_feature[:].T.sum()\n"
      ],
      "metadata": {
        "id": "NF53GtJ1rU3Q"
      },
      "execution_count": 30,
      "outputs": []
    },
    {
      "cell_type": "code",
      "source": [
        "x"
      ],
      "metadata": {
        "colab": {
          "base_uri": "https://localhost:8080/"
        },
        "id": "WBeTGiWXrub8",
        "outputId": "8ad23060-8ab1-4a8f-ef98-347f3b761d3b"
      },
      "execution_count": 31,
      "outputs": [
        {
          "output_type": "execute_result",
          "data": {
            "text/plain": [
              "0       Crime Comedyhotel new year's eve witch bet hot...\n",
              "1       Adventure Action Science Fictionandroid galaxy...\n",
              "2       Animation Familyfather son relationship harbor...\n",
              "3       Comedy Drama Romancevietnam veteran hippie men...\n",
              "4       Dramamale nudity female nudity adultery midlif...\n",
              "                              ...                        \n",
              "4755    Horror The hot spot where Satan's waitin'.Lisa...\n",
              "4756    Comedy Family Drama It’s better to stand out t...\n",
              "4757    Thriller Dramachristian film sex traffickingSh...\n",
              "4758                                           Family    \n",
              "4759    Documentarymusic actors legendary perfomer cla...\n",
              "Length: 4760, dtype: object"
            ]
          },
          "metadata": {},
          "execution_count": 31
        }
      ]
    },
    {
      "cell_type": "markdown",
      "source": [
        "## **Get Feature Text Convestion to token**"
      ],
      "metadata": {
        "id": "5igc93oUqEgR"
      }
    },
    {
      "cell_type": "code",
      "source": [
        "from sklearn.feature_extraction.text import TfidfVectorizer\n",
        "vectorizer = TfidfVectorizer()"
      ],
      "metadata": {
        "id": "gw7p56HTpP4g"
      },
      "execution_count": 32,
      "outputs": []
    },
    {
      "cell_type": "code",
      "source": [
        "x=vectorizer.fit_transform(x)"
      ],
      "metadata": {
        "id": "MN4UGVZQsTLu"
      },
      "execution_count": 34,
      "outputs": []
    },
    {
      "cell_type": "code",
      "source": [
        "x.shape"
      ],
      "metadata": {
        "colab": {
          "base_uri": "https://localhost:8080/"
        },
        "id": "QT-qGbvTscNi",
        "outputId": "ce2a0dfd-6f40-4094-a0d0-3a4883cefde2"
      },
      "execution_count": 37,
      "outputs": [
        {
          "output_type": "execute_result",
          "data": {
            "text/plain": [
              "(4760, 26690)"
            ]
          },
          "metadata": {},
          "execution_count": 37
        }
      ]
    },
    {
      "cell_type": "code",
      "source": [
        "print(x)"
      ],
      "metadata": {
        "colab": {
          "base_uri": "https://localhost:8080/"
        },
        "id": "WXtjQxIcsguN",
        "outputId": "e73b211b-c325-4b9f-88b2-c2dc5434cea2"
      },
      "execution_count": 38,
      "outputs": [
        {
          "output_type": "stream",
          "name": "stdout",
          "text": [
            "  (0, 997)\t0.16218897716465208\n",
            "  (0, 24042)\t0.19573940525923644\n",
            "  (0, 15312)\t0.14125963661980098\n",
            "  (0, 15025)\t0.1712334106383567\n",
            "  (0, 2087)\t0.18027784411206133\n",
            "  (0, 12800)\t0.09884510196398825\n",
            "  (0, 1843)\t0.14125963661980098\n",
            "  (0, 1180)\t0.13768298254377234\n",
            "  (0, 20504)\t0.14225119175320491\n",
            "  (0, 23960)\t0.11263290442298864\n",
            "  (0, 14419)\t0.0911952674290389\n",
            "  (0, 17528)\t0.06209189423364648\n",
            "  (0, 25971)\t0.17530033318796678\n",
            "  (0, 9354)\t0.08724859486116572\n",
            "  (0, 25910)\t0.11107601799071852\n",
            "  (0, 12887)\t0.13687175432284468\n",
            "  (0, 23406)\t0.10688255470486582\n",
            "  (0, 17624)\t0.07289043954163378\n",
            "  (0, 6008)\t0.11987121627273684\n",
            "  (0, 9193)\t0.11774519713232517\n",
            "  (0, 11492)\t0.20162471321580175\n",
            "  (0, 12300)\t0.15282415865976737\n",
            "  (0, 2246)\t0.19573940525923644\n",
            "  (0, 14648)\t0.15398639143293763\n",
            "  (0, 17628)\t0.08583051970457106\n",
            "  :\t:\n",
            "  (4757, 5275)\t0.19907175627875004\n",
            "  (4757, 10885)\t0.21770852711405092\n",
            "  (4757, 21357)\t0.16607843368803332\n",
            "  (4757, 17223)\t0.1880313826922281\n",
            "  (4757, 9090)\t0.1350664057724148\n",
            "  (4757, 13655)\t0.23511957471226388\n",
            "  (4757, 11296)\t0.1742104681917816\n",
            "  (4757, 13533)\t0.1780111577507305\n",
            "  (4757, 23531)\t0.10682342453037985\n",
            "  (4757, 24003)\t0.0982501180608628\n",
            "  (4757, 12564)\t0.12474473883004708\n",
            "  (4757, 17155)\t0.14996371815569692\n",
            "  (4758, 8316)\t1.0\n",
            "  (4759, 17659)\t0.32858085544617605\n",
            "  (4759, 21774)\t0.32858085544617605\n",
            "  (4759, 18268)\t0.32858085544617605\n",
            "  (4759, 6708)\t0.32858085544617605\n",
            "  (4759, 333)\t0.31339828306694556\n",
            "  (4759, 14218)\t0.31339828306694556\n",
            "  (4759, 11666)\t0.26831572508904095\n",
            "  (4759, 4368)\t0.27667129761806547\n",
            "  (4759, 16987)\t0.30262607653212076\n",
            "  (4759, 9506)\t0.21199580141652455\n",
            "  (4759, 24062)\t0.20586872532474834\n",
            "  (4759, 2239)\t0.21036750875646193\n"
          ]
        }
      ]
    },
    {
      "cell_type": "markdown",
      "source": [
        "## **Get similaruty score using Cosine Similarity**"
      ],
      "metadata": {
        "id": "_VDzykCZmojH"
      }
    },
    {
      "cell_type": "markdown",
      "source": [
        "cosine-similarity computes the L2-normalized dot product of vectors, Euclidean\n",
        " L2) normalization projects the vectors onto the unit sphere.\n",
        "and their dot product iS then the cosine of the angle between the points denoted by the vectors."
      ],
      "metadata": {
        "id": "tP-lpurxtiyJ"
      }
    },
    {
      "cell_type": "code",
      "source": [
        "from sklearn.metrics.pairwise import cosine_similarity\n",
        "Similarity_Score=cosine_similarity(x)"
      ],
      "metadata": {
        "id": "5VJo-LpItPJx"
      },
      "execution_count": 41,
      "outputs": []
    },
    {
      "cell_type": "code",
      "source": [
        "Similarity_Score.shape"
      ],
      "metadata": {
        "colab": {
          "base_uri": "https://localhost:8080/"
        },
        "id": "ZPoQnE03tPPN",
        "outputId": "e87d94be-b3b9-4f91-cfb3-6731fc15716b"
      },
      "execution_count": 43,
      "outputs": [
        {
          "output_type": "execute_result",
          "data": {
            "text/plain": [
              "(4760, 4760)"
            ]
          },
          "metadata": {},
          "execution_count": 43
        }
      ]
    },
    {
      "cell_type": "code",
      "source": [
        "Similarity_Score"
      ],
      "metadata": {
        "colab": {
          "base_uri": "https://localhost:8080/"
        },
        "id": "kRBDpnflmVKT",
        "outputId": "2b2bd6f9-fc2b-4b3e-8279-da949f7fba39"
      },
      "execution_count": 44,
      "outputs": [
        {
          "output_type": "execute_result",
          "data": {
            "text/plain": [
              "array([[1.        , 0.01434112, 0.03803458, ..., 0.        , 0.        ,\n",
              "        0.        ],\n",
              "       [0.01434112, 1.        , 0.0084257 , ..., 0.        , 0.        ,\n",
              "        0.        ],\n",
              "       [0.03803458, 0.0084257 , 1.        , ..., 0.        , 0.        ,\n",
              "        0.        ],\n",
              "       ...,\n",
              "       [0.        , 0.        , 0.        , ..., 1.        , 0.        ,\n",
              "        0.        ],\n",
              "       [0.        , 0.        , 0.        , ..., 0.        , 1.        ,\n",
              "        0.        ],\n",
              "       [0.        , 0.        , 0.        , ..., 0.        , 0.        ,\n",
              "        1.        ]])"
            ]
          },
          "metadata": {},
          "execution_count": 44
        }
      ]
    },
    {
      "cell_type": "code",
      "source": [],
      "metadata": {
        "id": "xhPVI923mVNE"
      },
      "execution_count": null,
      "outputs": []
    },
    {
      "cell_type": "markdown",
      "source": [
        "# **Get Movie Name as input from user and validate for closest spelling**"
      ],
      "metadata": {
        "id": "4UjzTgr-vQED"
      }
    },
    {
      "cell_type": "code",
      "source": [
        "Fav_movice_name=input(\"Enter Favaurite movie name: \")"
      ],
      "metadata": {
        "colab": {
          "base_uri": "https://localhost:8080/"
        },
        "id": "s80xGlyomVPm",
        "outputId": "445a5964-b97b-4c57-91db-6ce7b4f2b0d6"
      },
      "execution_count": 53,
      "outputs": [
        {
          "name": "stdout",
          "output_type": "stream",
          "text": [
            "Enter Favaurite movie name: Titatic\n"
          ]
        }
      ]
    },
    {
      "cell_type": "code",
      "source": [
        "All_movies_titile_list=df['Movie_Title'].tolist()\n",
        "All_movies_titile_list[1:10]"
      ],
      "metadata": {
        "colab": {
          "base_uri": "https://localhost:8080/"
        },
        "id": "aXl2QnHXvsCY",
        "outputId": "48259ddb-67e7-4638-ffce-00b98ace14d4"
      },
      "execution_count": 54,
      "outputs": [
        {
          "output_type": "execute_result",
          "data": {
            "text/plain": [
              "['Star Wars',\n",
              " 'Finding Nemo',\n",
              " 'Forrest Gump',\n",
              " 'American Beauty',\n",
              " 'Dancer in the Dark',\n",
              " 'The Fifth Element',\n",
              " 'Metropolis',\n",
              " 'My Life Without Me',\n",
              " 'Pirates of the Caribbean: The Curse of the Black Pearl']"
            ]
          },
          "metadata": {},
          "execution_count": 54
        }
      ]
    },
    {
      "cell_type": "code",
      "source": [
        "import difflib"
      ],
      "metadata": {
        "id": "DH5uplFOvsE7"
      },
      "execution_count": 49,
      "outputs": []
    },
    {
      "cell_type": "code",
      "source": [
        "#choose the close matches name from movice list\n",
        "Movie_rec=difflib.get_close_matches(Fav_movice_name,All_movies_titile_list)[0]\n",
        "print(Movie_rec)"
      ],
      "metadata": {
        "colab": {
          "base_uri": "https://localhost:8080/"
        },
        "id": "-3bCzmxQvsHw",
        "outputId": "f705a202-d7c4-4a4d-a777-20be0ba1bc61"
      },
      "execution_count": 55,
      "outputs": [
        {
          "output_type": "stream",
          "name": "stdout",
          "text": [
            "Titanic\n"
          ]
        }
      ]
    },
    {
      "cell_type": "code",
      "source": [
        "#index of the movice of input from user\n",
        "index_of_Close_movie_match=df[df['Movie_Title']==Movie_rec].iloc[0][0]\n",
        "index_of_Close_movie_match"
      ],
      "metadata": {
        "colab": {
          "base_uri": "https://localhost:8080/"
        },
        "id": "FA5RpBURvsKY",
        "outputId": "af47f9ae-0184-4e5b-9b42-33f33b98d626"
      },
      "execution_count": 62,
      "outputs": [
        {
          "output_type": "execute_result",
          "data": {
            "text/plain": [
              "256"
            ]
          },
          "metadata": {},
          "execution_count": 62
        }
      ]
    },
    {
      "cell_type": "code",
      "source": [
        "Recomedation_score=list(enumerate(Similarity_Score[index_of_Close_movie_match]))"
      ],
      "metadata": {
        "id": "IS20nLgqyzTs"
      },
      "execution_count": 77,
      "outputs": []
    },
    {
      "cell_type": "markdown",
      "source": [
        "# **Get All movies based on recommendation score**"
      ],
      "metadata": {
        "id": "QchBxynKzOjB"
      }
    },
    {
      "cell_type": "code",
      "source": [
        "#sorting according to Recomedation_score\n",
        "Sorted_similar_movies=sorted(Recomedation_score,key=lambda x:x[1], reverse=True)\n",
        "print(Sorted_similar_movies)"
      ],
      "metadata": {
        "colab": {
          "base_uri": "https://localhost:8080/"
        },
        "id": "onBlzEp-vsMz",
        "outputId": "5426ed6e-65b1-45a0-9f4f-4384893cec38"
      },
      "execution_count": 80,
      "outputs": [
        {
          "output_type": "stream",
          "name": "stdout",
          "text": [
            "[(4759, 1.0000000000000002), (4758, 0.17540311335306513), (4757, 0.14018263877196777), (4756, 0.13612685766414687), (4755, 0.13212969509245517), (4754, 0.12567047232829162), (4753, 0.12545344004593903), (4752, 0.12279995581610204), (4751, 0.11828602809700856), (4750, 0.11610091804796782), (4749, 0.1150556303956626), (4748, 0.11444464076879024), (4747, 0.10841528675212561), (4746, 0.10643045249958907), (4745, 0.10526401082475013), (4744, 0.10514440037258105), (4743, 0.10494906806900636), (4742, 0.10280434425470819), (4741, 0.10239231725480782), (4740, 0.10232902107235475), (4739, 0.1005099201887649), (4738, 0.10012307444719412), (4737, 0.0980125940574267), (4736, 0.09690337028602566), (4735, 0.09671180761053244), (4734, 0.09653983312182966), (4733, 0.09520429867260619), (4732, 0.09496807737414871), (4731, 0.09392508799101185), (4730, 0.09329278607607433), (4729, 0.09179086583488197), (4728, 0.09130230320232438), (4727, 0.09106901405632575), (4726, 0.09093069912603019), (4725, 0.08802673734166247), (4724, 0.08733488037759761), (4723, 0.08714831441484232), (4722, 0.08691951640916284), (4721, 0.08691463269862487), (4720, 0.08589576892842517), (4719, 0.08530816632800767), (4718, 0.08468675218651105), (4717, 0.08274625387864101), (4716, 0.08271822580085811), (4715, 0.0824961085654988), (4714, 0.08182523819768267), (4713, 0.07950805609962608), (4712, 0.0792039192370573), (4711, 0.07820591291832654), (4710, 0.07797992285958907), (4709, 0.07787635649917234), (4708, 0.07778184911437909), (4707, 0.0776010806971745), (4706, 0.07733664876327218), (4705, 0.07721551101930255), (4704, 0.07645685541284625), (4703, 0.07632259826103086), (4702, 0.07618294880752866), (4701, 0.07475476533998884), (4700, 0.07465607103230942), (4699, 0.07424917199824799), (4698, 0.07409046409414914), (4697, 0.07393906488584567), (4696, 0.07374677279892608), (4695, 0.07368176791909196), (4694, 0.0735834558041671), (4693, 0.07346127467797706), (4692, 0.07332319438833089), (4691, 0.073046108811011), (4690, 0.0729918933353789), (4689, 0.07285388170762609), (4688, 0.0727365763764871), (4687, 0.07250217929570596), (4686, 0.07233354799767903), (4685, 0.07222117621749942), (4684, 0.0721673460974425), (4683, 0.07200094388451414), (4682, 0.0717311226364768), (4681, 0.07163027545874062), (4680, 0.0710992934107017), (4679, 0.07104383157845282), (4678, 0.07093820627058538), (4677, 0.07082899960707159), (4676, 0.07075096935089939), (4675, 0.07063114292634509), (4674, 0.07057678493791035), (4673, 0.07039648694884346), (4672, 0.07015479072811057), (4671, 0.06999487752024033), (4670, 0.06876822420588792), (4669, 0.0687461334602351), (4668, 0.06830028667367319), (4667, 0.06819139309981463), (4666, 0.06807207732347409), (4665, 0.06796111995943362), (4664, 0.06789092422937933), (4663, 0.06782823403254412), (4662, 0.06781272548501412), (4661, 0.067758311805665), (4660, 0.06749903088246335), (4659, 0.06748986727604092), (4658, 0.06722602431707021), (4657, 0.06718950171592211), (4656, 0.06655846759001005), (4655, 0.0665476586284019), (4654, 0.06649259397346514), (4653, 0.06634023918256521), (4652, 0.06625212885698056), (4651, 0.06616644472985135), (4650, 0.06612965369190407), (4649, 0.06612892072062311), (4648, 0.06602844829460595), (4647, 0.06602823479644813), (4646, 0.06579702760949288), (4645, 0.06579158295197682), (4644, 0.06571170491899105), (4643, 0.0656393194018894), (4642, 0.06549306166878764), (4641, 0.06524409882222938), (4640, 0.06503112147794542), (4639, 0.06487175932747047), (4638, 0.06474796827205587), (4637, 0.06472593277467564), (4636, 0.06449642114814612), (4635, 0.06446745646811632), (4634, 0.06406950662377395), (4633, 0.06397717895897605), (4632, 0.0635467201426773), (4631, 0.06343498763723866), (4630, 0.06342694737266574), (4629, 0.06342137331497105), (4628, 0.06341015341410058), (4627, 0.06338531699621186), (4626, 0.06330324531402688), (4625, 0.06304429849620712), (4624, 0.062164133906194734), (4623, 0.06188282925736882), (4622, 0.06161386434244498), (4621, 0.06158444088799969), (4620, 0.061541512735722045), (4619, 0.061424488868302214), (4618, 0.06106730223532188), (4617, 0.06084633350436734), (4616, 0.06063605367580779), (4615, 0.06047315131749649), (4614, 0.060012363018512434), (4613, 0.060007101567093754), (4612, 0.05999106320804426), (4611, 0.05976127169231707), (4610, 0.05961807305753341), (4609, 0.059346457962407534), (4608, 0.059231050927025256), (4607, 0.05887372872671207), (4606, 0.05872218973925818), (4605, 0.05867322622850039), (4604, 0.058333418128403015), (4603, 0.058305099072177256), (4602, 0.05822956421746973), (4601, 0.058027650143293454), (4600, 0.05768384616288457), (4599, 0.057582928538417184), (4598, 0.057225826001975844), (4597, 0.05706883085148356), (4596, 0.0569960655405611), (4595, 0.05691086792939492), (4594, 0.05656253686199331), (4593, 0.05576125957271688), (4592, 0.05537669229283363), (4591, 0.05520271418067009), (4590, 0.055106733094622405), (4589, 0.05496495617593948), (4588, 0.05463402589717167), (4587, 0.0542691118052407), (4586, 0.054033364456104405), (4585, 0.05398347710601254), (4584, 0.053858833195780914), (4583, 0.05371885102949012), (4582, 0.05369990639500678), (4581, 0.05303467046311887), (4580, 0.053016220913845793), (4579, 0.05297532215266777), (4578, 0.05276716259892644), (4577, 0.05261288649930308), (4576, 0.0523540211599676), (4575, 0.05203784850066173), (4574, 0.05159322762860864), (4573, 0.051276181320637826), (4572, 0.051182398312731296), (4571, 0.05117141004708295), (4570, 0.05087019180424671), (4569, 0.05055137666217191), (4568, 0.050346323264560136), (4567, 0.05033049491438998), (4566, 0.05030921417008829), (4565, 0.0500499731022027), (4564, 0.04959083865058642), (4563, 0.04931496809318485), (4562, 0.04921890617799793), (4561, 0.0491644001364443), (4560, 0.04866077548391178), (4559, 0.04814345147098569), (4558, 0.04806239480725993), (4557, 0.047524618043140225), (4556, 0.047383459994043815), (4555, 0.047307227401849214), (4554, 0.047240976544552234), (4553, 0.047088575717172496), (4552, 0.04698083821401633), (4551, 0.04676990789313225), (4550, 0.046553210560276254), (4549, 0.046268793193061764), (4548, 0.04625581606478015), (4547, 0.04585939714699843), (4546, 0.04555642439625995), (4545, 0.04538654232268801), (4544, 0.04534386404521729), (4543, 0.04517139223836865), (4542, 0.045093267485287074), (4541, 0.0446854500198876), (4540, 0.04451083284996476), (4539, 0.04427404819753417), (4538, 0.04401695580162418), (4537, 0.0439556478332392), (4536, 0.043613589280862106), (4535, 0.043552763387201356), (4534, 0.04348101784388806), (4533, 0.04336805518304457), (4532, 0.04332642079273515), (4531, 0.04325837793660432), (4530, 0.043078474340082024), (4529, 0.042974357073731824), (4528, 0.04286007319524), (4527, 0.04280796342084592), (4526, 0.042793590819848765), (4525, 0.04269395145785011), (4524, 0.04267539861049174), (4523, 0.042533662808037644), (4522, 0.04252798522463183), (4521, 0.04240361770254847), (4520, 0.04234152212162744), (4519, 0.04205566456144457), (4518, 0.04200956567679162), (4517, 0.04184944187781287), (4516, 0.041805686154240455), (4515, 0.04179092040331641), (4514, 0.04175839268658918), (4513, 0.0417516518034997), (4512, 0.041652788600195716), (4511, 0.04158923041563593), (4510, 0.04140521227372099), (4509, 0.04115171063382738), (4508, 0.04112357671229863), (4507, 0.04082619154797954), (4506, 0.04070143869189255), (4505, 0.04068453050889995), (4504, 0.040682939843164304), (4503, 0.0405861888555304), (4502, 0.040557255771506415), (4501, 0.040543468570231736), (4500, 0.04053610471315704), (4499, 0.04040581621361852), (4498, 0.0403402659619609), (4497, 0.04032552636800137), (4496, 0.04026553049853682), (4495, 0.04021102448864806), (4494, 0.040183309185508054), (4493, 0.04010136942294732), (4492, 0.04005163234823378), (4491, 0.03997083593419574), (4490, 0.03996100921638762), (4489, 0.03987917525762528), (4488, 0.039727121284092046), (4487, 0.039676301828267535), (4486, 0.039608601813884384), (4485, 0.039577538982095074), (4484, 0.03955173196908717), (4483, 0.03954318602522098), (4482, 0.03950185864230372), (4481, 0.03945083171148519), (4480, 0.039434044066203), (4479, 0.039422899105201865), (4478, 0.03941272161016768), (4477, 0.03937021984125299), (4476, 0.0393492695839938), (4475, 0.03933163018102267), (4474, 0.039269004331089076), (4473, 0.039232345016611804), (4472, 0.03921501037746561), (4471, 0.03915022119016206), (4470, 0.0391384126695644), (4469, 0.039071927719929817), (4468, 0.03905014355805074), (4467, 0.038971271722634565), (4466, 0.03894828741582628), (4465, 0.03891602792229389), (4464, 0.03882765692429927), (4463, 0.038799105776046235), (4462, 0.03875510886221894), (4461, 0.0386626231060606), (4460, 0.03863153371002765), (4459, 0.038610018947213144), (4458, 0.038604224480178015), (4457, 0.03856448143287241), (4456, 0.038455459768403734), (4455, 0.03832106309656385), (4454, 0.03831237351819055), (4453, 0.03816402640193993), (4452, 0.038108651131765564), (4451, 0.037994852354984114), (4450, 0.03799040553412044), (4449, 0.03786853801086324), (4448, 0.03785033576873002), (4447, 0.03781503978555496), (4446, 0.037782852553858576), (4445, 0.03768220481576436), (4444, 0.037649615048114156), (4443, 0.03764702911083647), (4442, 0.03757548853059081), (4441, 0.03746619788918923), (4440, 0.037421819051101285), (4439, 0.037338105125163785), (4438, 0.03732906143224055), (4437, 0.037322660604251864), (4436, 0.03730341764392131), (4435, 0.037290240656553134), (4434, 0.037275155290487326), (4433, 0.03718549921297175), (4432, 0.03713241467345009), (4431, 0.037128589677653895), (4430, 0.03710647833355642), (4429, 0.03710593871161625), (4428, 0.03705105803031066), (4427, 0.03704133396299233), (4426, 0.03703958414361173), (4425, 0.0370383356557431), (4424, 0.037010730931509556), (4423, 0.036942419599950774), (4422, 0.03694175756614444), (4421, 0.03692690707050023), (4420, 0.036871839722336465), (4419, 0.03685157990199747), (4418, 0.03683573278290385), (4417, 0.03682156711082666), (4416, 0.036812561477428674), (4415, 0.0368007628547702), (4414, 0.036786798411698636), (4413, 0.03677374565545026), (4412, 0.036768476193618754), (4411, 0.036727345556757454), (4410, 0.036714014675439506), (4409, 0.03670499600380597), (4408, 0.0367044089459715), (4407, 0.03661902100510361), (4406, 0.036597911110305005), (4405, 0.03657851856183196), (4404, 0.03657390194385597), (4403, 0.03657090544901534), (4402, 0.03654186761552222), (4401, 0.03652382013846292), (4400, 0.03652232627622558), (4399, 0.03651054094150594), (4398, 0.03648354151042365), (4397, 0.03647983384775115), (4396, 0.0364798153232522), (4395, 0.03647619162885131), (4394, 0.03645117175385015), (4393, 0.036423628041320454), (4392, 0.03642321891804567), (4391, 0.03639236057442083), (4390, 0.036385995822126746), (4389, 0.036313168495533996), (4388, 0.03629825520930392), (4387, 0.03619376934749028), (4386, 0.03613963281184726), (4385, 0.03608460686925529), (4384, 0.03600904449396152), (4383, 0.03599643624747376), (4382, 0.035963628599896665), (4381, 0.03595538124339839), (4380, 0.035952925160949604), (4379, 0.035946594112086956), (4378, 0.03591807609326201), (4377, 0.03590945172972976), (4376, 0.03588061171627093), (4375, 0.03582217198744971), (4374, 0.03581858471492875), (4373, 0.035779693737344485), (4372, 0.03577292106680166), (4371, 0.03577220195222754), (4370, 0.035733125349698774), (4369, 0.03568869511996931), (4368, 0.0356656563437314), (4367, 0.035582953852311375), (4366, 0.03555127677676581), (4365, 0.035545377296986), (4364, 0.03554415744089572), (4363, 0.03554355019741436), (4362, 0.0355397207659428), (4361, 0.03552651289620105), (4360, 0.03551613171172333), (4359, 0.0354705291869144), (4358, 0.03547050657280978), (4357, 0.03543305460278255), (4356, 0.03542940447978662), (4355, 0.03536685971175435), (4354, 0.03536296706619359), (4353, 0.035327667508949244), (4352, 0.03531704042083741), (4351, 0.03530772179421475), (4350, 0.0352667508865259), (4349, 0.035184341978609306), (4348, 0.03518020649524439), (4347, 0.03515968215545578), (4346, 0.03515713479937356), (4345, 0.035082436342340574), (4344, 0.03505928942414928), (4343, 0.0350008807779532), (4342, 0.034995861622733083), (4341, 0.03498094088420138), (4340, 0.03493758298366434), (4339, 0.034884212610096416), (4338, 0.03487712834257486), (4337, 0.03485437939492524), (4336, 0.03485418156313431), (4335, 0.034853736690031126), (4334, 0.034831237205098335), (4333, 0.03480221198214255), (4332, 0.034780795832458675), (4331, 0.034751524435241585), (4330, 0.03472427900052531), (4329, 0.03469932431655009), (4328, 0.034693735492059424), (4327, 0.03468267645399973), (4326, 0.03468036580913727), (4325, 0.03467132798276543), (4324, 0.03466742085392933), (4323, 0.03465060087831335), (4322, 0.03459678202703678), (4321, 0.03448570026367105), (4320, 0.03443299907937245), (4319, 0.03441678499122821), (4318, 0.034415762755487536), (4317, 0.034394044328720015), (4316, 0.03429508301477233), (4315, 0.03424867706215266), (4314, 0.034248622438598234), (4313, 0.03424330838048414), (4312, 0.034242933214870236), (4311, 0.03422003894371334), (4310, 0.034164711444121046), (4309, 0.03410758768514182), (4308, 0.03410583751146417), (4307, 0.034081443610556414), (4306, 0.034066852735876604), (4305, 0.03403898029178137), (4304, 0.034021598610826084), (4303, 0.034008264631764006), (4302, 0.033987056704751), (4301, 0.03396582361249688), (4300, 0.03396030895523282), (4299, 0.033951784417205456), (4298, 0.033832116105240694), (4297, 0.033805403836794666), (4296, 0.03380302228597812), (4295, 0.033776986024890314), (4294, 0.0337712001303699), (4293, 0.03371776199007458), (4292, 0.033711888238101805), (4291, 0.033655320722784494), (4290, 0.03363383983380433), (4289, 0.0336163915343408), (4288, 0.03361319675706877), (4287, 0.033587038668971385), (4286, 0.033574792104398975), (4285, 0.03357218460683959), (4284, 0.03353363037783895), (4283, 0.03349919242480937), (4282, 0.03348115923092058), (4281, 0.03346745635753241), (4280, 0.033459846676082934), (4279, 0.03343651326840561), (4278, 0.033427149799321196), (4277, 0.03341367399893261), (4276, 0.03337840314349873), (4275, 0.03332084603017215), (4274, 0.033320328783194346), (4273, 0.033278652907543435), (4272, 0.033271173799077534), (4271, 0.033264613763523104), (4270, 0.0332237347438663), (4269, 0.0331734873555317), (4268, 0.033147025849437975), (4267, 0.033146901121272825), (4266, 0.03314294467490666), (4265, 0.03307894272772952), (4264, 0.03307484923792709), (4263, 0.03305874857496653), (4262, 0.033031827385461655), (4261, 0.03300325685120581), (4260, 0.0329644663883684), (4259, 0.032962601895112194), (4258, 0.03289185207702379), (4257, 0.0328502132726737), (4256, 0.03283438222826965), (4255, 0.03280262469412277), (4254, 0.03279135741350432), (4253, 0.032779743484252374), (4252, 0.032779519996446634), (4251, 0.03275489543775508), (4250, 0.032739390462791396), (4249, 0.03271753370046323), (4248, 0.03271125392318118), (4247, 0.03270468597172226), (4246, 0.03268421174582703), (4245, 0.0326771035747824), (4244, 0.03267161569541307), (4243, 0.03266451342073433), (4242, 0.032651206684887496), (4241, 0.03257208751829799), (4240, 0.03257191587831497), (4239, 0.03256725996393085), (4238, 0.03254368819380092), (4237, 0.03254312716373994), (4236, 0.0325177469500745), (4235, 0.03245285011530732), (4234, 0.03243380722609005), (4233, 0.03241135016957079), (4232, 0.03237374746959131), (4231, 0.03235903850867094), (4230, 0.03227244872160391), (4229, 0.03225879121945598), (4228, 0.032255591168089744), (4227, 0.03221027520757611), (4226, 0.03218470892730073), (4225, 0.03214337091059325), (4224, 0.03213907406985674), (4223, 0.032136428467168354), (4222, 0.03213055569706744), (4221, 0.03206637630078371), (4220, 0.032052383471880316), (4219, 0.03205102410122434), (4218, 0.03203410916376137), (4217, 0.03196972433085189), (4216, 0.03192253481484412), (4215, 0.031887117495916883), (4214, 0.03184218936426448), (4213, 0.03176712733621938), (4212, 0.0317419609593646), (4211, 0.03171685726169321), (4210, 0.03165343598905193), (4209, 0.03164698228817904), (4208, 0.031622827601786266), (4207, 0.031616270151161315), (4206, 0.03160566127612153), (4205, 0.03158203593038667), (4204, 0.03157463471055542), (4203, 0.03154755179462399), (4202, 0.0315037652594602), (4201, 0.03140359322141102), (4200, 0.03140347150102285), (4199, 0.03140242730312475), (4198, 0.031380211791965526), (4197, 0.03135259729076579), (4196, 0.03125933432358155), (4195, 0.03123443097895824), (4194, 0.031200961585597608), (4193, 0.031024432278448467), (4192, 0.031007019486480745), (4191, 0.030958361802685748), (4190, 0.030930171898844654), (4189, 0.030894142592362353), (4188, 0.03071208541093196), (4187, 0.03070984809498707), (4186, 0.030625065670219772), (4185, 0.03060268110660585), (4184, 0.030599455774869583), (4183, 0.030526714266417395), (4182, 0.030486282351311813), (4181, 0.030455500095061788), (4180, 0.030451752652922274), (4179, 0.03044421532259706), (4178, 0.030368832369747942), (4177, 0.030364639320103554), (4176, 0.03036309726542297), (4175, 0.03035938542714626), (4174, 0.030305258952943257), (4173, 0.030256114104761162), (4172, 0.03018968916268555), (4171, 0.030189244778779205), (4170, 0.030114864598340722), (4169, 0.030054620673721673), (4168, 0.03000917049344182), (4167, 0.029951787783221807), (4166, 0.02992784182838151), (4165, 0.029855307303587632), (4164, 0.029790283470295536), (4163, 0.029581887725176136), (4162, 0.02953684661390235), (4161, 0.029397658672571884), (4160, 0.029396568888711297), (4159, 0.029379373798361513), (4158, 0.02936086772303808), (4157, 0.029323994565278413), (4156, 0.029310929244021268), (4155, 0.02920057176401863), (4154, 0.02914729133857675), (4153, 0.029124605135925383), (4152, 0.028836310140770864), (4151, 0.02878847269870215), (4150, 0.028746294856804966), (4149, 0.02864947173016649), (4148, 0.0285729363404209), (4147, 0.028569751106294984), (4146, 0.02855237310953114), (4145, 0.028421925468706796), (4144, 0.02840555288357385), (4143, 0.028250024934763075), (4142, 0.02809054015990937), (4141, 0.02805700354530084), (4140, 0.027823502404234545), (4139, 0.027779249035135282), (4138, 0.02758290804792601), (4137, 0.027522463657651416), (4136, 0.027491844231501625), (4135, 0.027482532481945748), (4134, 0.027443114390988278), (4133, 0.02739540788910872), (4132, 0.027312299861149074), (4131, 0.02725832664863107), (4130, 0.027213956562822165), (4129, 0.027033263641474212), (4128, 0.02703074157086211), (4127, 0.02694131102290264), (4126, 0.02690028981555867), (4125, 0.02687745600381278), (4124, 0.02677525080219225), (4123, 0.02667940502849107), (4122, 0.026658906704550234), (4121, 0.02664808430179977), (4120, 0.02659419350082648), (4119, 0.026574041490282165), (4118, 0.026539912132180404), (4117, 0.02651714623941805), (4116, 0.026511952438903932), (4115, 0.026400822348998043), (4114, 0.02633586714132358), (4113, 0.026024743666650363), (4112, 0.02595423788896998), (4111, 0.025891925274803364), (4110, 0.02588975455119066), (4109, 0.02586109337238258), (4108, 0.02584278652852413), (4107, 0.025839365126952854), (4106, 0.0257163370061034), (4105, 0.0255679855861118), (4104, 0.025567226243919054), (4103, 0.025473801767922126), (4102, 0.025453257129629463), (4101, 0.025310338897553127), (4100, 0.02524649483956842), (4099, 0.025183064586951222), (4098, 0.025179689223442322), (4097, 0.02516298926468918), (4096, 0.025037725597420766), (4095, 0.02491742208441946), (4094, 0.024880927626810156), (4093, 0.02485582080395575), (4092, 0.02474558286440131), (4091, 0.024707679614019103), (4090, 0.024676285354379213), (4089, 0.024663430748456117), (4088, 0.024622393048123165), (4087, 0.02460014670317589), (4086, 0.02457902107352343), (4085, 0.024550787701797396), (4084, 0.024456606125733513), (4083, 0.024398647412541517), (4082, 0.024327390622114413), (4081, 0.024277131814139704), (4080, 0.024227184890150317), (4079, 0.024185486153502352), (4078, 0.024180507376426453), (4077, 0.0240801251735089), (4076, 0.02401811165540084), (4075, 0.02397692251832952), (4074, 0.023917053744725622), (4073, 0.0238233257568726), (4072, 0.023672413715650705), (4071, 0.023647084518445546), (4070, 0.023611417611157884), (4069, 0.02357903343588809), (4068, 0.023526538930098286), (4067, 0.023498258758349804), (4066, 0.02345779955402125), (4065, 0.023432594738667947), (4064, 0.02323017341721118), (4063, 0.023197746463296767), (4062, 0.023115695078270337), (4061, 0.022957991312095843), (4060, 0.02288401805131857), (4059, 0.02288383801141678), (4058, 0.022847738280652757), (4057, 0.02277841157618508), (4056, 0.02266441469323512), (4055, 0.02256118548151009), (4054, 0.022365792368657867), (4053, 0.02230857939421073), (4052, 0.022290583243573487), (4051, 0.022148590201120404), (4050, 0.022072413993509805), (4049, 0.022061004025194543), (4048, 0.022053314198939175), (4047, 0.022045433206287737), (4046, 0.02199908855563304), (4045, 0.021954751715966066), (4044, 0.021944060236764495), (4043, 0.021855544350468326), (4042, 0.02183652864475046), (4041, 0.02179944155258247), (4040, 0.02175994888551254), (4039, 0.021745873132057655), (4038, 0.02168093798838529), (4037, 0.021600872547671082), (4036, 0.021599446952302453), (4035, 0.021576827995773755), (4034, 0.021524580733343512), (4033, 0.021501364769670375), (4032, 0.02149605881087038), (4031, 0.021478207062205587), (4030, 0.021365587467416302), (4029, 0.021300107810631606), (4028, 0.021219490969678553), (4027, 0.021186724396773646), (4026, 0.021135397271150144), (4025, 0.021019052466210827), (4024, 0.02098810348330947), (4023, 0.02091741838179195), (4022, 0.020908644673376182), (4021, 0.020814774981786893), (4020, 0.02078704182597461), (4019, 0.02070180572379356), (4018, 0.02064799353848707), (4017, 0.020606636373550407), (4016, 0.020586780933266217), (4015, 0.020578983360856534), (4014, 0.020489383172594654), (4013, 0.020459408725642357), (4012, 0.02044976942345742), (4011, 0.02031494366265188), (4010, 0.02030247382602625), (4009, 0.0201920134798765), (4008, 0.02017886629235138), (4007, 0.020147969191011268), (4006, 0.020102364230552824), (4005, 0.019920993592436622), (4004, 0.019894663132483024), (4003, 0.019889278904858403), (4002, 0.019886378003733562), (4001, 0.01977093779860552), (4000, 0.01976642967305318), (3999, 0.019643116058434752), (3998, 0.019522267581219267), (3997, 0.019490648251288087), (3996, 0.019248146569532075), (3995, 0.019229515190593034), (3994, 0.01920227186376888), (3993, 0.019166763802296653), (3992, 0.019137381097082816), (3991, 0.019069509103680982), (3990, 0.019067304392865025), (3989, 0.018997591820599215), (3988, 0.018974508288294938), (3987, 0.01893961115167425), (3986, 0.018927118283627465), (3985, 0.01886474719263733), (3984, 0.018764956795312926), (3983, 0.018744784808706963), (3982, 0.01872489219935916), (3981, 0.018646454684693465), (3980, 0.018640927995444718), (3979, 0.018600836542569048), (3978, 0.018600394657655048), (3977, 0.01858869305373946), (3976, 0.01855081916437048), (3975, 0.018438017575724934), (3974, 0.018434833143177218), (3973, 0.018410388036504556), (3972, 0.018306354877331298), (3971, 0.018270290263478383), (3970, 0.01816098186626717), (3969, 0.018143500334872772), (3968, 0.018107499260663653), (3967, 0.018017008437300287), (3966, 0.01797709282001233), (3965, 0.017886451204626737), (3964, 0.017832004551377272), (3963, 0.017731796593967376), (3962, 0.017696066630600173), (3961, 0.01769432459777288), (3960, 0.01762213835102192), (3959, 0.017428633448282098), (3958, 0.017316019030454575), (3957, 0.017222408281068528), (3956, 0.01720856796976345), (3955, 0.017194563710690083), (3954, 0.01716554016060479), (3953, 0.016915724193344285), (3952, 0.01690275846870103), (3951, 0.016693976936712544), (3950, 0.01664343919744101), (3949, 0.01663757267313002), (3948, 0.01657730877169528), (3947, 0.01649980281883698), (3946, 0.0162705124064405), (3945, 0.015966669585440914), (3944, 0.015736661196404125), (3943, 0.015729791625963576), (3942, 0.015521458687537574), (3941, 0.015484643348488106), (3940, 0.01539617233839583), (3939, 0.014922631462467383), (3938, 0.009301845408470394), (3937, 0.006837809506789023), (3936, 0.00674942299062237), (3935, 0.006427350811629672), (3934, 0.006401248423443815), (3933, 0.0061139735361474155), (3932, 0.005350493322498252), (3931, 0.005332776847928035), (3930, 0.005305817527696254), (3929, 0.005232833184427227), (3928, 0.005176814384945298), (3927, 0.005148244236362054), (3926, 0.005028503377854003), (3925, 0.004951041475657448), (3924, 0.004950406020422394), (3923, 0.00494520750575715), (3922, 0.004889187441382487), (3921, 0.004860008116365831), (3920, 0.004846449136287176), (3919, 0.004794377892425674), (3918, 0.004788376856749247), (3917, 0.004786746397767118), (3916, 0.004743758019609606), (3915, 0.004743187102030869), (3914, 0.004742965627641799), (3913, 0.004708333803876667), (3912, 0.004702064112257639), (3911, 0.004698339042120056), (3910, 0.004696987888718451), (3909, 0.004689160186178159), (3908, 0.00467120992374893), (3907, 0.004671031512150722), (3906, 0.004659454284091951), (3905, 0.004648613798811707), (3904, 0.004643666024317806), (3903, 0.004641509683892898), (3902, 0.004637682012702722), (3901, 0.004622208082780153), (3900, 0.004616327823270077), (3899, 0.0045822067721467625), (3898, 0.00457285846058446), (3897, 0.004569936179398391), (3896, 0.004568438782012879), (3895, 0.004552953621364984), (3894, 0.004552430393407067), (3893, 0.0045472644846773535), (3892, 0.0045424639406344645), (3891, 0.004536768431647338), (3890, 0.004531356517331654), (3889, 0.004528773429181635), (3888, 0.004524545436143346), (3887, 0.0045191085555212245), (3886, 0.004503287114699159), (3885, 0.0045014321205446165), (3884, 0.0044970865074367115), (3883, 0.004476546373869101), (3882, 0.004464126651365223), (3881, 0.004453307553026409), (3880, 0.004446990359268473), (3879, 0.004420548237039031), (3878, 0.004420048802020096), (3877, 0.004416683567968298), (3876, 0.004412720263464533), (3875, 0.0044006617677233685), (3874, 0.0043917986240504725), (3873, 0.0043916880772268815), (3872, 0.004368961956430154), (3871, 0.004347398144294805), (3870, 0.004343835472166061), (3869, 0.004342154066960322), (3868, 0.004341918837272052), (3867, 0.0043385250148572155), (3866, 0.004336175975729491), (3865, 0.004333638530773473), (3864, 0.004331152895325739), (3863, 0.004311216902047359), (3862, 0.004307860571448281), (3861, 0.004306367550047285), (3860, 0.004286444939932898), (3859, 0.0042813567074196646), (3858, 0.004276625944171795), (3857, 0.0042689323303462395), (3856, 0.004262817628182058), (3855, 0.0042598701908242624), (3854, 0.0042448848114671955), (3853, 0.004242951326479509), (3852, 0.004231556532479079), (3851, 0.004231537768736136), (3850, 0.004220803576131307), (3849, 0.004217420322460799), (3848, 0.004215633006956311), (3847, 0.004211884089027299), (3846, 0.004206282261268285), (3845, 0.004204266635284), (3844, 0.004195097956320369), (3843, 0.004194658976351427), (3842, 0.004193091443806766), (3841, 0.004188696240469732), (3840, 0.004182191654634373), (3839, 0.00417338729751693), (3838, 0.004167076561921053), (3837, 0.004160948153217108), (3836, 0.004146993147073063), (3835, 0.00414615219200551), (3834, 0.004141512185415801), (3833, 0.004122368553168902), (3832, 0.00411806162552086), (3831, 0.004108497802701558), (3830, 0.004100587620572168), (3829, 0.004097650016541458), (3828, 0.004093287909834613), (3827, 0.0040924932216851295), (3826, 0.004092046816617082), (3825, 0.004089832184345487), (3824, 0.004086718025269762), (3823, 0.004082128553532106), (3822, 0.004080864828152075), (3821, 0.004077351261713656), (3820, 0.004071903530461151), (3819, 0.004065859680980131), (3818, 0.004062478020324339), (3817, 0.004058132497578344), (3816, 0.00405765997569018), (3815, 0.004057530384802522), (3814, 0.004052677436610877), (3813, 0.004052336472633657), (3812, 0.004051851297354314), (3811, 0.004049501489658817), (3810, 0.0040387236168490884), (3809, 0.004033835451801196), (3808, 0.004030420681607594), (3807, 0.004023784864412348), (3806, 0.004022433445404149), (3805, 0.004017270401697793), (3804, 0.004008899428645801), (3803, 0.0040075030330746836), (3802, 0.004006840038700644), (3801, 0.004006788932851747), (3800, 0.003999941888506993), (3799, 0.003999710722441288), (3798, 0.0039937186708473675), (3797, 0.003984082511126794), (3796, 0.003983296040114853), (3795, 0.003979243330384718), (3794, 0.0039768438696979), (3793, 0.003974097572285537), (3792, 0.003968381219341383), (3791, 0.003968363078373035), (3790, 0.003967444674577677), (3789, 0.00396467165218795), (3788, 0.003964373373914613), (3787, 0.003962384219142021), (3786, 0.003961731675603019), (3785, 0.003953458348151245), (3784, 0.00394906398694687), (3783, 0.0039482868165376965), (3782, 0.0039451905337051655), (3781, 0.00394503465867136), (3780, 0.003944901851828463), (3779, 0.0039420983128309614), (3778, 0.003938445897682045), (3777, 0.003938304757233696), (3776, 0.003934644419571802), (3775, 0.0039332970085140485), (3774, 0.0039329159507627675), (3773, 0.003928002084629724), (3772, 0.003925136656228822), (3771, 0.003925013799720855), (3770, 0.00392429040002346), (3769, 0.003923174945417354), (3768, 0.003922614564625953), (3767, 0.003916462429475078), (3766, 0.003914316468710066), (3765, 0.003913257185758851), (3764, 0.0039130629963247026), (3763, 0.003907539040506689), (3762, 0.003904590459653259), (3761, 0.0039027088507398184), (3760, 0.0038989031379940554), (3759, 0.0038969597331822026), (3758, 0.0038916325015223383), (3757, 0.0038898110480844903), (3756, 0.0038865567663327596), (3755, 0.003873994457336173), (3754, 0.0038734049816421005), (3753, 0.0038663652074174383), (3752, 0.0038646464424863074), (3751, 0.0038643242082856267), (3750, 0.0038639998501972714), (3749, 0.003862376771525641), (3748, 0.0038610521349967198), (3747, 0.0038600881111596967), (3746, 0.003860052660284414), (3745, 0.003859790654985452), (3744, 0.0038544549596582728), (3743, 0.003853933769428911), (3742, 0.003852434471313971), (3741, 0.00384992672712411), (3740, 0.003849494564178611), (3739, 0.0038485201491872544), (3738, 0.003848139234173981), (3737, 0.0038475572353591798), (3736, 0.0038441705563125716), (3735, 0.0038440021520959673), (3734, 0.0038415785363778757), (3733, 0.003838923796431963), (3732, 0.0038388089133650338), (3731, 0.003838111563673888), (3730, 0.0038363472710366744), (3729, 0.0038351892371302665), (3728, 0.0038302919178225536), (3727, 0.003827715557754741), (3726, 0.003827645249032609), (3725, 0.003825053550066275), (3724, 0.003823092643579982), (3723, 0.0038222798911671614), (3722, 0.0038194385248832663), (3721, 0.0038128819548254333), (3720, 0.0038094929142399223), (3719, 0.003808107646777527), (3718, 0.0038050879534567957), (3717, 0.0038045192646288246), (3716, 0.003804331810601384), (3715, 0.0038012043592228623), (3714, 0.003800891816006706), (3713, 0.003798216385110856), (3712, 0.003792053444065575), (3711, 0.0037895957334783555), (3710, 0.00378914800054106), (3709, 0.0037887706301903547), (3708, 0.0037862326736529607), (3707, 0.0037842613262372674), (3706, 0.0037842310628731874), (3705, 0.0037810060354757746), (3704, 0.003779607119737997), (3703, 0.0037783391867263964), (3702, 0.0037777222525926394), (3701, 0.0037766161628938607), (3700, 0.003776324422609105), (3699, 0.0037763074974339426), (3698, 0.0037709449489724267), (3697, 0.0037704945059915335), (3696, 0.0037682307683133925), (3695, 0.0037662916292932305), (3694, 0.003766282533013284), (3693, 0.003762352592112972), (3692, 0.003760982827295795), (3691, 0.0037601113635386033), (3690, 0.0037598756312311908), (3689, 0.0037585397823743684), (3688, 0.003758161329948659), (3687, 0.0037536678067881897), (3686, 0.003753197365188678), (3685, 0.003751302028478609), (3684, 0.003750786509953687), (3683, 0.0037498377000343857), (3682, 0.0037495385381883435), (3681, 0.003748917174877973), (3680, 0.0037461596112502906), (3679, 0.0037453150249908253), (3678, 0.0037406288660496007), (3677, 0.0037397001335925254), (3676, 0.0037394258283004493), (3675, 0.003738312233776308), (3674, 0.0037381859903926062), (3673, 0.0037374122130362022), (3672, 0.0037368858770435117), (3671, 0.0037359262819898213), (3670, 0.003734775513994532), (3669, 0.0037325978099016013), (3668, 0.003731386144454786), (3667, 0.0037254857918428324), (3666, 0.003722713983214797), (3665, 0.0037225016356903537), (3664, 0.0037217547643321027), (3663, 0.0037214286253513815), (3662, 0.00371802447432265), (3661, 0.0037170127300044055), (3660, 0.0037158255236944193), (3659, 0.00371497658813971), (3658, 0.0037134133624166115), (3657, 0.0037119598576275613), (3656, 0.003709470524137467), (3655, 0.0037088175555488267), (3654, 0.0037086875611671544), (3653, 0.0037084578007971023), (3652, 0.00370659425313937), (3651, 0.0037051933793165602), (3650, 0.003704862817482761), (3649, 0.0037036253321388146), (3648, 0.0036998395806273035), (3647, 0.003698963619886717), (3646, 0.0036975606362835527), (3645, 0.0036967931672027663), (3644, 0.0036966214816371136), (3643, 0.003695925258316916), (3642, 0.0036956011070388914), (3641, 0.0036953293698746043), (3640, 0.0036946200576691234), (3639, 0.0036942226711552256), (3638, 0.0036911333316172693), (3637, 0.003689400907473211), (3636, 0.003686570353159187), (3635, 0.0036832527417728334), (3634, 0.003682976204318592), (3633, 0.0036827693705909093), (3632, 0.003680306142803258), (3631, 0.0036801290276084367), (3630, 0.003678693972453402), (3629, 0.0036783288256780457), (3628, 0.0036768186400114047), (3627, 0.003676777221500565), (3626, 0.003675199263537496), (3625, 0.003674374896588537), (3624, 0.003674010755020075), (3623, 0.003673841266937869), (3622, 0.0036731834679186092), (3621, 0.003667801565613697), (3620, 0.0036676910451048216), (3619, 0.003667285611672344), (3618, 0.003665914303434265), (3617, 0.0036646978964832984), (3616, 0.0036605559334360166), (3615, 0.00365651295063116), (3614, 0.0036524464167151274), (3613, 0.0036502843760017607), (3612, 0.003648824918453395), (3611, 0.003648638786735141), (3610, 0.003648455914811022), (3609, 0.003646276617127981), (3608, 0.003645210602932221), (3607, 0.0036451635272692507), (3606, 0.0036432066608879216), (3605, 0.0036427100429297357), (3604, 0.0036426637712704425), (3603, 0.003642653946082678), (3602, 0.0036423910863808188), (3601, 0.0036415794895316577), (3600, 0.0036393974199200544), (3599, 0.0036382018619144246), (3598, 0.0036363707229875412), (3597, 0.0036340206345404228), (3596, 0.0036321140313310997), (3595, 0.0036317520444566643), (3594, 0.0036304847128548097), (3593, 0.0036285811130441444), (3592, 0.0036270201368961315), (3591, 0.0036239644704751323), (3590, 0.0036238182411069816), (3589, 0.003620828300053681), (3588, 0.003620189713292299), (3587, 0.003619901353233943), (3586, 0.003619048014726514), (3585, 0.0036186454989135647), (3584, 0.003617149576285314), (3583, 0.0036156704630635273), (3582, 0.0036140967138723955), (3581, 0.0036130563588341394), (3580, 0.0036106973371730485), (3579, 0.003610083658113552), (3578, 0.003603108911558106), (3577, 0.0036027654637822834), (3576, 0.0036021163414338944), (3575, 0.0036016615899841747), (3574, 0.0035993485658905246), (3573, 0.0035991608042721048), (3572, 0.003597022363892223), (3571, 0.0035949772940118245), (3570, 0.0035947605184859007), (3569, 0.003594051032694923), (3568, 0.0035936382015252562), (3567, 0.003592707903615468), (3566, 0.0035917049875287903), (3565, 0.003591150885129999), (3564, 0.0035906314586971718), (3563, 0.003590557119743916), (3562, 0.003590230871454773), (3561, 0.0035898887225720507), (3560, 0.003586739705439826), (3559, 0.0035865414041228775), (3558, 0.0035857875467757505), (3557, 0.0035853418487732163), (3556, 0.0035842802560852663), (3555, 0.0035831591077981656), (3554, 0.0035818042272484614), (3553, 0.0035783846076890826), (3552, 0.003578339502943464), (3551, 0.0035766855062474654), (3550, 0.0035759196837770123), (3549, 0.0035756133175931424), (3548, 0.0035747182591626685), (3547, 0.0035735767341305742), (3546, 0.003571123429919434), (3545, 0.003569924700004396), (3544, 0.003569254003812658), (3543, 0.0035680406906647456), (3542, 0.003567931146179961), (3541, 0.0035672857822937843), (3540, 0.0035667077220011057), (3539, 0.0035653331103399776), (3538, 0.003563605967705774), (3537, 0.0035635965674486294), (3536, 0.003563220484403983), (3535, 0.0035621022815310226), (3534, 0.003561583772591142), (3533, 0.0035613758821068124), (3532, 0.003556426453121148), (3531, 0.003556381237939288), (3530, 0.003555651396174589), (3529, 0.0035552725187713726), (3528, 0.0035545356420247603), (3527, 0.003552232802139317), (3526, 0.0035514884519758953), (3525, 0.00354930095265245), (3524, 0.003547559196180879), (3523, 0.0035470134514617637), (3522, 0.0035456860299759446), (3521, 0.003544462435925656), (3520, 0.00354267254361725), (3519, 0.003539109370357007), (3518, 0.0035387430800106374), (3517, 0.003538424886650024), (3516, 0.003537414924399483), (3515, 0.0035364422179632654), (3514, 0.003534306282352731), (3513, 0.003533735409617873), (3512, 0.003533382566385216), (3511, 0.0035319098836939294), (3510, 0.003531326410021137), (3509, 0.003530134697057555), (3508, 0.0035284414414407804), (3507, 0.0035284400242554153), (3506, 0.003527967913999058), (3505, 0.0035272823397809083), (3504, 0.0035268779723426117), (3503, 0.0035251965676358042), (3502, 0.0035228583962455796), (3501, 0.0035223474261259053), (3500, 0.003521327495547996), (3499, 0.003519082303916409), (3498, 0.0035179825990809977), (3497, 0.003516846935058032), (3496, 0.0035163883004378253), (3495, 0.003514667429997025), (3494, 0.0035139147775665354), (3493, 0.003512832973165431), (3492, 0.003511878452964747), (3491, 0.003511595923039977), (3490, 0.003509406908535272), (3489, 0.003508384069421322), (3488, 0.003507804940342996), (3487, 0.0035070470118604945), (3486, 0.00350697975001644), (3485, 0.003506473365096849), (3484, 0.003505765470890605), (3483, 0.003504699449498764), (3482, 0.003502510596154667), (3481, 0.003502263598165421), (3480, 0.003501658317213958), (3479, 0.003501576363679319), (3478, 0.0035012640160979247), (3477, 0.003501227903116072), (3476, 0.0035008263627447256), (3475, 0.003500264191896764), (3474, 0.0034967028475844575), (3473, 0.0034963901099390876), (3472, 0.0034948807815844644), (3471, 0.003494618834140099), (3470, 0.003494130919963793), (3469, 0.003494116141433512), (3468, 0.0034930595291584833), (3467, 0.003492743560306984), (3466, 0.0034922645497490567), (3465, 0.003492129782625682), (3464, 0.003490370060506729), (3463, 0.0034901225714344714), (3462, 0.0034885880368995693), (3461, 0.0034880146755660265), (3460, 0.0034873215628664894), (3459, 0.003487113889496318), (3458, 0.0034851588060045595), (3457, 0.003485037479553784), (3456, 0.0034840614055397004), (3455, 0.0034835804521629694), (3454, 0.003482814577624735), (3453, 0.0034819226427708566), (3452, 0.003479001690295747), (3451, 0.0034779527182672884), (3450, 0.003477353343799053), (3449, 0.003476875687565898), (3448, 0.003476689552647704), (3447, 0.0034750334498532117), (3446, 0.0034739441922789077), (3445, 0.0034730483017183945), (3444, 0.0034724685041520728), (3443, 0.0034713865876064816), (3442, 0.0034711380065692576), (3441, 0.0034693456610768933), (3440, 0.0034690392290092622), (3439, 0.0034678128476441947), (3438, 0.0034675035927073067), (3437, 0.003464942932660254), (3436, 0.003464007329509238), (3435, 0.0034629637947975202), (3434, 0.0034624866426795275), (3433, 0.0034619059484774805), (3432, 0.0034617799626450365), (3431, 0.0034614688816161686), (3430, 0.0034606095562738043), (3429, 0.0034603967051520398), (3428, 0.003459177690682792), (3427, 0.003458719043706033), (3426, 0.003458489338785011), (3425, 0.003457837148973846), (3424, 0.003456233064731865), (3423, 0.0034560451564862125), (3422, 0.003455554325442031), (3421, 0.0034554845614016894), (3420, 0.0034551376606483273), (3419, 0.0034539059074154676), (3418, 0.003453597499973809), (3417, 0.003452534735545211), (3416, 0.003451865244763239), (3415, 0.003451598391558721), (3414, 0.0034513149294668867), (3413, 0.00344883207135795), (3412, 0.0034476734618816437), (3411, 0.0034464290733748943), (3410, 0.003445508957452724), (3409, 0.0034454961226244754), (3408, 0.003444026518998047), (3407, 0.003443919157617552), (3406, 0.0034436028763817797), (3405, 0.0034433809986160815), (3404, 0.0034419481307731777), (3403, 0.0034411465805378972), (3402, 0.0034406554586218266), (3401, 0.003439120253250277), (3400, 0.003438856075530259), (3399, 0.0034384531262807924), (3398, 0.0034367822807861983), (3397, 0.0034364148538741507), (3396, 0.003435261265003497), (3395, 0.0034348764880795433), (3394, 0.003429964859989664), (3393, 0.0034275815772168636), (3392, 0.003427294000576143), (3391, 0.003426573671512061), (3390, 0.0034262177022689445), (3389, 0.003421972780761099), (3388, 0.003420279581541807), (3387, 0.003419723998830754), (3386, 0.003418155075864019), (3385, 0.003415076182131392), (3384, 0.0034149806866174102), (3383, 0.0034147276867028398), (3382, 0.0034140890587610185), (3381, 0.0034134067006915767), (3380, 0.003412962655233489), (3379, 0.0034125290013359514), (3378, 0.0034120312617809756), (3377, 0.003411702481807278), (3376, 0.0034115131346096786), (3375, 0.003411372332149015), (3374, 0.00341049798237447), (3373, 0.003410274978130303), (3372, 0.0034099254611736347), (3371, 0.003409527215322618), (3370, 0.0034093413836758487), (3369, 0.003409249926889806), (3368, 0.0034083777195960856), (3367, 0.0034081612710191852), (3366, 0.003407137925345907), (3365, 0.003404253348951644), (3364, 0.003404194862658288), (3363, 0.003403939438342166), (3362, 0.0034038467624583767), (3361, 0.0034036158027822626), (3360, 0.0034032821495730784), (3359, 0.003402035470408405), (3358, 0.00340095573995586), (3357, 0.003399466199904468), (3356, 0.0033986129399998302), (3355, 0.0033980320115123528), (3354, 0.003397772154227818), (3353, 0.003396843436319276), (3352, 0.0033946828879335956), (3351, 0.0033944705232753333), (3350, 0.003394004368601128), (3349, 0.0033936159689014747), (3348, 0.0033925840121998086), (3347, 0.003392546737733904), (3346, 0.0033919809813408555), (3345, 0.0033893787660296), (3344, 0.0033876784475361946), (3343, 0.003387527052037132), (3342, 0.0033874526838788017), (3341, 0.003386602213775762), (3340, 0.0033864488650869043), (3339, 0.0033843521383460553), (3338, 0.003383741764379473), (3337, 0.003380488373995986), (3336, 0.003377985490242981), (3335, 0.0033777390179659888), (3334, 0.003376878602355516), (3333, 0.0033760783787960985), (3332, 0.0033760377516743973), (3331, 0.00337538535592439), (3330, 0.003373797992463034), (3329, 0.003373305991800027), (3328, 0.0033705373806202986), (3327, 0.0033694335879877746), (3326, 0.0033690917762215517), (3325, 0.0033671465884446018), (3324, 0.003366804185783925), (3323, 0.0033664158888515863), (3322, 0.0033660525577493606), (3321, 0.0033659330290506926), (3320, 0.0033655060502055544), (3319, 0.0033652731038803225), (3318, 0.0033615804288155207), (3317, 0.0033614435218176364), (3316, 0.0033606943684777475), (3315, 0.0033603135404646767), (3314, 0.003359783031040143), (3313, 0.0033591756498767755), (3312, 0.003358733815675448), (3311, 0.003358520375435226), (3310, 0.0033576792950525077), (3309, 0.003357580824707455), (3308, 0.0033570009991970213), (3307, 0.003356106841381244), (3306, 0.003356026755268771), (3305, 0.0033558457103003534), (3304, 0.0033555710541894033), (3303, 0.0033545694976901963), (3302, 0.0033527577462814685), (3301, 0.003352209306391872), (3300, 0.0033493913235232388), (3299, 0.003348998363212228), (3298, 0.0033489558333988424), (3297, 0.0033479115924634918), (3296, 0.0033466533260328927), (3295, 0.0033464587057060718), (3294, 0.0033440527158732814), (3293, 0.0033440191542305534), (3292, 0.0033439872158667035), (3291, 0.0033429022200717907), (3290, 0.0033409763279961336), (3289, 0.0033401298555175898), (3288, 0.0033392318503649688), (3287, 0.003338215414659045), (3286, 0.0033379531302230258), (3285, 0.003337802112666943), (3284, 0.0033357837867759154), (3283, 0.0033356537730937054), (3282, 0.0033354955804600636), (3281, 0.003333507142082537), (3280, 0.0033332526897683263), (3279, 0.0033331336612061157), (3278, 0.003330895767844202), (3277, 0.0033305633450449834), (3276, 0.0033296684047838645), (3275, 0.0033291758534250795), (3274, 0.003328581031547612), (3273, 0.0033278001650750254), (3272, 0.003325738008369862), (3271, 0.0033220507047686597), (3270, 0.0033215762578696043), (3269, 0.0033215013778845263), (3268, 0.003319368498213262), (3267, 0.003318940314629857), (3266, 0.003318270251159263), (3265, 0.0033166149700040583), (3264, 0.0033150442668158048), (3263, 0.0033149663697380435), (3262, 0.0033148197870356785), (3261, 0.0033147978279932017), (3260, 0.003314501374791572), (3259, 0.003312703101924018), (3258, 0.003312666645465417), (3257, 0.0033125593602559653), (3256, 0.0033124245859103636), (3255, 0.003312367988646646), (3254, 0.0033119393585298845), (3253, 0.003311793727511357), (3252, 0.003311729847385833), (3251, 0.003310811312558563), (3250, 0.0033060443787088617), (3249, 0.0033051493153039998), (3248, 0.0033044756129653216), (3247, 0.003304373939466547), (3246, 0.003303917339579298), (3245, 0.0033019471409598483), (3244, 0.0033016145971079994), (3243, 0.003301452825690516), (3242, 0.0032966456547739555), (3241, 0.0032965933182661357), (3240, 0.0032942577990149485), (3239, 0.0032924558681991603), (3238, 0.0032922878949994926), (3237, 0.003291118178840741), (3236, 0.0032907284681748666), (3235, 0.0032904991446646805), (3234, 0.0032895503678057507), (3233, 0.003288309368105254), (3232, 0.0032882091951571854), (3231, 0.0032877588588837913), (3230, 0.003287212530504408), (3229, 0.0032871567256954606), (3228, 0.0032871259193653947), (3227, 0.0032859600331987997), (3226, 0.0032858731322446956), (3225, 0.0032856258558960597), (3224, 0.0032833167697445746), (3223, 0.0032807589165877527), (3222, 0.0032806462260697414), (3221, 0.0032790024279098625), (3220, 0.0032781113841028144), (3219, 0.003277615155713538), (3218, 0.0032763258462387857), (3217, 0.0032761250521754193), (3216, 0.0032760055081379864), (3215, 0.003275223935226484), (3214, 0.0032747147699063086), (3213, 0.0032745362280255353), (3212, 0.003273291434787629), (3211, 0.0032725630056000547), (3210, 0.0032715362675038153), (3209, 0.0032700131163607106), (3208, 0.003269478957199926), (3207, 0.0032677357142869424), (3206, 0.0032669134455459723), (3205, 0.003266693495078065), (3204, 0.003265884249909791), (3203, 0.0032655766662913195), (3202, 0.003265355307733823), (3201, 0.0032644542228245444), (3200, 0.003264254537119158), (3199, 0.003264076248020646), (3198, 0.0032638984758908557), (3197, 0.003263507526249613), (3196, 0.003263161722345632), (3195, 0.0032628219866283246), (3194, 0.0032624660327766203), (3193, 0.003258324702093219), (3192, 0.003257159206628313), (3191, 0.0032562995304896273), (3190, 0.0032551832450101264), (3189, 0.0032549797007719213), (3188, 0.0032536559449265986), (3187, 0.003253187231354034), (3186, 0.0032521128902398373), (3185, 0.0032516891447461633), (3184, 0.003251064222431825), (3183, 0.0032497565913114806), (3182, 0.003249739031873723), (3181, 0.0032492544057731577), (3180, 0.0032488852493250953), (3179, 0.003248456846447466), (3178, 0.003248274765455875), (3177, 0.003248210097707289), (3176, 0.003248058675452639), (3175, 0.003247902555398014), (3174, 0.0032470745258755835), (3173, 0.003244580398527248), (3172, 0.0032445448121712884), (3171, 0.003243406949757697), (3170, 0.0032430135165769183), (3169, 0.0032422672152784995), (3168, 0.0032420462030993275), (3167, 0.0032416965241235437), (3166, 0.0032412783885820643), (3165, 0.0032412275319808085), (3164, 0.003241215905364289), (3163, 0.0032412146359477936), (3162, 0.003241007608346213), (3161, 0.003240402025273478), (3160, 0.0032400264474078716), (3159, 0.0032390884876188912), (3158, 0.003237841079258764), (3157, 0.0032376933961781964), (3156, 0.003237301624051269), (3155, 0.0032370116664139936), (3154, 0.0032367791340135125), (3153, 0.0032363194835827217), (3152, 0.0032356154824886353), (3151, 0.0032347922889591936), (3150, 0.003233403293095937), (3149, 0.0032329390081881604), (3148, 0.003231514150078672), (3147, 0.003230986923515239), (3146, 0.0032307716455281664), (3145, 0.003230445419203571), (3144, 0.0032303131924569435), (3143, 0.003229632842648788), (3142, 0.003228548649042236), (3141, 0.0032284256924054607), (3140, 0.003228090925615892), (3139, 0.0032261850272295874), (3138, 0.003222885252484673), (3137, 0.003222196542452276), (3136, 0.0032217733438022664), (3135, 0.0032181042648084996), (3134, 0.00321788611126122), (3133, 0.0032171643848475603), (3132, 0.003216887050011814), (3131, 0.003216290488656989), (3130, 0.0032157423618456586), (3129, 0.0032155557929515475), (3128, 0.0032130986902914652), (3127, 0.003212670646008208), (3126, 0.003212241202404982), (3125, 0.0032115933920871215), (3124, 0.0032111210614532933), (3123, 0.0032107514794280346), (3122, 0.003210662976377867), (3121, 0.003209640678419136), (3120, 0.003209596066074395), (3119, 0.003207742694739267), (3118, 0.003207647623997557), (3117, 0.003207059809577475), (3116, 0.003205212553664561), (3115, 0.0032046620370767584), (3114, 0.003203774794089664), (3113, 0.003203568517516517), (3112, 0.003203363435712985), (3111, 0.003202628792775579), (3110, 0.0031999864434906046), (3109, 0.003198446546714889), (3108, 0.0031978158167621333), (3107, 0.003197273367686282), (3106, 0.003196759200479871), (3105, 0.003196304648055125), (3104, 0.0031962628235524485), (3103, 0.0031961325888579667), (3102, 0.0031955217275053656), (3101, 0.003194757896905548), (3100, 0.0031944420235825), (3099, 0.0031937091258741916), (3098, 0.003193368684184144), (3097, 0.0031931190957456604), (3096, 0.0031921010663536636), (3095, 0.0031908099116171097), (3094, 0.0031904682450415406), (3093, 0.003190056062655517), (3092, 0.003189027180873506), (3091, 0.003187385345776344), (3090, 0.0031869432223888827), (3089, 0.003186495601025065), (3088, 0.003186196024750857), (3087, 0.0031851721711180074), (3086, 0.003182968251707843), (3085, 0.003181509372612894), (3084, 0.003181139507190528), (3083, 0.0031806028644387435), (3082, 0.0031800865777071403), (3081, 0.003178840812172685), (3080, 0.0031778542346688698), (3079, 0.0031772363789044503), (3078, 0.0031763657943551025), (3077, 0.0031761084677375145), (3076, 0.0031757377784391557), (3075, 0.003175108522139176), (3074, 0.0031740023246322746), (3073, 0.0031739379761442947), (3072, 0.003173622132211436), (3071, 0.0031730435676504895), (3070, 0.0031723025193314785), (3069, 0.0031722055351672933), (3068, 0.0031721885150790565), (3067, 0.003171415568609095), (3066, 0.0031711400065695537), (3065, 0.0031711153884202378), (3064, 0.003170886149924929), (3063, 0.003170277917481115), (3062, 0.0031701516582664274), (3061, 0.0031696519652043517), (3060, 0.0031685855914597902), (3059, 0.0031680377019342467), (3058, 0.0031680242016541766), (3057, 0.003167505342522735), (3056, 0.0031664920057725217), (3055, 0.0031663311285790073), (3054, 0.0031660343343842814), (3053, 0.0031649198876661845), (3052, 0.0031633088435394866), (3051, 0.0031621055640749956), (3050, 0.00316186716539577), (3049, 0.0031614173957202865), (3048, 0.0031601628943000617), (3047, 0.0031596797456101573), (3046, 0.0031596680377758905), (3045, 0.0031595889131795633), (3044, 0.003159515309445296), (3043, 0.003159241199230448), (3042, 0.0031589830944102008), (3041, 0.003158147796630416), (3040, 0.0031575843353633375), (3039, 0.0031552335316342383), (3038, 0.003153753224535943), (3037, 0.0031526789874227997), (3036, 0.0031521444947939107), (3035, 0.003151180126446256), (3034, 0.003146398656135899), (3033, 0.003143858257514565), (3032, 0.0031437293912087412), (3031, 0.0031434914512907743), (3030, 0.0031422758254787287), (3029, 0.0031422558202673064), (3028, 0.0031418579374894425), (3027, 0.003141405003609405), (3026, 0.003140752275525336), (3025, 0.0031402766141524637), (3024, 0.003139810642053692), (3023, 0.0031397755222510684), (3022, 0.0031396180961599596), (3021, 0.003139119256528563), (3020, 0.0031386146660271606), (3019, 0.00313779837870133), (3018, 0.0031361617622754187), (3017, 0.003135503603697414), (3016, 0.0031342744004974558), (3015, 0.003133725951004867), (3014, 0.003133665873030758), (3013, 0.003133048047690175), (3012, 0.0031314978036972073), (3011, 0.0031314320288386484), (3010, 0.0031299716808878488), (3009, 0.003129752192157379), (3008, 0.0031279757516763543), (3007, 0.003127140665460488), (3006, 0.0031270725092186163), (3005, 0.0031262537955729732), (3004, 0.003125236925047615), (3003, 0.003124597767006473), (3002, 0.0031244040836060387), (3001, 0.0031240500942940094), (3000, 0.003123234059499142), (2999, 0.003122564309441697), (2998, 0.0031225166820420037), (2997, 0.0031210230237280205), (2996, 0.0031205062269230558), (2995, 0.0031178324674976513), (2994, 0.00311760944946434), (2993, 0.0031175028892844753), (2992, 0.003117277648615865), (2991, 0.003116733672275513), (2990, 0.003116443829910239), (2989, 0.003116217594013733), (2988, 0.003116022087288839), (2987, 0.0031144940408495314), (2986, 0.0031138703313650907), (2985, 0.003113067681125421), (2984, 0.003111460296883292), (2983, 0.003110919065030147), (2982, 0.0031106635034314333), (2981, 0.0031103955975862367), (2980, 0.003105593006452132), (2979, 0.003105000212455167), (2978, 0.0031027696012841965), (2977, 0.0031006324037283995), (2976, 0.0031002753984902577), (2975, 0.0031001132006401263), (2974, 0.003099276277174368), (2973, 0.003098987012994299), (2972, 0.0030981973821364505), (2971, 0.003097200018372754), (2970, 0.0030962056329145275), (2969, 0.0030951353484032448), (2968, 0.0030944061811736473), (2967, 0.0030938928313210498), (2966, 0.0030938266141835266), (2965, 0.003093402114938416), (2964, 0.0030932367771833056), (2963, 0.003090627318367696), (2962, 0.003089612572377512), (2961, 0.003086090799517884), (2960, 0.003085016057329953), (2959, 0.0030847608318606157), (2958, 0.0030818886288471827), (2957, 0.0030806537732592535), (2956, 0.0030797016637580566), (2955, 0.0030795034373570992), (2954, 0.0030786448288717266), (2953, 0.003077741855142314), (2952, 0.0030760851794194785), (2951, 0.0030759413388723165), (2950, 0.003074631765321279), (2949, 0.003074452260923338), (2948, 0.0030735674185152404), (2947, 0.0030733113939640606), (2946, 0.0030732436206390083), (2945, 0.003072964515322578), (2944, 0.0030727758481029228), (2943, 0.003071801456029046), (2942, 0.0030707503818895392), (2941, 0.0030684629583863756), (2940, 0.003067327128379404), (2939, 0.0030670800299091266), (2938, 0.0030660937154988314), (2937, 0.0030658962488427175), (2936, 0.003065415235384765), (2935, 0.0030651279197845545), (2934, 0.0030648389409421847), (2933, 0.0030642484037915886), (2932, 0.0030632825393450912), (2931, 0.0030626252173270307), (2930, 0.003061698759226045), (2929, 0.0030590258199326807), (2928, 0.0030564300646662157), (2927, 0.003054715740714958), (2926, 0.0030538735932869633), (2925, 0.00305335997535674), (2924, 0.0030523125599593126), (2923, 0.003050697686007371), (2922, 0.0030505126561233193), (2921, 0.003050496357645504), (2920, 0.0030491396572326695), (2919, 0.003048922216904982), (2918, 0.0030472411294963295), (2917, 0.0030464587536903525), (2916, 0.003045539799708636), (2915, 0.0030429314287629887), (2914, 0.003040991823420519), (2913, 0.0030375358618494426), (2912, 0.003032129841111006), (2911, 0.003029271617836895), (2910, 0.003028492210960376), (2909, 0.003028220833736188), (2908, 0.0030272951799672405), (2907, 0.003027199552890355), (2906, 0.003027062545451321), (2905, 0.003026490540011692), (2904, 0.003024694711407963), (2903, 0.003023413902484268), (2902, 0.0030228809069243277), (2901, 0.003022770422942204), (2900, 0.0030224773956915962), (2899, 0.003022360178988273), (2898, 0.0030209012750700838), (2897, 0.0030203783401565637), (2896, 0.0030191416253871734), (2895, 0.0030183514319399463), (2894, 0.00301755173680976), (2893, 0.003015339077843515), (2892, 0.0030145989947951437), (2891, 0.003012860750942503), (2890, 0.003012327766301977), (2889, 0.003010781438944717), (2888, 0.0030104260971576175), (2887, 0.0030101674964222243), (2886, 0.0030099967506078238), (2885, 0.0030097909607997397), (2884, 0.003008882800099604), (2883, 0.003007213996200288), (2882, 0.0030058620351014146), (2881, 0.003005654843674075), (2880, 0.0030054112302526246), (2879, 0.0030038056212168865), (2878, 0.0030036859710423493), (2877, 0.003003270939789635), (2876, 0.0030009652146276715), (2875, 0.0030005107750518717), (2874, 0.002999449668770005), (2873, 0.0029961185065671262), (2872, 0.0029946985280687216), (2871, 0.0029943978226348966), (2870, 0.002993723876561726), (2869, 0.0029923515063214686), (2868, 0.0029922001721606533), (2867, 0.0029885784901972586), (2866, 0.0029881240722958932), (2865, 0.002987766199628126), (2864, 0.0029854171916742886), (2863, 0.002985339648025957), (2862, 0.00298465816271627), (2861, 0.002983759828186237), (2860, 0.0029831290389696744), (2859, 0.002982785125343157), (2858, 0.0029826690004995985), (2857, 0.00298223000768747), (2856, 0.002981997410277315), (2855, 0.0029813902089024006), (2854, 0.002978929752475876), (2853, 0.0029769064454098467), (2852, 0.002975483639063389), (2851, 0.00297405465392305), (2850, 0.0029739356104656815), (2849, 0.0029722054570600763), (2848, 0.0029715644379258105), (2847, 0.002971263056431614), (2846, 0.002969326432855021), (2845, 0.0029670307029235235), (2844, 0.0029670093008227873), (2843, 0.0029634011620788604), (2842, 0.002963135220904827), (2841, 0.0029623720152797844), (2840, 0.002960547519463198), (2839, 0.002959113245907678), (2838, 0.0029589399965373134), (2837, 0.0029581596358956006), (2836, 0.0029579824708683795), (2835, 0.002957251632865401), (2834, 0.0029570020222087186), (2833, 0.002956680234368505), (2832, 0.002956185946093889), (2831, 0.0029561046448119428), (2830, 0.0029551167868634483), (2829, 0.002954873406028285), (2828, 0.002954760108848874), (2827, 0.0029518982870819837), (2826, 0.0029518468046477427), (2825, 0.002942852968646538), (2824, 0.0029405498337517996), (2823, 0.0029389821047083645), (2822, 0.0029388328471962), (2821, 0.0029326745090976535), (2820, 0.0029317233784107465), (2819, 0.00293122499779293), (2818, 0.0029305685282676117), (2817, 0.002928807913546832), (2816, 0.0029281804968501785), (2815, 0.0029280267071642987), (2814, 0.0029268730261358352), (2813, 0.0029250773084333343), (2812, 0.002924433475925494), (2811, 0.002923293383090076), (2810, 0.002923033711726635), (2809, 0.0029223439477529148), (2808, 0.002921771830889718), (2807, 0.002919843487091917), (2806, 0.0029173651070896743), (2805, 0.0029171274321423187), (2804, 0.00291682355239004), (2803, 0.0029159610808200324), (2802, 0.0029154325040074663), (2801, 0.0029139567743583935), (2800, 0.002912958356297056), (2799, 0.002910346538741838), (2798, 0.00290889696809073), (2797, 0.0029083604339133103), (2796, 0.002905628951210215), (2795, 0.002904428973493341), (2794, 0.002901230117548601), (2793, 0.002900380141284696), (2792, 0.0029001377032558213), (2791, 0.0028971853975885776), (2790, 0.0028966281063421205), (2789, 0.0028951121232849673), (2788, 0.002889761470014706), (2787, 0.0028886237589349833), (2786, 0.002888348754728107), (2785, 0.0028873581629108185), (2784, 0.0028859221397038344), (2783, 0.002885304874828513), (2782, 0.002885066471758382), (2781, 0.0028845174258374812), (2780, 0.0028838412744295475), (2779, 0.002883718416863809), (2778, 0.002879983384053679), (2777, 0.002879424559840145), (2776, 0.0028793602692727596), (2775, 0.0028784039618466963), (2774, 0.0028782392928893524), (2773, 0.0028738955380997696), (2772, 0.0028712849300435604), (2771, 0.002865749722378661), (2770, 0.0028654411577098988), (2769, 0.0028647517929945394), (2768, 0.002862764269740727), (2767, 0.0028617476727715355), (2766, 0.0028610698482670815), (2765, 0.0028566206282033455), (2764, 0.002853341260917962), (2763, 0.0028525069585058284), (2762, 0.002852415282114889), (2761, 0.0028518940147242394), (2760, 0.0028491266799824436), (2759, 0.002848645440135825), (2758, 0.002846382907341347), (2757, 0.0028432588437990727), (2756, 0.0028429426801205105), (2755, 0.002840138496358799), (2754, 0.0028398973056955688), (2753, 0.0028392242933541153), (2752, 0.0028373894704300994), (2751, 0.0028344194719255103), (2750, 0.0028283377281213837), (2749, 0.002827643918419121), (2748, 0.0028276419351368574), (2747, 0.0028270057031126957), (2746, 0.0028267098059136905), (2745, 0.0028242375676300236), (2744, 0.002822939129270197), (2743, 0.0028218219958232784), (2742, 0.00281643617015564), (2741, 0.0028163218043118056), (2740, 0.0028146505887197506), (2739, 0.0028122668288478483), (2738, 0.0028098756494255896), (2737, 0.002806923415941908), (2736, 0.0028057083267332863), (2735, 0.0028056441187320857), (2734, 0.002804321426231039), (2733, 0.0028020920301029813), (2732, 0.0028020064182070993), (2731, 0.002801112287866302), (2730, 0.002800407238124473), (2729, 0.0027986681131753834), (2728, 0.002797053132308209), (2727, 0.002796478997632375), (2726, 0.002796325310133129), (2725, 0.002795139890162547), (2724, 0.002790359373954628), (2723, 0.0027884854714961553), (2722, 0.0027884245137038454), (2721, 0.002788147289558019), (2720, 0.0027861234605095027), (2719, 0.002785461772740242), (2718, 0.0027852732690360005), (2717, 0.0027787400592034096), (2716, 0.0027785060019452582), (2715, 0.002778242108232094), (2714, 0.0027764563797232655), (2713, 0.002773535238894783), (2712, 0.0027723938679988422), (2711, 0.002770722255524499), (2710, 0.002770098242187054), (2709, 0.0027672740061500866), (2708, 0.002763312646263208), (2707, 0.00276297262921783), (2706, 0.0027538371504127893), (2705, 0.002753241748222338), (2704, 0.002752315375624699), (2703, 0.002750878711415432), (2702, 0.0027467463559520057), (2701, 0.002745000769721916), (2700, 0.002739983404315345), (2699, 0.0027328430660902426), (2698, 0.0027285726257343227), (2697, 0.002725722202433112), (2696, 0.002724608476224022), (2695, 0.0027244721957523496), (2694, 0.002720487289093826), (2693, 0.0027104379376120835), (2692, 0.002704571766120001), (2691, 0.002704384907066552), (2690, 0.0027039926955525644), (2689, 0.0026898468831286298), (2688, 0.0026843279027681734), (2687, 0.0026784941948205026), (2686, 0.002675671776335676), (2685, 0.0026744094002012493), (2684, 0.0026700920227736764), (2683, 0.002669958375483009), (2682, 0.0026683856441791125), (2681, 0.002661641167366459), (2680, 0.0026609200544618016), (2679, 0.0026569620294991723), (2678, 0.0026548526594262875), (2677, 0.00265360879049182), (2676, 0.002641207651311893), (2675, 0.0026309495135686018), (2674, 0.002627154390864458), (2673, 0.002619943430694418), (2672, 0.0026173349939790755), (2671, 0.002610823048686722), (2670, 0.002609460162739462), (2669, 0.002602304195675489), (2668, 0.0025890908953877297), (2667, 0.002587007960933268), (2666, 0.0025824701177843924), (2665, 0.0025781978814054247), (2664, 0.0025781960989858933), (2663, 0.0025694165346528287), (2662, 0.002557474479853247), (2661, 0.0025569669935951926), (2660, 0.002554819190892146), (2659, 0.0025400638754674446), (2658, 0.0025351753647066618), (2657, 0.0025318001988684675), (2656, 0.002531366437239543), (2655, 0.002526664087371453), (2654, 0.0025235308964981005), (2653, 0.002522185232288048), (2652, 0.00250353980909919), (2651, 0.002501860288794715), (2650, 0.002494034857173617), (2649, 0.002472319428399967), (2648, 0.00246780645200661), (2647, 0.0024628389755318152), (2646, 0.0023984170201857523), (2645, 0.0023658964066378273), (2644, 0.0023522729061353476), (2643, 0.002338058802382365), (2642, 0.002335766719259476), (2641, 0.002317862408058802), (2640, 0.002310075778219728), (2639, 0.0023030423134200845), (2638, 0.0022959972979069592), (2637, 0.0022453092229284526), (2636, 0.0021593380027520857), (2635, 0.0021531592813891845), (2634, 0.0020444814732403036), (2633, 0.0015186344895766696), (2632, 0.0011818226685073171), (0, 0.0), (1, 0.0), (2, 0.0), (3, 0.0), (4, 0.0), (5, 0.0), (6, 0.0), (7, 0.0), (8, 0.0), (9, 0.0), (10, 0.0), (11, 0.0), (12, 0.0), (13, 0.0), (14, 0.0), (15, 0.0), (16, 0.0), (17, 0.0), (18, 0.0), (19, 0.0), (20, 0.0), (21, 0.0), (22, 0.0), (23, 0.0), (24, 0.0), (25, 0.0), (26, 0.0), (27, 0.0), (28, 0.0), (29, 0.0), (30, 0.0), (31, 0.0), (32, 0.0), (33, 0.0), (34, 0.0), (35, 0.0), (36, 0.0), (37, 0.0), (38, 0.0), (39, 0.0), (40, 0.0), (41, 0.0), (42, 0.0), (43, 0.0), (44, 0.0), (45, 0.0), (46, 0.0), (47, 0.0), (48, 0.0), (49, 0.0), (50, 0.0), (51, 0.0), (52, 0.0), (53, 0.0), (54, 0.0), (55, 0.0), (56, 0.0), (57, 0.0), (58, 0.0), (59, 0.0), (60, 0.0), (61, 0.0), (62, 0.0), (63, 0.0), (64, 0.0), (65, 0.0), (66, 0.0), (67, 0.0), (68, 0.0), (69, 0.0), (70, 0.0), (71, 0.0), (72, 0.0), (73, 0.0), (74, 0.0), (75, 0.0), (76, 0.0), (77, 0.0), (78, 0.0), (79, 0.0), (80, 0.0), (81, 0.0), (82, 0.0), (83, 0.0), (84, 0.0), (85, 0.0), (86, 0.0), (87, 0.0), (88, 0.0), (89, 0.0), (90, 0.0), (91, 0.0), (92, 0.0), (93, 0.0), (94, 0.0), (95, 0.0), (96, 0.0), (97, 0.0), (98, 0.0), (99, 0.0), (100, 0.0), (101, 0.0), (102, 0.0), (103, 0.0), (104, 0.0), (105, 0.0), (106, 0.0), (107, 0.0), (108, 0.0), (109, 0.0), (110, 0.0), (111, 0.0), (112, 0.0), (113, 0.0), (114, 0.0), (115, 0.0), (116, 0.0), (117, 0.0), (118, 0.0), (119, 0.0), (120, 0.0), (121, 0.0), (122, 0.0), (123, 0.0), (124, 0.0), (125, 0.0), (126, 0.0), (127, 0.0), (128, 0.0), (129, 0.0), (130, 0.0), (131, 0.0), (132, 0.0), (133, 0.0), (134, 0.0), (135, 0.0), (136, 0.0), (137, 0.0), (138, 0.0), (139, 0.0), (140, 0.0), (141, 0.0), (142, 0.0), (143, 0.0), (144, 0.0), (145, 0.0), (146, 0.0), (147, 0.0), (148, 0.0), (149, 0.0), (150, 0.0), (151, 0.0), (152, 0.0), (153, 0.0), (154, 0.0), (155, 0.0), (156, 0.0), (157, 0.0), (158, 0.0), (159, 0.0), (160, 0.0), (161, 0.0), (162, 0.0), (163, 0.0), (164, 0.0), (165, 0.0), (166, 0.0), (167, 0.0), (168, 0.0), (169, 0.0), (170, 0.0), (171, 0.0), (172, 0.0), (173, 0.0), (174, 0.0), (175, 0.0), (176, 0.0), (177, 0.0), (178, 0.0), (179, 0.0), (180, 0.0), (181, 0.0), (182, 0.0), (183, 0.0), (184, 0.0), (185, 0.0), (186, 0.0), (187, 0.0), (188, 0.0), (189, 0.0), (190, 0.0), (191, 0.0), (192, 0.0), (193, 0.0), (194, 0.0), (195, 0.0), (196, 0.0), (197, 0.0), (198, 0.0), (199, 0.0), (200, 0.0), (201, 0.0), (202, 0.0), (203, 0.0), (204, 0.0), (205, 0.0), (206, 0.0), (207, 0.0), (208, 0.0), (209, 0.0), (210, 0.0), (211, 0.0), (212, 0.0), (213, 0.0), (214, 0.0), (215, 0.0), (216, 0.0), (217, 0.0), (218, 0.0), (219, 0.0), (220, 0.0), (221, 0.0), (222, 0.0), (223, 0.0), (224, 0.0), (225, 0.0), (226, 0.0), (227, 0.0), (228, 0.0), (229, 0.0), (230, 0.0), (231, 0.0), (232, 0.0), (233, 0.0), (234, 0.0), (235, 0.0), (236, 0.0), (237, 0.0), (238, 0.0), (239, 0.0), (240, 0.0), (241, 0.0), (242, 0.0), (243, 0.0), (244, 0.0), (245, 0.0), (246, 0.0), (247, 0.0), (248, 0.0), (249, 0.0), (250, 0.0), (251, 0.0), (252, 0.0), (253, 0.0), (254, 0.0), (255, 0.0), (256, 0.0), (257, 0.0), (258, 0.0), (259, 0.0), (260, 0.0), (261, 0.0), (262, 0.0), (263, 0.0), (264, 0.0), (265, 0.0), (266, 0.0), (267, 0.0), (268, 0.0), (269, 0.0), (270, 0.0), (271, 0.0), (272, 0.0), (273, 0.0), (274, 0.0), (275, 0.0), (276, 0.0), (277, 0.0), (278, 0.0), (279, 0.0), (280, 0.0), (281, 0.0), (282, 0.0), (283, 0.0), (284, 0.0), (285, 0.0), (286, 0.0), (287, 0.0), (288, 0.0), (289, 0.0), (290, 0.0), (291, 0.0), (292, 0.0), (293, 0.0), (294, 0.0), (295, 0.0), (296, 0.0), (297, 0.0), (298, 0.0), (299, 0.0), (300, 0.0), (301, 0.0), (302, 0.0), (303, 0.0), (304, 0.0), (305, 0.0), (306, 0.0), (307, 0.0), (308, 0.0), (309, 0.0), (310, 0.0), (311, 0.0), (312, 0.0), (313, 0.0), (314, 0.0), (315, 0.0), (316, 0.0), (317, 0.0), (318, 0.0), (319, 0.0), (320, 0.0), (321, 0.0), (322, 0.0), (323, 0.0), (324, 0.0), (325, 0.0), (326, 0.0), (327, 0.0), (328, 0.0), (329, 0.0), (330, 0.0), (331, 0.0), (332, 0.0), (333, 0.0), (334, 0.0), (335, 0.0), (336, 0.0), (337, 0.0), (338, 0.0), (339, 0.0), (340, 0.0), (341, 0.0), (342, 0.0), (343, 0.0), (344, 0.0), (345, 0.0), (346, 0.0), (347, 0.0), (348, 0.0), (349, 0.0), (350, 0.0), (351, 0.0), (352, 0.0), (353, 0.0), (354, 0.0), (355, 0.0), (356, 0.0), (357, 0.0), (358, 0.0), (359, 0.0), (360, 0.0), (361, 0.0), (362, 0.0), (363, 0.0), (364, 0.0), (365, 0.0), (366, 0.0), (367, 0.0), (368, 0.0), (369, 0.0), (370, 0.0), (371, 0.0), (372, 0.0), (373, 0.0), (374, 0.0), (375, 0.0), (376, 0.0), (377, 0.0), (378, 0.0), (379, 0.0), (380, 0.0), (381, 0.0), (382, 0.0), (383, 0.0), (384, 0.0), (385, 0.0), (386, 0.0), (387, 0.0), (388, 0.0), (389, 0.0), (390, 0.0), (391, 0.0), (392, 0.0), (393, 0.0), (394, 0.0), (395, 0.0), (396, 0.0), (397, 0.0), (398, 0.0), (399, 0.0), (400, 0.0), (401, 0.0), (402, 0.0), (403, 0.0), (404, 0.0), (405, 0.0), (406, 0.0), (407, 0.0), (408, 0.0), (409, 0.0), (410, 0.0), (411, 0.0), (412, 0.0), (413, 0.0), (414, 0.0), (415, 0.0), (416, 0.0), (417, 0.0), (418, 0.0), (419, 0.0), (420, 0.0), (421, 0.0), (422, 0.0), (423, 0.0), (424, 0.0), (425, 0.0), (426, 0.0), (427, 0.0), (428, 0.0), (429, 0.0), (430, 0.0), (431, 0.0), (432, 0.0), (433, 0.0), (434, 0.0), (435, 0.0), (436, 0.0), (437, 0.0), (438, 0.0), (439, 0.0), (440, 0.0), (441, 0.0), (442, 0.0), (443, 0.0), (444, 0.0), (445, 0.0), (446, 0.0), (447, 0.0), (448, 0.0), (449, 0.0), (450, 0.0), (451, 0.0), (452, 0.0), (453, 0.0), (454, 0.0), (455, 0.0), (456, 0.0), (457, 0.0), (458, 0.0), (459, 0.0), (460, 0.0), (461, 0.0), (462, 0.0), (463, 0.0), (464, 0.0), (465, 0.0), (466, 0.0), (467, 0.0), (468, 0.0), (469, 0.0), (470, 0.0), (471, 0.0), (472, 0.0), (473, 0.0), (474, 0.0), (475, 0.0), (476, 0.0), (477, 0.0), (478, 0.0), (479, 0.0), (480, 0.0), (481, 0.0), (482, 0.0), (483, 0.0), (484, 0.0), (485, 0.0), (486, 0.0), (487, 0.0), (488, 0.0), (489, 0.0), (490, 0.0), (491, 0.0), (492, 0.0), (493, 0.0), (494, 0.0), (495, 0.0), (496, 0.0), (497, 0.0), (498, 0.0), (499, 0.0), (500, 0.0), (501, 0.0), (502, 0.0), (503, 0.0), (504, 0.0), (505, 0.0), (506, 0.0), (507, 0.0), (508, 0.0), (509, 0.0), (510, 0.0), (511, 0.0), (512, 0.0), (513, 0.0), (514, 0.0), (515, 0.0), (516, 0.0), (517, 0.0), (518, 0.0), (519, 0.0), (520, 0.0), (521, 0.0), (522, 0.0), (523, 0.0), (524, 0.0), (525, 0.0), (526, 0.0), (527, 0.0), (528, 0.0), (529, 0.0), (530, 0.0), (531, 0.0), (532, 0.0), (533, 0.0), (534, 0.0), (535, 0.0), (536, 0.0), (537, 0.0), (538, 0.0), (539, 0.0), (540, 0.0), (541, 0.0), (542, 0.0), (543, 0.0), (544, 0.0), (545, 0.0), (546, 0.0), (547, 0.0), (548, 0.0), (549, 0.0), (550, 0.0), (551, 0.0), (552, 0.0), (553, 0.0), (554, 0.0), (555, 0.0), (556, 0.0), (557, 0.0), (558, 0.0), (559, 0.0), (560, 0.0), (561, 0.0), (562, 0.0), (563, 0.0), (564, 0.0), (565, 0.0), (566, 0.0), (567, 0.0), (568, 0.0), (569, 0.0), (570, 0.0), (571, 0.0), (572, 0.0), (573, 0.0), (574, 0.0), (575, 0.0), (576, 0.0), (577, 0.0), (578, 0.0), (579, 0.0), (580, 0.0), (581, 0.0), (582, 0.0), (583, 0.0), (584, 0.0), (585, 0.0), (586, 0.0), (587, 0.0), (588, 0.0), (589, 0.0), (590, 0.0), (591, 0.0), (592, 0.0), (593, 0.0), (594, 0.0), (595, 0.0), (596, 0.0), (597, 0.0), (598, 0.0), (599, 0.0), (600, 0.0), (601, 0.0), (602, 0.0), (603, 0.0), (604, 0.0), (605, 0.0), (606, 0.0), (607, 0.0), (608, 0.0), (609, 0.0), (610, 0.0), (611, 0.0), (612, 0.0), (613, 0.0), (614, 0.0), (615, 0.0), (616, 0.0), (617, 0.0), (618, 0.0), (619, 0.0), (620, 0.0), (621, 0.0), (622, 0.0), (623, 0.0), (624, 0.0), (625, 0.0), (626, 0.0), (627, 0.0), (628, 0.0), (629, 0.0), (630, 0.0), (631, 0.0), (632, 0.0), (633, 0.0), (634, 0.0), (635, 0.0), (636, 0.0), (637, 0.0), (638, 0.0), (639, 0.0), (640, 0.0), (641, 0.0), (642, 0.0), (643, 0.0), (644, 0.0), (645, 0.0), (646, 0.0), (647, 0.0), (648, 0.0), (649, 0.0), (650, 0.0), (651, 0.0), (652, 0.0), (653, 0.0), (654, 0.0), (655, 0.0), (656, 0.0), (657, 0.0), (658, 0.0), (659, 0.0), (660, 0.0), (661, 0.0), (662, 0.0), (663, 0.0), (664, 0.0), (665, 0.0), (666, 0.0), (667, 0.0), (668, 0.0), (669, 0.0), (670, 0.0), (671, 0.0), (672, 0.0), (673, 0.0), (674, 0.0), (675, 0.0), (676, 0.0), (677, 0.0), (678, 0.0), (679, 0.0), (680, 0.0), (681, 0.0), (682, 0.0), (683, 0.0), (684, 0.0), (685, 0.0), (686, 0.0), (687, 0.0), (688, 0.0), (689, 0.0), (690, 0.0), (691, 0.0), (692, 0.0), (693, 0.0), (694, 0.0), (695, 0.0), (696, 0.0), (697, 0.0), (698, 0.0), (699, 0.0), (700, 0.0), (701, 0.0), (702, 0.0), (703, 0.0), (704, 0.0), (705, 0.0), (706, 0.0), (707, 0.0), (708, 0.0), (709, 0.0), (710, 0.0), (711, 0.0), (712, 0.0), (713, 0.0), (714, 0.0), (715, 0.0), (716, 0.0), (717, 0.0), (718, 0.0), (719, 0.0), (720, 0.0), (721, 0.0), (722, 0.0), (723, 0.0), (724, 0.0), (725, 0.0), (726, 0.0), (727, 0.0), (728, 0.0), (729, 0.0), (730, 0.0), (731, 0.0), (732, 0.0), (733, 0.0), (734, 0.0), (735, 0.0), (736, 0.0), (737, 0.0), (738, 0.0), (739, 0.0), (740, 0.0), (741, 0.0), (742, 0.0), (743, 0.0), (744, 0.0), (745, 0.0), (746, 0.0), (747, 0.0), (748, 0.0), (749, 0.0), (750, 0.0), (751, 0.0), (752, 0.0), (753, 0.0), (754, 0.0), (755, 0.0), (756, 0.0), (757, 0.0), (758, 0.0), (759, 0.0), (760, 0.0), (761, 0.0), (762, 0.0), (763, 0.0), (764, 0.0), (765, 0.0), (766, 0.0), (767, 0.0), (768, 0.0), (769, 0.0), (770, 0.0), (771, 0.0), (772, 0.0), (773, 0.0), (774, 0.0), (775, 0.0), (776, 0.0), (777, 0.0), (778, 0.0), (779, 0.0), (780, 0.0), (781, 0.0), (782, 0.0), (783, 0.0), (784, 0.0), (785, 0.0), (786, 0.0), (787, 0.0), (788, 0.0), (789, 0.0), (790, 0.0), (791, 0.0), (792, 0.0), (793, 0.0), (794, 0.0), (795, 0.0), (796, 0.0), (797, 0.0), (798, 0.0), (799, 0.0), (800, 0.0), (801, 0.0), (802, 0.0), (803, 0.0), (804, 0.0), (805, 0.0), (806, 0.0), (807, 0.0), (808, 0.0), (809, 0.0), (810, 0.0), (811, 0.0), (812, 0.0), (813, 0.0), (814, 0.0), (815, 0.0), (816, 0.0), (817, 0.0), (818, 0.0), (819, 0.0), (820, 0.0), (821, 0.0), (822, 0.0), (823, 0.0), (824, 0.0), (825, 0.0), (826, 0.0), (827, 0.0), (828, 0.0), (829, 0.0), (830, 0.0), (831, 0.0), (832, 0.0), (833, 0.0), (834, 0.0), (835, 0.0), (836, 0.0), (837, 0.0), (838, 0.0), (839, 0.0), (840, 0.0), (841, 0.0), (842, 0.0), (843, 0.0), (844, 0.0), (845, 0.0), (846, 0.0), (847, 0.0), (848, 0.0), (849, 0.0), (850, 0.0), (851, 0.0), (852, 0.0), (853, 0.0), (854, 0.0), (855, 0.0), (856, 0.0), (857, 0.0), (858, 0.0), (859, 0.0), (860, 0.0), (861, 0.0), (862, 0.0), (863, 0.0), (864, 0.0), (865, 0.0), (866, 0.0), (867, 0.0), (868, 0.0), (869, 0.0), (870, 0.0), (871, 0.0), (872, 0.0), (873, 0.0), (874, 0.0), (875, 0.0), (876, 0.0), (877, 0.0), (878, 0.0), (879, 0.0), (880, 0.0), (881, 0.0), (882, 0.0), (883, 0.0), (884, 0.0), (885, 0.0), (886, 0.0), (887, 0.0), (888, 0.0), (889, 0.0), (890, 0.0), (891, 0.0), (892, 0.0), (893, 0.0), (894, 0.0), (895, 0.0), (896, 0.0), (897, 0.0), (898, 0.0), (899, 0.0), (900, 0.0), (901, 0.0), (902, 0.0), (903, 0.0), (904, 0.0), (905, 0.0), (906, 0.0), (907, 0.0), (908, 0.0), (909, 0.0), (910, 0.0), (911, 0.0), (912, 0.0), (913, 0.0), (914, 0.0), (915, 0.0), (916, 0.0), (917, 0.0), (918, 0.0), (919, 0.0), (920, 0.0), (921, 0.0), (922, 0.0), (923, 0.0), (924, 0.0), (925, 0.0), (926, 0.0), (927, 0.0), (928, 0.0), (929, 0.0), (930, 0.0), (931, 0.0), (932, 0.0), (933, 0.0), (934, 0.0), (935, 0.0), (936, 0.0), (937, 0.0), (938, 0.0), (939, 0.0), (940, 0.0), (941, 0.0), (942, 0.0), (943, 0.0), (944, 0.0), (945, 0.0), (946, 0.0), (947, 0.0), (948, 0.0), (949, 0.0), (950, 0.0), (951, 0.0), (952, 0.0), (953, 0.0), (954, 0.0), (955, 0.0), (956, 0.0), (957, 0.0), (958, 0.0), (959, 0.0), (960, 0.0), (961, 0.0), (962, 0.0), (963, 0.0), (964, 0.0), (965, 0.0), (966, 0.0), (967, 0.0), (968, 0.0), (969, 0.0), (970, 0.0), (971, 0.0), (972, 0.0), (973, 0.0), (974, 0.0), (975, 0.0), (976, 0.0), (977, 0.0), (978, 0.0), (979, 0.0), (980, 0.0), (981, 0.0), (982, 0.0), (983, 0.0), (984, 0.0), (985, 0.0), (986, 0.0), (987, 0.0), (988, 0.0), (989, 0.0), (990, 0.0), (991, 0.0), (992, 0.0), (993, 0.0), (994, 0.0), (995, 0.0), (996, 0.0), (997, 0.0), (998, 0.0), (999, 0.0), (1000, 0.0), (1001, 0.0), (1002, 0.0), (1003, 0.0), (1004, 0.0), (1005, 0.0), (1006, 0.0), (1007, 0.0), (1008, 0.0), (1009, 0.0), (1010, 0.0), (1011, 0.0), (1012, 0.0), (1013, 0.0), (1014, 0.0), (1015, 0.0), (1016, 0.0), (1017, 0.0), (1018, 0.0), (1019, 0.0), (1020, 0.0), (1021, 0.0), (1022, 0.0), (1023, 0.0), (1024, 0.0), (1025, 0.0), (1026, 0.0), (1027, 0.0), (1028, 0.0), (1029, 0.0), (1030, 0.0), (1031, 0.0), (1032, 0.0), (1033, 0.0), (1034, 0.0), (1035, 0.0), (1036, 0.0), (1037, 0.0), (1038, 0.0), (1039, 0.0), (1040, 0.0), (1041, 0.0), (1042, 0.0), (1043, 0.0), (1044, 0.0), (1045, 0.0), (1046, 0.0), (1047, 0.0), (1048, 0.0), (1049, 0.0), (1050, 0.0), (1051, 0.0), (1052, 0.0), (1053, 0.0), (1054, 0.0), (1055, 0.0), (1056, 0.0), (1057, 0.0), (1058, 0.0), (1059, 0.0), (1060, 0.0), (1061, 0.0), (1062, 0.0), (1063, 0.0), (1064, 0.0), (1065, 0.0), (1066, 0.0), (1067, 0.0), (1068, 0.0), (1069, 0.0), (1070, 0.0), (1071, 0.0), (1072, 0.0), (1073, 0.0), (1074, 0.0), (1075, 0.0), (1076, 0.0), (1077, 0.0), (1078, 0.0), (1079, 0.0), (1080, 0.0), (1081, 0.0), (1082, 0.0), (1083, 0.0), (1084, 0.0), (1085, 0.0), (1086, 0.0), (1087, 0.0), (1088, 0.0), (1089, 0.0), (1090, 0.0), (1091, 0.0), (1092, 0.0), (1093, 0.0), (1094, 0.0), (1095, 0.0), (1096, 0.0), (1097, 0.0), (1098, 0.0), (1099, 0.0), (1100, 0.0), (1101, 0.0), (1102, 0.0), (1103, 0.0), (1104, 0.0), (1105, 0.0), (1106, 0.0), (1107, 0.0), (1108, 0.0), (1109, 0.0), (1110, 0.0), (1111, 0.0), (1112, 0.0), (1113, 0.0), (1114, 0.0), (1115, 0.0), (1116, 0.0), (1117, 0.0), (1118, 0.0), (1119, 0.0), (1120, 0.0), (1121, 0.0), (1122, 0.0), (1123, 0.0), (1124, 0.0), (1125, 0.0), (1126, 0.0), (1127, 0.0), (1128, 0.0), (1129, 0.0), (1130, 0.0), (1131, 0.0), (1132, 0.0), (1133, 0.0), (1134, 0.0), (1135, 0.0), (1136, 0.0), (1137, 0.0), (1138, 0.0), (1139, 0.0), (1140, 0.0), (1141, 0.0), (1142, 0.0), (1143, 0.0), (1144, 0.0), (1145, 0.0), (1146, 0.0), (1147, 0.0), (1148, 0.0), (1149, 0.0), (1150, 0.0), (1151, 0.0), (1152, 0.0), (1153, 0.0), (1154, 0.0), (1155, 0.0), (1156, 0.0), (1157, 0.0), (1158, 0.0), (1159, 0.0), (1160, 0.0), (1161, 0.0), (1162, 0.0), (1163, 0.0), (1164, 0.0), (1165, 0.0), (1166, 0.0), (1167, 0.0), (1168, 0.0), (1169, 0.0), (1170, 0.0), (1171, 0.0), (1172, 0.0), (1173, 0.0), (1174, 0.0), (1175, 0.0), (1176, 0.0), (1177, 0.0), (1178, 0.0), (1179, 0.0), (1180, 0.0), (1181, 0.0), (1182, 0.0), (1183, 0.0), (1184, 0.0), (1185, 0.0), (1186, 0.0), (1187, 0.0), (1188, 0.0), (1189, 0.0), (1190, 0.0), (1191, 0.0), (1192, 0.0), (1193, 0.0), (1194, 0.0), (1195, 0.0), (1196, 0.0), (1197, 0.0), (1198, 0.0), (1199, 0.0), (1200, 0.0), (1201, 0.0), (1202, 0.0), (1203, 0.0), (1204, 0.0), (1205, 0.0), (1206, 0.0), (1207, 0.0), (1208, 0.0), (1209, 0.0), (1210, 0.0), (1211, 0.0), (1212, 0.0), (1213, 0.0), (1214, 0.0), (1215, 0.0), (1216, 0.0), (1217, 0.0), (1218, 0.0), (1219, 0.0), (1220, 0.0), (1221, 0.0), (1222, 0.0), (1223, 0.0), (1224, 0.0), (1225, 0.0), (1226, 0.0), (1227, 0.0), (1228, 0.0), (1229, 0.0), (1230, 0.0), (1231, 0.0), (1232, 0.0), (1233, 0.0), (1234, 0.0), (1235, 0.0), (1236, 0.0), (1237, 0.0), (1238, 0.0), (1239, 0.0), (1240, 0.0), (1241, 0.0), (1242, 0.0), (1243, 0.0), (1244, 0.0), (1245, 0.0), (1246, 0.0), (1247, 0.0), (1248, 0.0), (1249, 0.0), (1250, 0.0), (1251, 0.0), (1252, 0.0), (1253, 0.0), (1254, 0.0), (1255, 0.0), (1256, 0.0), (1257, 0.0), (1258, 0.0), (1259, 0.0), (1260, 0.0), (1261, 0.0), (1262, 0.0), (1263, 0.0), (1264, 0.0), (1265, 0.0), (1266, 0.0), (1267, 0.0), (1268, 0.0), (1269, 0.0), (1270, 0.0), (1271, 0.0), (1272, 0.0), (1273, 0.0), (1274, 0.0), (1275, 0.0), (1276, 0.0), (1277, 0.0), (1278, 0.0), (1279, 0.0), (1280, 0.0), (1281, 0.0), (1282, 0.0), (1283, 0.0), (1284, 0.0), (1285, 0.0), (1286, 0.0), (1287, 0.0), (1288, 0.0), (1289, 0.0), (1290, 0.0), (1291, 0.0), (1292, 0.0), (1293, 0.0), (1294, 0.0), (1295, 0.0), (1296, 0.0), (1297, 0.0), (1298, 0.0), (1299, 0.0), (1300, 0.0), (1301, 0.0), (1302, 0.0), (1303, 0.0), (1304, 0.0), (1305, 0.0), (1306, 0.0), (1307, 0.0), (1308, 0.0), (1309, 0.0), (1310, 0.0), (1311, 0.0), (1312, 0.0), (1313, 0.0), (1314, 0.0), (1315, 0.0), (1316, 0.0), (1317, 0.0), (1318, 0.0), (1319, 0.0), (1320, 0.0), (1321, 0.0), (1322, 0.0), (1323, 0.0), (1324, 0.0), (1325, 0.0), (1326, 0.0), (1327, 0.0), (1328, 0.0), (1329, 0.0), (1330, 0.0), (1331, 0.0), (1332, 0.0), (1333, 0.0), (1334, 0.0), (1335, 0.0), (1336, 0.0), (1337, 0.0), (1338, 0.0), (1339, 0.0), (1340, 0.0), (1341, 0.0), (1342, 0.0), (1343, 0.0), (1344, 0.0), (1345, 0.0), (1346, 0.0), (1347, 0.0), (1348, 0.0), (1349, 0.0), (1350, 0.0), (1351, 0.0), (1352, 0.0), (1353, 0.0), (1354, 0.0), (1355, 0.0), (1356, 0.0), (1357, 0.0), (1358, 0.0), (1359, 0.0), (1360, 0.0), (1361, 0.0), (1362, 0.0), (1363, 0.0), (1364, 0.0), (1365, 0.0), (1366, 0.0), (1367, 0.0), (1368, 0.0), (1369, 0.0), (1370, 0.0), (1371, 0.0), (1372, 0.0), (1373, 0.0), (1374, 0.0), (1375, 0.0), (1376, 0.0), (1377, 0.0), (1378, 0.0), (1379, 0.0), (1380, 0.0), (1381, 0.0), (1382, 0.0), (1383, 0.0), (1384, 0.0), (1385, 0.0), (1386, 0.0), (1387, 0.0), (1388, 0.0), (1389, 0.0), (1390, 0.0), (1391, 0.0), (1392, 0.0), (1393, 0.0), (1394, 0.0), (1395, 0.0), (1396, 0.0), (1397, 0.0), (1398, 0.0), (1399, 0.0), (1400, 0.0), (1401, 0.0), (1402, 0.0), (1403, 0.0), (1404, 0.0), (1405, 0.0), (1406, 0.0), (1407, 0.0), (1408, 0.0), (1409, 0.0), (1410, 0.0), (1411, 0.0), (1412, 0.0), (1413, 0.0), (1414, 0.0), (1415, 0.0), (1416, 0.0), (1417, 0.0), (1418, 0.0), (1419, 0.0), (1420, 0.0), (1421, 0.0), (1422, 0.0), (1423, 0.0), (1424, 0.0), (1425, 0.0), (1426, 0.0), (1427, 0.0), (1428, 0.0), (1429, 0.0), (1430, 0.0), (1431, 0.0), (1432, 0.0), (1433, 0.0), (1434, 0.0), (1435, 0.0), (1436, 0.0), (1437, 0.0), (1438, 0.0), (1439, 0.0), (1440, 0.0), (1441, 0.0), (1442, 0.0), (1443, 0.0), (1444, 0.0), (1445, 0.0), (1446, 0.0), (1447, 0.0), (1448, 0.0), (1449, 0.0), (1450, 0.0), (1451, 0.0), (1452, 0.0), (1453, 0.0), (1454, 0.0), (1455, 0.0), (1456, 0.0), (1457, 0.0), (1458, 0.0), (1459, 0.0), (1460, 0.0), (1461, 0.0), (1462, 0.0), (1463, 0.0), (1464, 0.0), (1465, 0.0), (1466, 0.0), (1467, 0.0), (1468, 0.0), (1469, 0.0), (1470, 0.0), (1471, 0.0), (1472, 0.0), (1473, 0.0), (1474, 0.0), (1475, 0.0), (1476, 0.0), (1477, 0.0), (1478, 0.0), (1479, 0.0), (1480, 0.0), (1481, 0.0), (1482, 0.0), (1483, 0.0), (1484, 0.0), (1485, 0.0), (1486, 0.0), (1487, 0.0), (1488, 0.0), (1489, 0.0), (1490, 0.0), (1491, 0.0), (1492, 0.0), (1493, 0.0), (1494, 0.0), (1495, 0.0), (1496, 0.0), (1497, 0.0), (1498, 0.0), (1499, 0.0), (1500, 0.0), (1501, 0.0), (1502, 0.0), (1503, 0.0), (1504, 0.0), (1505, 0.0), (1506, 0.0), (1507, 0.0), (1508, 0.0), (1509, 0.0), (1510, 0.0), (1511, 0.0), (1512, 0.0), (1513, 0.0), (1514, 0.0), (1515, 0.0), (1516, 0.0), (1517, 0.0), (1518, 0.0), (1519, 0.0), (1520, 0.0), (1521, 0.0), (1522, 0.0), (1523, 0.0), (1524, 0.0), (1525, 0.0), (1526, 0.0), (1527, 0.0), (1528, 0.0), (1529, 0.0), (1530, 0.0), (1531, 0.0), (1532, 0.0), (1533, 0.0), (1534, 0.0), (1535, 0.0), (1536, 0.0), (1537, 0.0), (1538, 0.0), (1539, 0.0), (1540, 0.0), (1541, 0.0), (1542, 0.0), (1543, 0.0), (1544, 0.0), (1545, 0.0), (1546, 0.0), (1547, 0.0), (1548, 0.0), (1549, 0.0), (1550, 0.0), (1551, 0.0), (1552, 0.0), (1553, 0.0), (1554, 0.0), (1555, 0.0), (1556, 0.0), (1557, 0.0), (1558, 0.0), (1559, 0.0), (1560, 0.0), (1561, 0.0), (1562, 0.0), (1563, 0.0), (1564, 0.0), (1565, 0.0), (1566, 0.0), (1567, 0.0), (1568, 0.0), (1569, 0.0), (1570, 0.0), (1571, 0.0), (1572, 0.0), (1573, 0.0), (1574, 0.0), (1575, 0.0), (1576, 0.0), (1577, 0.0), (1578, 0.0), (1579, 0.0), (1580, 0.0), (1581, 0.0), (1582, 0.0), (1583, 0.0), (1584, 0.0), (1585, 0.0), (1586, 0.0), (1587, 0.0), (1588, 0.0), (1589, 0.0), (1590, 0.0), (1591, 0.0), (1592, 0.0), (1593, 0.0), (1594, 0.0), (1595, 0.0), (1596, 0.0), (1597, 0.0), (1598, 0.0), (1599, 0.0), (1600, 0.0), (1601, 0.0), (1602, 0.0), (1603, 0.0), (1604, 0.0), (1605, 0.0), (1606, 0.0), (1607, 0.0), (1608, 0.0), (1609, 0.0), (1610, 0.0), (1611, 0.0), (1612, 0.0), (1613, 0.0), (1614, 0.0), (1615, 0.0), (1616, 0.0), (1617, 0.0), (1618, 0.0), (1619, 0.0), (1620, 0.0), (1621, 0.0), (1622, 0.0), (1623, 0.0), (1624, 0.0), (1625, 0.0), (1626, 0.0), (1627, 0.0), (1628, 0.0), (1629, 0.0), (1630, 0.0), (1631, 0.0), (1632, 0.0), (1633, 0.0), (1634, 0.0), (1635, 0.0), (1636, 0.0), (1637, 0.0), (1638, 0.0), (1639, 0.0), (1640, 0.0), (1641, 0.0), (1642, 0.0), (1643, 0.0), (1644, 0.0), (1645, 0.0), (1646, 0.0), (1647, 0.0), (1648, 0.0), (1649, 0.0), (1650, 0.0), (1651, 0.0), (1652, 0.0), (1653, 0.0), (1654, 0.0), (1655, 0.0), (1656, 0.0), (1657, 0.0), (1658, 0.0), (1659, 0.0), (1660, 0.0), (1661, 0.0), (1662, 0.0), (1663, 0.0), (1664, 0.0), (1665, 0.0), (1666, 0.0), (1667, 0.0), (1668, 0.0), (1669, 0.0), (1670, 0.0), (1671, 0.0), (1672, 0.0), (1673, 0.0), (1674, 0.0), (1675, 0.0), (1676, 0.0), (1677, 0.0), (1678, 0.0), (1679, 0.0), (1680, 0.0), (1681, 0.0), (1682, 0.0), (1683, 0.0), (1684, 0.0), (1685, 0.0), (1686, 0.0), (1687, 0.0), (1688, 0.0), (1689, 0.0), (1690, 0.0), (1691, 0.0), (1692, 0.0), (1693, 0.0), (1694, 0.0), (1695, 0.0), (1696, 0.0), (1697, 0.0), (1698, 0.0), (1699, 0.0), (1700, 0.0), (1701, 0.0), (1702, 0.0), (1703, 0.0), (1704, 0.0), (1705, 0.0), (1706, 0.0), (1707, 0.0), (1708, 0.0), (1709, 0.0), (1710, 0.0), (1711, 0.0), (1712, 0.0), (1713, 0.0), (1714, 0.0), (1715, 0.0), (1716, 0.0), (1717, 0.0), (1718, 0.0), (1719, 0.0), (1720, 0.0), (1721, 0.0), (1722, 0.0), (1723, 0.0), (1724, 0.0), (1725, 0.0), (1726, 0.0), (1727, 0.0), (1728, 0.0), (1729, 0.0), (1730, 0.0), (1731, 0.0), (1732, 0.0), (1733, 0.0), (1734, 0.0), (1735, 0.0), (1736, 0.0), (1737, 0.0), (1738, 0.0), (1739, 0.0), (1740, 0.0), (1741, 0.0), (1742, 0.0), (1743, 0.0), (1744, 0.0), (1745, 0.0), (1746, 0.0), (1747, 0.0), (1748, 0.0), (1749, 0.0), (1750, 0.0), (1751, 0.0), (1752, 0.0), (1753, 0.0), (1754, 0.0), (1755, 0.0), (1756, 0.0), (1757, 0.0), (1758, 0.0), (1759, 0.0), (1760, 0.0), (1761, 0.0), (1762, 0.0), (1763, 0.0), (1764, 0.0), (1765, 0.0), (1766, 0.0), (1767, 0.0), (1768, 0.0), (1769, 0.0), (1770, 0.0), (1771, 0.0), (1772, 0.0), (1773, 0.0), (1774, 0.0), (1775, 0.0), (1776, 0.0), (1777, 0.0), (1778, 0.0), (1779, 0.0), (1780, 0.0), (1781, 0.0), (1782, 0.0), (1783, 0.0), (1784, 0.0), (1785, 0.0), (1786, 0.0), (1787, 0.0), (1788, 0.0), (1789, 0.0), (1790, 0.0), (1791, 0.0), (1792, 0.0), (1793, 0.0), (1794, 0.0), (1795, 0.0), (1796, 0.0), (1797, 0.0), (1798, 0.0), (1799, 0.0), (1800, 0.0), (1801, 0.0), (1802, 0.0), (1803, 0.0), (1804, 0.0), (1805, 0.0), (1806, 0.0), (1807, 0.0), (1808, 0.0), (1809, 0.0), (1810, 0.0), (1811, 0.0), (1812, 0.0), (1813, 0.0), (1814, 0.0), (1815, 0.0), (1816, 0.0), (1817, 0.0), (1818, 0.0), (1819, 0.0), (1820, 0.0), (1821, 0.0), (1822, 0.0), (1823, 0.0), (1824, 0.0), (1825, 0.0), (1826, 0.0), (1827, 0.0), (1828, 0.0), (1829, 0.0), (1830, 0.0), (1831, 0.0), (1832, 0.0), (1833, 0.0), (1834, 0.0), (1835, 0.0), (1836, 0.0), (1837, 0.0), (1838, 0.0), (1839, 0.0), (1840, 0.0), (1841, 0.0), (1842, 0.0), (1843, 0.0), (1844, 0.0), (1845, 0.0), (1846, 0.0), (1847, 0.0), (1848, 0.0), (1849, 0.0), (1850, 0.0), (1851, 0.0), (1852, 0.0), (1853, 0.0), (1854, 0.0), (1855, 0.0), (1856, 0.0), (1857, 0.0), (1858, 0.0), (1859, 0.0), (1860, 0.0), (1861, 0.0), (1862, 0.0), (1863, 0.0), (1864, 0.0), (1865, 0.0), (1866, 0.0), (1867, 0.0), (1868, 0.0), (1869, 0.0), (1870, 0.0), (1871, 0.0), (1872, 0.0), (1873, 0.0), (1874, 0.0), (1875, 0.0), (1876, 0.0), (1877, 0.0), (1878, 0.0), (1879, 0.0), (1880, 0.0), (1881, 0.0), (1882, 0.0), (1883, 0.0), (1884, 0.0), (1885, 0.0), (1886, 0.0), (1887, 0.0), (1888, 0.0), (1889, 0.0), (1890, 0.0), (1891, 0.0), (1892, 0.0), (1893, 0.0), (1894, 0.0), (1895, 0.0), (1896, 0.0), (1897, 0.0), (1898, 0.0), (1899, 0.0), (1900, 0.0), (1901, 0.0), (1902, 0.0), (1903, 0.0), (1904, 0.0), (1905, 0.0), (1906, 0.0), (1907, 0.0), (1908, 0.0), (1909, 0.0), (1910, 0.0), (1911, 0.0), (1912, 0.0), (1913, 0.0), (1914, 0.0), (1915, 0.0), (1916, 0.0), (1917, 0.0), (1918, 0.0), (1919, 0.0), (1920, 0.0), (1921, 0.0), (1922, 0.0), (1923, 0.0), (1924, 0.0), (1925, 0.0), (1926, 0.0), (1927, 0.0), (1928, 0.0), (1929, 0.0), (1930, 0.0), (1931, 0.0), (1932, 0.0), (1933, 0.0), (1934, 0.0), (1935, 0.0), (1936, 0.0), (1937, 0.0), (1938, 0.0), (1939, 0.0), (1940, 0.0), (1941, 0.0), (1942, 0.0), (1943, 0.0), (1944, 0.0), (1945, 0.0), (1946, 0.0), (1947, 0.0), (1948, 0.0), (1949, 0.0), (1950, 0.0), (1951, 0.0), (1952, 0.0), (1953, 0.0), (1954, 0.0), (1955, 0.0), (1956, 0.0), (1957, 0.0), (1958, 0.0), (1959, 0.0), (1960, 0.0), (1961, 0.0), (1962, 0.0), (1963, 0.0), (1964, 0.0), (1965, 0.0), (1966, 0.0), (1967, 0.0), (1968, 0.0), (1969, 0.0), (1970, 0.0), (1971, 0.0), (1972, 0.0), (1973, 0.0), (1974, 0.0), (1975, 0.0), (1976, 0.0), (1977, 0.0), (1978, 0.0), (1979, 0.0), (1980, 0.0), (1981, 0.0), (1982, 0.0), (1983, 0.0), (1984, 0.0), (1985, 0.0), (1986, 0.0), (1987, 0.0), (1988, 0.0), (1989, 0.0), (1990, 0.0), (1991, 0.0), (1992, 0.0), (1993, 0.0), (1994, 0.0), (1995, 0.0), (1996, 0.0), (1997, 0.0), (1998, 0.0), (1999, 0.0), (2000, 0.0), (2001, 0.0), (2002, 0.0), (2003, 0.0), (2004, 0.0), (2005, 0.0), (2006, 0.0), (2007, 0.0), (2008, 0.0), (2009, 0.0), (2010, 0.0), (2011, 0.0), (2012, 0.0), (2013, 0.0), (2014, 0.0), (2015, 0.0), (2016, 0.0), (2017, 0.0), (2018, 0.0), (2019, 0.0), (2020, 0.0), (2021, 0.0), (2022, 0.0), (2023, 0.0), (2024, 0.0), (2025, 0.0), (2026, 0.0), (2027, 0.0), (2028, 0.0), (2029, 0.0), (2030, 0.0), (2031, 0.0), (2032, 0.0), (2033, 0.0), (2034, 0.0), (2035, 0.0), (2036, 0.0), (2037, 0.0), (2038, 0.0), (2039, 0.0), (2040, 0.0), (2041, 0.0), (2042, 0.0), (2043, 0.0), (2044, 0.0), (2045, 0.0), (2046, 0.0), (2047, 0.0), (2048, 0.0), (2049, 0.0), (2050, 0.0), (2051, 0.0), (2052, 0.0), (2053, 0.0), (2054, 0.0), (2055, 0.0), (2056, 0.0), (2057, 0.0), (2058, 0.0), (2059, 0.0), (2060, 0.0), (2061, 0.0), (2062, 0.0), (2063, 0.0), (2064, 0.0), (2065, 0.0), (2066, 0.0), (2067, 0.0), (2068, 0.0), (2069, 0.0), (2070, 0.0), (2071, 0.0), (2072, 0.0), (2073, 0.0), (2074, 0.0), (2075, 0.0), (2076, 0.0), (2077, 0.0), (2078, 0.0), (2079, 0.0), (2080, 0.0), (2081, 0.0), (2082, 0.0), (2083, 0.0), (2084, 0.0), (2085, 0.0), (2086, 0.0), (2087, 0.0), (2088, 0.0), (2089, 0.0), (2090, 0.0), (2091, 0.0), (2092, 0.0), (2093, 0.0), (2094, 0.0), (2095, 0.0), (2096, 0.0), (2097, 0.0), (2098, 0.0), (2099, 0.0), (2100, 0.0), (2101, 0.0), (2102, 0.0), (2103, 0.0), (2104, 0.0), (2105, 0.0), (2106, 0.0), (2107, 0.0), (2108, 0.0), (2109, 0.0), (2110, 0.0), (2111, 0.0), (2112, 0.0), (2113, 0.0), (2114, 0.0), (2115, 0.0), (2116, 0.0), (2117, 0.0), (2118, 0.0), (2119, 0.0), (2120, 0.0), (2121, 0.0), (2122, 0.0), (2123, 0.0), (2124, 0.0), (2125, 0.0), (2126, 0.0), (2127, 0.0), (2128, 0.0), (2129, 0.0), (2130, 0.0), (2131, 0.0), (2132, 0.0), (2133, 0.0), (2134, 0.0), (2135, 0.0), (2136, 0.0), (2137, 0.0), (2138, 0.0), (2139, 0.0), (2140, 0.0), (2141, 0.0), (2142, 0.0), (2143, 0.0), (2144, 0.0), (2145, 0.0), (2146, 0.0), (2147, 0.0), (2148, 0.0), (2149, 0.0), (2150, 0.0), (2151, 0.0), (2152, 0.0), (2153, 0.0), (2154, 0.0), (2155, 0.0), (2156, 0.0), (2157, 0.0), (2158, 0.0), (2159, 0.0), (2160, 0.0), (2161, 0.0), (2162, 0.0), (2163, 0.0), (2164, 0.0), (2165, 0.0), (2166, 0.0), (2167, 0.0), (2168, 0.0), (2169, 0.0), (2170, 0.0), (2171, 0.0), (2172, 0.0), (2173, 0.0), (2174, 0.0), (2175, 0.0), (2176, 0.0), (2177, 0.0), (2178, 0.0), (2179, 0.0), (2180, 0.0), (2181, 0.0), (2182, 0.0), (2183, 0.0), (2184, 0.0), (2185, 0.0), (2186, 0.0), (2187, 0.0), (2188, 0.0), (2189, 0.0), (2190, 0.0), (2191, 0.0), (2192, 0.0), (2193, 0.0), (2194, 0.0), (2195, 0.0), (2196, 0.0), (2197, 0.0), (2198, 0.0), (2199, 0.0), (2200, 0.0), (2201, 0.0), (2202, 0.0), (2203, 0.0), (2204, 0.0), (2205, 0.0), (2206, 0.0), (2207, 0.0), (2208, 0.0), (2209, 0.0), (2210, 0.0), (2211, 0.0), (2212, 0.0), (2213, 0.0), (2214, 0.0), (2215, 0.0), (2216, 0.0), (2217, 0.0), (2218, 0.0), (2219, 0.0), (2220, 0.0), (2221, 0.0), (2222, 0.0), (2223, 0.0), (2224, 0.0), (2225, 0.0), (2226, 0.0), (2227, 0.0), (2228, 0.0), (2229, 0.0), (2230, 0.0), (2231, 0.0), (2232, 0.0), (2233, 0.0), (2234, 0.0), (2235, 0.0), (2236, 0.0), (2237, 0.0), (2238, 0.0), (2239, 0.0), (2240, 0.0), (2241, 0.0), (2242, 0.0), (2243, 0.0), (2244, 0.0), (2245, 0.0), (2246, 0.0), (2247, 0.0), (2248, 0.0), (2249, 0.0), (2250, 0.0), (2251, 0.0), (2252, 0.0), (2253, 0.0), (2254, 0.0), (2255, 0.0), (2256, 0.0), (2257, 0.0), (2258, 0.0), (2259, 0.0), (2260, 0.0), (2261, 0.0), (2262, 0.0), (2263, 0.0), (2264, 0.0), (2265, 0.0), (2266, 0.0), (2267, 0.0), (2268, 0.0), (2269, 0.0), (2270, 0.0), (2271, 0.0), (2272, 0.0), (2273, 0.0), (2274, 0.0), (2275, 0.0), (2276, 0.0), (2277, 0.0), (2278, 0.0), (2279, 0.0), (2280, 0.0), (2281, 0.0), (2282, 0.0), (2283, 0.0), (2284, 0.0), (2285, 0.0), (2286, 0.0), (2287, 0.0), (2288, 0.0), (2289, 0.0), (2290, 0.0), (2291, 0.0), (2292, 0.0), (2293, 0.0), (2294, 0.0), (2295, 0.0), (2296, 0.0), (2297, 0.0), (2298, 0.0), (2299, 0.0), (2300, 0.0), (2301, 0.0), (2302, 0.0), (2303, 0.0), (2304, 0.0), (2305, 0.0), (2306, 0.0), (2307, 0.0), (2308, 0.0), (2309, 0.0), (2310, 0.0), (2311, 0.0), (2312, 0.0), (2313, 0.0), (2314, 0.0), (2315, 0.0), (2316, 0.0), (2317, 0.0), (2318, 0.0), (2319, 0.0), (2320, 0.0), (2321, 0.0), (2322, 0.0), (2323, 0.0), (2324, 0.0), (2325, 0.0), (2326, 0.0), (2327, 0.0), (2328, 0.0), (2329, 0.0), (2330, 0.0), (2331, 0.0), (2332, 0.0), (2333, 0.0), (2334, 0.0), (2335, 0.0), (2336, 0.0), (2337, 0.0), (2338, 0.0), (2339, 0.0), (2340, 0.0), (2341, 0.0), (2342, 0.0), (2343, 0.0), (2344, 0.0), (2345, 0.0), (2346, 0.0), (2347, 0.0), (2348, 0.0), (2349, 0.0), (2350, 0.0), (2351, 0.0), (2352, 0.0), (2353, 0.0), (2354, 0.0), (2355, 0.0), (2356, 0.0), (2357, 0.0), (2358, 0.0), (2359, 0.0), (2360, 0.0), (2361, 0.0), (2362, 0.0), (2363, 0.0), (2364, 0.0), (2365, 0.0), (2366, 0.0), (2367, 0.0), (2368, 0.0), (2369, 0.0), (2370, 0.0), (2371, 0.0), (2372, 0.0), (2373, 0.0), (2374, 0.0), (2375, 0.0), (2376, 0.0), (2377, 0.0), (2378, 0.0), (2379, 0.0), (2380, 0.0), (2381, 0.0), (2382, 0.0), (2383, 0.0), (2384, 0.0), (2385, 0.0), (2386, 0.0), (2387, 0.0), (2388, 0.0), (2389, 0.0), (2390, 0.0), (2391, 0.0), (2392, 0.0), (2393, 0.0), (2394, 0.0), (2395, 0.0), (2396, 0.0), (2397, 0.0), (2398, 0.0), (2399, 0.0), (2400, 0.0), (2401, 0.0), (2402, 0.0), (2403, 0.0), (2404, 0.0), (2405, 0.0), (2406, 0.0), (2407, 0.0), (2408, 0.0), (2409, 0.0), (2410, 0.0), (2411, 0.0), (2412, 0.0), (2413, 0.0), (2414, 0.0), (2415, 0.0), (2416, 0.0), (2417, 0.0), (2418, 0.0), (2419, 0.0), (2420, 0.0), (2421, 0.0), (2422, 0.0), (2423, 0.0), (2424, 0.0), (2425, 0.0), (2426, 0.0), (2427, 0.0), (2428, 0.0), (2429, 0.0), (2430, 0.0), (2431, 0.0), (2432, 0.0), (2433, 0.0), (2434, 0.0), (2435, 0.0), (2436, 0.0), (2437, 0.0), (2438, 0.0), (2439, 0.0), (2440, 0.0), (2441, 0.0), (2442, 0.0), (2443, 0.0), (2444, 0.0), (2445, 0.0), (2446, 0.0), (2447, 0.0), (2448, 0.0), (2449, 0.0), (2450, 0.0), (2451, 0.0), (2452, 0.0), (2453, 0.0), (2454, 0.0), (2455, 0.0), (2456, 0.0), (2457, 0.0), (2458, 0.0), (2459, 0.0), (2460, 0.0), (2461, 0.0), (2462, 0.0), (2463, 0.0), (2464, 0.0), (2465, 0.0), (2466, 0.0), (2467, 0.0), (2468, 0.0), (2469, 0.0), (2470, 0.0), (2471, 0.0), (2472, 0.0), (2473, 0.0), (2474, 0.0), (2475, 0.0), (2476, 0.0), (2477, 0.0), (2478, 0.0), (2479, 0.0), (2480, 0.0), (2481, 0.0), (2482, 0.0), (2483, 0.0), (2484, 0.0), (2485, 0.0), (2486, 0.0), (2487, 0.0), (2488, 0.0), (2489, 0.0), (2490, 0.0), (2491, 0.0), (2492, 0.0), (2493, 0.0), (2494, 0.0), (2495, 0.0), (2496, 0.0), (2497, 0.0), (2498, 0.0), (2499, 0.0), (2500, 0.0), (2501, 0.0), (2502, 0.0), (2503, 0.0), (2504, 0.0), (2505, 0.0), (2506, 0.0), (2507, 0.0), (2508, 0.0), (2509, 0.0), (2510, 0.0), (2511, 0.0), (2512, 0.0), (2513, 0.0), (2514, 0.0), (2515, 0.0), (2516, 0.0), (2517, 0.0), (2518, 0.0), (2519, 0.0), (2520, 0.0), (2521, 0.0), (2522, 0.0), (2523, 0.0), (2524, 0.0), (2525, 0.0), (2526, 0.0), (2527, 0.0), (2528, 0.0), (2529, 0.0), (2530, 0.0), (2531, 0.0), (2532, 0.0), (2533, 0.0), (2534, 0.0), (2535, 0.0), (2536, 0.0), (2537, 0.0), (2538, 0.0), (2539, 0.0), (2540, 0.0), (2541, 0.0), (2542, 0.0), (2543, 0.0), (2544, 0.0), (2545, 0.0), (2546, 0.0), (2547, 0.0), (2548, 0.0), (2549, 0.0), (2550, 0.0), (2551, 0.0), (2552, 0.0), (2553, 0.0), (2554, 0.0), (2555, 0.0), (2556, 0.0), (2557, 0.0), (2558, 0.0), (2559, 0.0), (2560, 0.0), (2561, 0.0), (2562, 0.0), (2563, 0.0), (2564, 0.0), (2565, 0.0), (2566, 0.0), (2567, 0.0), (2568, 0.0), (2569, 0.0), (2570, 0.0), (2571, 0.0), (2572, 0.0), (2573, 0.0), (2574, 0.0), (2575, 0.0), (2576, 0.0), (2577, 0.0), (2578, 0.0), (2579, 0.0), (2580, 0.0), (2581, 0.0), (2582, 0.0), (2583, 0.0), (2584, 0.0), (2585, 0.0), (2586, 0.0), (2587, 0.0), (2588, 0.0), (2589, 0.0), (2590, 0.0), (2591, 0.0), (2592, 0.0), (2593, 0.0), (2594, 0.0), (2595, 0.0), (2596, 0.0), (2597, 0.0), (2598, 0.0), (2599, 0.0), (2600, 0.0), (2601, 0.0), (2602, 0.0), (2603, 0.0), (2604, 0.0), (2605, 0.0), (2606, 0.0), (2607, 0.0), (2608, 0.0), (2609, 0.0), (2610, 0.0), (2611, 0.0), (2612, 0.0), (2613, 0.0), (2614, 0.0), (2615, 0.0), (2616, 0.0), (2617, 0.0), (2618, 0.0), (2619, 0.0), (2620, 0.0), (2621, 0.0), (2622, 0.0), (2623, 0.0), (2624, 0.0), (2625, 0.0), (2626, 0.0), (2627, 0.0), (2628, 0.0), (2629, 0.0), (2630, 0.0), (2631, 0.0)]\n"
          ]
        }
      ]
    },
    {
      "cell_type": "code",
      "source": [],
      "metadata": {
        "id": "huOscqm40dGA"
      },
      "execution_count": 81,
      "outputs": []
    },
    {
      "cell_type": "code",
      "source": [
        "\n"
      ],
      "metadata": {
        "colab": {
          "base_uri": "https://localhost:8080/"
        },
        "id": "fhZ9YXy6zpFe",
        "outputId": "8d2eeca6-3dd9-4106-dcdf-148d2e487c0b"
      },
      "execution_count": 82,
      "outputs": [
        {
          "output_type": "execute_result",
          "data": {
            "text/plain": [
              "(4759, 1.0000000000000002)"
            ]
          },
          "metadata": {},
          "execution_count": 82
        }
      ]
    },
    {
      "cell_type": "code",
      "source": [],
      "metadata": {
        "id": "2nB7o7KZvsPT"
      },
      "execution_count": null,
      "outputs": []
    }
  ]
}