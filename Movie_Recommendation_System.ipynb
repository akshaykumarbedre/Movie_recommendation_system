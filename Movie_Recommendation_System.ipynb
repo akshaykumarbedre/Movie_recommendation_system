{
  "nbformat": 4,
  "nbformat_minor": 0,
  "metadata": {
    "colab": {
      "provenance": [],
      "authorship_tag": "ABX9TyNF1DwocvhMD8MlKux1aTw6",
      "include_colab_link": true
    },
    "kernelspec": {
      "name": "python3",
      "display_name": "Python 3"
    },
    "language_info": {
      "name": "python"
    }
  },
  "cells": [
    {
      "cell_type": "markdown",
      "metadata": {
        "id": "view-in-github",
        "colab_type": "text"
      },
      "source": [
        "<a href=\"https://colab.research.google.com/github/akshaykumarbedre/Movie_recommendation_system/blob/main/Movie_Recommendation_System.ipynb\" target=\"_parent\"><img src=\"https://colab.research.google.com/assets/colab-badge.svg\" alt=\"Open In Colab\"/></a>"
      ]
    },
    {
      "cell_type": "markdown",
      "source": [
        "# Movie Recommendation System\n",
        "\n",
        "Recommender System is a system that seeks to predict or filter preferences according to the user's choices. Recommender systems are\n",
        "utilized in a variety of areas including movies, music, news, books, research articles, search queries, social tags, and products in general.\n",
        "Recommender systems produce a list of recommendations in any of the two ways -\n",
        "Collaborative filtering: Collaborative filtering approaches build a model from the user's past behavior (i.e. items purchased or searched by the\n",
        "user) as well as similar decisions made by other users. This model is then used to predict items (or ratings for items) that users may have an\n",
        "interest in.\n",
        "\n",
        "Content-based filtering: Content-based filtering approaches uses a series of discrete characteristics of an item in order to recommend\n",
        "additional items with similar properties. Content-based filtering methods are totally based on a description of the item and a profile of the user's\n",
        "preferences. It recommends items based on the user's past preferences. Let's develop a basic recommendation system using Python and\n",
        "Pandas.\n",
        "\n",
        "Let's develop a basic recommendation system by suggesting items that are most similar to a particular item, in this case, movies. It just tells\n",
        "what movies/items are most similar to the user's movie choice."
      ],
      "metadata": {
        "id": "CcNWbUTCmWB7"
      }
    },
    {
      "cell_type": "markdown",
      "source": [
        "\n",
        "## **Import Library**\n"
      ],
      "metadata": {
        "id": "T8JvjBLdmoqV"
      }
    },
    {
      "cell_type": "code",
      "source": [
        "import pandas as pd\n",
        "import numpy as np"
      ],
      "metadata": {
        "id": "z8RKZhRhmuGm"
      },
      "execution_count": 83,
      "outputs": []
    },
    {
      "cell_type": "markdown",
      "source": [
        "## **Import Data**"
      ],
      "metadata": {
        "id": "RXwXwCp_mon4"
      }
    },
    {
      "cell_type": "code",
      "source": [
        "df=pd.read_csv(r'https://raw.githubusercontent.com/YBI-Foundation/Dataset/main/Movies%20Recommendation.csv')"
      ],
      "metadata": {
        "id": "GzyNSJNim3hu"
      },
      "execution_count": 84,
      "outputs": []
    },
    {
      "cell_type": "code",
      "source": [
        "df.head()"
      ],
      "metadata": {
        "colab": {
          "base_uri": "https://localhost:8080/",
          "height": 672
        },
        "id": "2GDlFWfapIta",
        "outputId": "1798f375-3b30-4b73-aa9c-e1be1d7d884a"
      },
      "execution_count": 85,
      "outputs": [
        {
          "output_type": "execute_result",
          "data": {
            "text/plain": [
              "   Movie_ID      Movie_Title                       Movie_Genre Movie_Language  \\\n",
              "0         1       Four Rooms                      Crime Comedy             en   \n",
              "1         2        Star Wars  Adventure Action Science Fiction             en   \n",
              "2         3     Finding Nemo                  Animation Family             en   \n",
              "3         4     Forrest Gump              Comedy Drama Romance             en   \n",
              "4         5  American Beauty                             Drama             en   \n",
              "\n",
              "   Movie_Budget  Movie_Popularity Movie_Release_Date  Movie_Revenue  \\\n",
              "0       4000000         22.876230         09-12-1995        4300000   \n",
              "1      11000000        126.393695         25-05-1977      775398007   \n",
              "2      94000000         85.688789         30-05-2003      940335536   \n",
              "3      55000000        138.133331         06-07-1994      677945399   \n",
              "4      15000000         80.878605         15-09-1999      356296601   \n",
              "\n",
              "   Movie_Runtime  Movie_Vote  ...  \\\n",
              "0           98.0         6.5  ...   \n",
              "1          121.0         8.1  ...   \n",
              "2          100.0         7.6  ...   \n",
              "3          142.0         8.2  ...   \n",
              "4          122.0         7.9  ...   \n",
              "\n",
              "                                      Movie_Homepage  \\\n",
              "0                                                NaN   \n",
              "1  http://www.starwars.com/films/star-wars-episod...   \n",
              "2              http://movies.disney.com/finding-nemo   \n",
              "3                                                NaN   \n",
              "4                      http://www.dreamworks.com/ab/   \n",
              "\n",
              "                                      Movie_Keywords  \\\n",
              "0          hotel new year's eve witch bet hotel room   \n",
              "1        android galaxy hermit death star lightsaber   \n",
              "2  father son relationship harbor underwater fish...   \n",
              "3  vietnam veteran hippie mentally disabled runni...   \n",
              "4  male nudity female nudity adultery midlife cri...   \n",
              "\n",
              "                                      Movie_Overview  \\\n",
              "0  It's Ted the Bellhop's first night on the job....   \n",
              "1  Princess Leia is captured and held hostage by ...   \n",
              "2  Nemo, an adventurous young clownfish, is unexp...   \n",
              "3  A man with a low IQ has accomplished great thi...   \n",
              "4  Lester Burnham, a depressed suburban father in...   \n",
              "\n",
              "                              Movie_Production_House  \\\n",
              "0  [{\"name\": \"Miramax Films\", \"id\": 14}, {\"name\":...   \n",
              "1  [{\"name\": \"Lucasfilm\", \"id\": 1}, {\"name\": \"Twe...   \n",
              "2     [{\"name\": \"Pixar Animation Studios\", \"id\": 3}]   \n",
              "3          [{\"name\": \"Paramount Pictures\", \"id\": 4}]   \n",
              "4  [{\"name\": \"DreamWorks SKG\", \"id\": 27}, {\"name\"...   \n",
              "\n",
              "                            Movie_Production_Country  \\\n",
              "0  [{\"iso_3166_1\": \"US\", \"name\": \"United States o...   \n",
              "1  [{\"iso_3166_1\": \"US\", \"name\": \"United States o...   \n",
              "2  [{\"iso_3166_1\": \"US\", \"name\": \"United States o...   \n",
              "3  [{\"iso_3166_1\": \"US\", \"name\": \"United States o...   \n",
              "4  [{\"iso_3166_1\": \"US\", \"name\": \"United States o...   \n",
              "\n",
              "                      Movie_Spoken_Language  \\\n",
              "0  [{\"iso_639_1\": \"en\", \"name\": \"English\"}]   \n",
              "1  [{\"iso_639_1\": \"en\", \"name\": \"English\"}]   \n",
              "2  [{\"iso_639_1\": \"en\", \"name\": \"English\"}]   \n",
              "3  [{\"iso_639_1\": \"en\", \"name\": \"English\"}]   \n",
              "4  [{\"iso_639_1\": \"en\", \"name\": \"English\"}]   \n",
              "\n",
              "                                       Movie_Tagline  \\\n",
              "0  Twelve outrageous guests. Four scandalous requ...   \n",
              "1       A long time ago in a galaxy far, far away...   \n",
              "2  There are 3.7 trillion fish in the ocean, they...   \n",
              "3  The world will never be the same, once you've ...   \n",
              "4                                       Look closer.   \n",
              "\n",
              "                                          Movie_Cast  \\\n",
              "0  Tim Roth Antonio Banderas Jennifer Beals Madon...   \n",
              "1  Mark Hamill Harrison Ford Carrie Fisher Peter ...   \n",
              "2  Albert Brooks Ellen DeGeneres Alexander Gould ...   \n",
              "3  Tom Hanks Robin Wright Gary Sinise Mykelti Wil...   \n",
              "4  Kevin Spacey Annette Bening Thora Birch Wes Be...   \n",
              "\n",
              "                                          Movie_Crew   Movie_Director  \n",
              "0  [{'name': 'Allison Anders', 'gender': 1, 'depa...   Allison Anders  \n",
              "1  [{'name': 'George Lucas', 'gender': 2, 'depart...     George Lucas  \n",
              "2  [{'name': 'Andrew Stanton', 'gender': 2, 'depa...   Andrew Stanton  \n",
              "3  [{'name': 'Alan Silvestri', 'gender': 2, 'depa...  Robert Zemeckis  \n",
              "4  [{'name': 'Thomas Newman', 'gender': 2, 'depar...       Sam Mendes  \n",
              "\n",
              "[5 rows x 21 columns]"
            ],
            "text/html": [
              "\n",
              "  <div id=\"df-34e52180-7f3b-411e-8f4a-8f63d85c1884\" class=\"colab-df-container\">\n",
              "    <div>\n",
              "<style scoped>\n",
              "    .dataframe tbody tr th:only-of-type {\n",
              "        vertical-align: middle;\n",
              "    }\n",
              "\n",
              "    .dataframe tbody tr th {\n",
              "        vertical-align: top;\n",
              "    }\n",
              "\n",
              "    .dataframe thead th {\n",
              "        text-align: right;\n",
              "    }\n",
              "</style>\n",
              "<table border=\"1\" class=\"dataframe\">\n",
              "  <thead>\n",
              "    <tr style=\"text-align: right;\">\n",
              "      <th></th>\n",
              "      <th>Movie_ID</th>\n",
              "      <th>Movie_Title</th>\n",
              "      <th>Movie_Genre</th>\n",
              "      <th>Movie_Language</th>\n",
              "      <th>Movie_Budget</th>\n",
              "      <th>Movie_Popularity</th>\n",
              "      <th>Movie_Release_Date</th>\n",
              "      <th>Movie_Revenue</th>\n",
              "      <th>Movie_Runtime</th>\n",
              "      <th>Movie_Vote</th>\n",
              "      <th>...</th>\n",
              "      <th>Movie_Homepage</th>\n",
              "      <th>Movie_Keywords</th>\n",
              "      <th>Movie_Overview</th>\n",
              "      <th>Movie_Production_House</th>\n",
              "      <th>Movie_Production_Country</th>\n",
              "      <th>Movie_Spoken_Language</th>\n",
              "      <th>Movie_Tagline</th>\n",
              "      <th>Movie_Cast</th>\n",
              "      <th>Movie_Crew</th>\n",
              "      <th>Movie_Director</th>\n",
              "    </tr>\n",
              "  </thead>\n",
              "  <tbody>\n",
              "    <tr>\n",
              "      <th>0</th>\n",
              "      <td>1</td>\n",
              "      <td>Four Rooms</td>\n",
              "      <td>Crime Comedy</td>\n",
              "      <td>en</td>\n",
              "      <td>4000000</td>\n",
              "      <td>22.876230</td>\n",
              "      <td>09-12-1995</td>\n",
              "      <td>4300000</td>\n",
              "      <td>98.0</td>\n",
              "      <td>6.5</td>\n",
              "      <td>...</td>\n",
              "      <td>NaN</td>\n",
              "      <td>hotel new year's eve witch bet hotel room</td>\n",
              "      <td>It's Ted the Bellhop's first night on the job....</td>\n",
              "      <td>[{\"name\": \"Miramax Films\", \"id\": 14}, {\"name\":...</td>\n",
              "      <td>[{\"iso_3166_1\": \"US\", \"name\": \"United States o...</td>\n",
              "      <td>[{\"iso_639_1\": \"en\", \"name\": \"English\"}]</td>\n",
              "      <td>Twelve outrageous guests. Four scandalous requ...</td>\n",
              "      <td>Tim Roth Antonio Banderas Jennifer Beals Madon...</td>\n",
              "      <td>[{'name': 'Allison Anders', 'gender': 1, 'depa...</td>\n",
              "      <td>Allison Anders</td>\n",
              "    </tr>\n",
              "    <tr>\n",
              "      <th>1</th>\n",
              "      <td>2</td>\n",
              "      <td>Star Wars</td>\n",
              "      <td>Adventure Action Science Fiction</td>\n",
              "      <td>en</td>\n",
              "      <td>11000000</td>\n",
              "      <td>126.393695</td>\n",
              "      <td>25-05-1977</td>\n",
              "      <td>775398007</td>\n",
              "      <td>121.0</td>\n",
              "      <td>8.1</td>\n",
              "      <td>...</td>\n",
              "      <td>http://www.starwars.com/films/star-wars-episod...</td>\n",
              "      <td>android galaxy hermit death star lightsaber</td>\n",
              "      <td>Princess Leia is captured and held hostage by ...</td>\n",
              "      <td>[{\"name\": \"Lucasfilm\", \"id\": 1}, {\"name\": \"Twe...</td>\n",
              "      <td>[{\"iso_3166_1\": \"US\", \"name\": \"United States o...</td>\n",
              "      <td>[{\"iso_639_1\": \"en\", \"name\": \"English\"}]</td>\n",
              "      <td>A long time ago in a galaxy far, far away...</td>\n",
              "      <td>Mark Hamill Harrison Ford Carrie Fisher Peter ...</td>\n",
              "      <td>[{'name': 'George Lucas', 'gender': 2, 'depart...</td>\n",
              "      <td>George Lucas</td>\n",
              "    </tr>\n",
              "    <tr>\n",
              "      <th>2</th>\n",
              "      <td>3</td>\n",
              "      <td>Finding Nemo</td>\n",
              "      <td>Animation Family</td>\n",
              "      <td>en</td>\n",
              "      <td>94000000</td>\n",
              "      <td>85.688789</td>\n",
              "      <td>30-05-2003</td>\n",
              "      <td>940335536</td>\n",
              "      <td>100.0</td>\n",
              "      <td>7.6</td>\n",
              "      <td>...</td>\n",
              "      <td>http://movies.disney.com/finding-nemo</td>\n",
              "      <td>father son relationship harbor underwater fish...</td>\n",
              "      <td>Nemo, an adventurous young clownfish, is unexp...</td>\n",
              "      <td>[{\"name\": \"Pixar Animation Studios\", \"id\": 3}]</td>\n",
              "      <td>[{\"iso_3166_1\": \"US\", \"name\": \"United States o...</td>\n",
              "      <td>[{\"iso_639_1\": \"en\", \"name\": \"English\"}]</td>\n",
              "      <td>There are 3.7 trillion fish in the ocean, they...</td>\n",
              "      <td>Albert Brooks Ellen DeGeneres Alexander Gould ...</td>\n",
              "      <td>[{'name': 'Andrew Stanton', 'gender': 2, 'depa...</td>\n",
              "      <td>Andrew Stanton</td>\n",
              "    </tr>\n",
              "    <tr>\n",
              "      <th>3</th>\n",
              "      <td>4</td>\n",
              "      <td>Forrest Gump</td>\n",
              "      <td>Comedy Drama Romance</td>\n",
              "      <td>en</td>\n",
              "      <td>55000000</td>\n",
              "      <td>138.133331</td>\n",
              "      <td>06-07-1994</td>\n",
              "      <td>677945399</td>\n",
              "      <td>142.0</td>\n",
              "      <td>8.2</td>\n",
              "      <td>...</td>\n",
              "      <td>NaN</td>\n",
              "      <td>vietnam veteran hippie mentally disabled runni...</td>\n",
              "      <td>A man with a low IQ has accomplished great thi...</td>\n",
              "      <td>[{\"name\": \"Paramount Pictures\", \"id\": 4}]</td>\n",
              "      <td>[{\"iso_3166_1\": \"US\", \"name\": \"United States o...</td>\n",
              "      <td>[{\"iso_639_1\": \"en\", \"name\": \"English\"}]</td>\n",
              "      <td>The world will never be the same, once you've ...</td>\n",
              "      <td>Tom Hanks Robin Wright Gary Sinise Mykelti Wil...</td>\n",
              "      <td>[{'name': 'Alan Silvestri', 'gender': 2, 'depa...</td>\n",
              "      <td>Robert Zemeckis</td>\n",
              "    </tr>\n",
              "    <tr>\n",
              "      <th>4</th>\n",
              "      <td>5</td>\n",
              "      <td>American Beauty</td>\n",
              "      <td>Drama</td>\n",
              "      <td>en</td>\n",
              "      <td>15000000</td>\n",
              "      <td>80.878605</td>\n",
              "      <td>15-09-1999</td>\n",
              "      <td>356296601</td>\n",
              "      <td>122.0</td>\n",
              "      <td>7.9</td>\n",
              "      <td>...</td>\n",
              "      <td>http://www.dreamworks.com/ab/</td>\n",
              "      <td>male nudity female nudity adultery midlife cri...</td>\n",
              "      <td>Lester Burnham, a depressed suburban father in...</td>\n",
              "      <td>[{\"name\": \"DreamWorks SKG\", \"id\": 27}, {\"name\"...</td>\n",
              "      <td>[{\"iso_3166_1\": \"US\", \"name\": \"United States o...</td>\n",
              "      <td>[{\"iso_639_1\": \"en\", \"name\": \"English\"}]</td>\n",
              "      <td>Look closer.</td>\n",
              "      <td>Kevin Spacey Annette Bening Thora Birch Wes Be...</td>\n",
              "      <td>[{'name': 'Thomas Newman', 'gender': 2, 'depar...</td>\n",
              "      <td>Sam Mendes</td>\n",
              "    </tr>\n",
              "  </tbody>\n",
              "</table>\n",
              "<p>5 rows × 21 columns</p>\n",
              "</div>\n",
              "    <div class=\"colab-df-buttons\">\n",
              "\n",
              "  <div class=\"colab-df-container\">\n",
              "    <button class=\"colab-df-convert\" onclick=\"convertToInteractive('df-34e52180-7f3b-411e-8f4a-8f63d85c1884')\"\n",
              "            title=\"Convert this dataframe to an interactive table.\"\n",
              "            style=\"display:none;\">\n",
              "\n",
              "  <svg xmlns=\"http://www.w3.org/2000/svg\" height=\"24px\" viewBox=\"0 -960 960 960\">\n",
              "    <path d=\"M120-120v-720h720v720H120Zm60-500h600v-160H180v160Zm220 220h160v-160H400v160Zm0 220h160v-160H400v160ZM180-400h160v-160H180v160Zm440 0h160v-160H620v160ZM180-180h160v-160H180v160Zm440 0h160v-160H620v160Z\"/>\n",
              "  </svg>\n",
              "    </button>\n",
              "\n",
              "  <style>\n",
              "    .colab-df-container {\n",
              "      display:flex;\n",
              "      gap: 12px;\n",
              "    }\n",
              "\n",
              "    .colab-df-convert {\n",
              "      background-color: #E8F0FE;\n",
              "      border: none;\n",
              "      border-radius: 50%;\n",
              "      cursor: pointer;\n",
              "      display: none;\n",
              "      fill: #1967D2;\n",
              "      height: 32px;\n",
              "      padding: 0 0 0 0;\n",
              "      width: 32px;\n",
              "    }\n",
              "\n",
              "    .colab-df-convert:hover {\n",
              "      background-color: #E2EBFA;\n",
              "      box-shadow: 0px 1px 2px rgba(60, 64, 67, 0.3), 0px 1px 3px 1px rgba(60, 64, 67, 0.15);\n",
              "      fill: #174EA6;\n",
              "    }\n",
              "\n",
              "    .colab-df-buttons div {\n",
              "      margin-bottom: 4px;\n",
              "    }\n",
              "\n",
              "    [theme=dark] .colab-df-convert {\n",
              "      background-color: #3B4455;\n",
              "      fill: #D2E3FC;\n",
              "    }\n",
              "\n",
              "    [theme=dark] .colab-df-convert:hover {\n",
              "      background-color: #434B5C;\n",
              "      box-shadow: 0px 1px 3px 1px rgba(0, 0, 0, 0.15);\n",
              "      filter: drop-shadow(0px 1px 2px rgba(0, 0, 0, 0.3));\n",
              "      fill: #FFFFFF;\n",
              "    }\n",
              "  </style>\n",
              "\n",
              "    <script>\n",
              "      const buttonEl =\n",
              "        document.querySelector('#df-34e52180-7f3b-411e-8f4a-8f63d85c1884 button.colab-df-convert');\n",
              "      buttonEl.style.display =\n",
              "        google.colab.kernel.accessAllowed ? 'block' : 'none';\n",
              "\n",
              "      async function convertToInteractive(key) {\n",
              "        const element = document.querySelector('#df-34e52180-7f3b-411e-8f4a-8f63d85c1884');\n",
              "        const dataTable =\n",
              "          await google.colab.kernel.invokeFunction('convertToInteractive',\n",
              "                                                    [key], {});\n",
              "        if (!dataTable) return;\n",
              "\n",
              "        const docLinkHtml = 'Like what you see? Visit the ' +\n",
              "          '<a target=\"_blank\" href=https://colab.research.google.com/notebooks/data_table.ipynb>data table notebook</a>'\n",
              "          + ' to learn more about interactive tables.';\n",
              "        element.innerHTML = '';\n",
              "        dataTable['output_type'] = 'display_data';\n",
              "        await google.colab.output.renderOutput(dataTable, element);\n",
              "        const docLink = document.createElement('div');\n",
              "        docLink.innerHTML = docLinkHtml;\n",
              "        element.appendChild(docLink);\n",
              "      }\n",
              "    </script>\n",
              "  </div>\n",
              "\n",
              "\n",
              "<div id=\"df-1d9a9180-b845-426f-a49a-a3eac3ebdb5f\">\n",
              "  <button class=\"colab-df-quickchart\" onclick=\"quickchart('df-1d9a9180-b845-426f-a49a-a3eac3ebdb5f')\"\n",
              "            title=\"Suggest charts\"\n",
              "            style=\"display:none;\">\n",
              "\n",
              "<svg xmlns=\"http://www.w3.org/2000/svg\" height=\"24px\"viewBox=\"0 0 24 24\"\n",
              "     width=\"24px\">\n",
              "    <g>\n",
              "        <path d=\"M19 3H5c-1.1 0-2 .9-2 2v14c0 1.1.9 2 2 2h14c1.1 0 2-.9 2-2V5c0-1.1-.9-2-2-2zM9 17H7v-7h2v7zm4 0h-2V7h2v10zm4 0h-2v-4h2v4z\"/>\n",
              "    </g>\n",
              "</svg>\n",
              "  </button>\n",
              "\n",
              "<style>\n",
              "  .colab-df-quickchart {\n",
              "      --bg-color: #E8F0FE;\n",
              "      --fill-color: #1967D2;\n",
              "      --hover-bg-color: #E2EBFA;\n",
              "      --hover-fill-color: #174EA6;\n",
              "      --disabled-fill-color: #AAA;\n",
              "      --disabled-bg-color: #DDD;\n",
              "  }\n",
              "\n",
              "  [theme=dark] .colab-df-quickchart {\n",
              "      --bg-color: #3B4455;\n",
              "      --fill-color: #D2E3FC;\n",
              "      --hover-bg-color: #434B5C;\n",
              "      --hover-fill-color: #FFFFFF;\n",
              "      --disabled-bg-color: #3B4455;\n",
              "      --disabled-fill-color: #666;\n",
              "  }\n",
              "\n",
              "  .colab-df-quickchart {\n",
              "    background-color: var(--bg-color);\n",
              "    border: none;\n",
              "    border-radius: 50%;\n",
              "    cursor: pointer;\n",
              "    display: none;\n",
              "    fill: var(--fill-color);\n",
              "    height: 32px;\n",
              "    padding: 0;\n",
              "    width: 32px;\n",
              "  }\n",
              "\n",
              "  .colab-df-quickchart:hover {\n",
              "    background-color: var(--hover-bg-color);\n",
              "    box-shadow: 0 1px 2px rgba(60, 64, 67, 0.3), 0 1px 3px 1px rgba(60, 64, 67, 0.15);\n",
              "    fill: var(--button-hover-fill-color);\n",
              "  }\n",
              "\n",
              "  .colab-df-quickchart-complete:disabled,\n",
              "  .colab-df-quickchart-complete:disabled:hover {\n",
              "    background-color: var(--disabled-bg-color);\n",
              "    fill: var(--disabled-fill-color);\n",
              "    box-shadow: none;\n",
              "  }\n",
              "\n",
              "  .colab-df-spinner {\n",
              "    border: 2px solid var(--fill-color);\n",
              "    border-color: transparent;\n",
              "    border-bottom-color: var(--fill-color);\n",
              "    animation:\n",
              "      spin 1s steps(1) infinite;\n",
              "  }\n",
              "\n",
              "  @keyframes spin {\n",
              "    0% {\n",
              "      border-color: transparent;\n",
              "      border-bottom-color: var(--fill-color);\n",
              "      border-left-color: var(--fill-color);\n",
              "    }\n",
              "    20% {\n",
              "      border-color: transparent;\n",
              "      border-left-color: var(--fill-color);\n",
              "      border-top-color: var(--fill-color);\n",
              "    }\n",
              "    30% {\n",
              "      border-color: transparent;\n",
              "      border-left-color: var(--fill-color);\n",
              "      border-top-color: var(--fill-color);\n",
              "      border-right-color: var(--fill-color);\n",
              "    }\n",
              "    40% {\n",
              "      border-color: transparent;\n",
              "      border-right-color: var(--fill-color);\n",
              "      border-top-color: var(--fill-color);\n",
              "    }\n",
              "    60% {\n",
              "      border-color: transparent;\n",
              "      border-right-color: var(--fill-color);\n",
              "    }\n",
              "    80% {\n",
              "      border-color: transparent;\n",
              "      border-right-color: var(--fill-color);\n",
              "      border-bottom-color: var(--fill-color);\n",
              "    }\n",
              "    90% {\n",
              "      border-color: transparent;\n",
              "      border-bottom-color: var(--fill-color);\n",
              "    }\n",
              "  }\n",
              "</style>\n",
              "\n",
              "  <script>\n",
              "    async function quickchart(key) {\n",
              "      const quickchartButtonEl =\n",
              "        document.querySelector('#' + key + ' button');\n",
              "      quickchartButtonEl.disabled = true;  // To prevent multiple clicks.\n",
              "      quickchartButtonEl.classList.add('colab-df-spinner');\n",
              "      try {\n",
              "        const charts = await google.colab.kernel.invokeFunction(\n",
              "            'suggestCharts', [key], {});\n",
              "      } catch (error) {\n",
              "        console.error('Error during call to suggestCharts:', error);\n",
              "      }\n",
              "      quickchartButtonEl.classList.remove('colab-df-spinner');\n",
              "      quickchartButtonEl.classList.add('colab-df-quickchart-complete');\n",
              "    }\n",
              "    (() => {\n",
              "      let quickchartButtonEl =\n",
              "        document.querySelector('#df-1d9a9180-b845-426f-a49a-a3eac3ebdb5f button');\n",
              "      quickchartButtonEl.style.display =\n",
              "        google.colab.kernel.accessAllowed ? 'block' : 'none';\n",
              "    })();\n",
              "  </script>\n",
              "</div>\n",
              "\n",
              "    </div>\n",
              "  </div>\n"
            ],
            "application/vnd.google.colaboratory.intrinsic+json": {
              "type": "dataframe",
              "variable_name": "df"
            }
          },
          "metadata": {},
          "execution_count": 85
        }
      ]
    },
    {
      "cell_type": "markdown",
      "source": [
        "# **Feature Selection**\n",
        "\n",
        "\n"
      ],
      "metadata": {
        "id": "-mJ4xni4molq"
      }
    },
    {
      "cell_type": "code",
      "source": [
        "df.columns"
      ],
      "metadata": {
        "colab": {
          "base_uri": "https://localhost:8080/"
        },
        "id": "ouRsfDZKpQC6",
        "outputId": "95887418-d6b5-4c8b-c287-e4d4b6d7ed6b"
      },
      "execution_count": 86,
      "outputs": [
        {
          "output_type": "execute_result",
          "data": {
            "text/plain": [
              "Index(['Movie_ID', 'Movie_Title', 'Movie_Genre', 'Movie_Language',\n",
              "       'Movie_Budget', 'Movie_Popularity', 'Movie_Release_Date',\n",
              "       'Movie_Revenue', 'Movie_Runtime', 'Movie_Vote', 'Movie_Vote_Count',\n",
              "       'Movie_Homepage', 'Movie_Keywords', 'Movie_Overview',\n",
              "       'Movie_Production_House', 'Movie_Production_Country',\n",
              "       'Movie_Spoken_Language', 'Movie_Tagline', 'Movie_Cast', 'Movie_Crew',\n",
              "       'Movie_Director'],\n",
              "      dtype='object')"
            ]
          },
          "metadata": {},
          "execution_count": 86
        }
      ]
    },
    {
      "cell_type": "code",
      "source": [
        "df_feature=df[['Movie_Genre', 'Movie_Keywords',  'Movie_Tagline', 'Movie_Cast', 'Movie_Director']]"
      ],
      "metadata": {
        "id": "FADdb--2pQAV"
      },
      "execution_count": 87,
      "outputs": []
    },
    {
      "cell_type": "code",
      "source": [
        "df_feature.fillna(' ',inplace=True)"
      ],
      "metadata": {
        "colab": {
          "base_uri": "https://localhost:8080/"
        },
        "id": "W3WcqnHxpP94",
        "outputId": "f209e300-125f-48fa-8484-fbdacfac2c64"
      },
      "execution_count": 88,
      "outputs": [
        {
          "output_type": "stream",
          "name": "stderr",
          "text": [
            "<ipython-input-88-24d437af535e>:1: SettingWithCopyWarning: \n",
            "A value is trying to be set on a copy of a slice from a DataFrame\n",
            "\n",
            "See the caveats in the documentation: https://pandas.pydata.org/pandas-docs/stable/user_guide/indexing.html#returning-a-view-versus-a-copy\n",
            "  df_feature.fillna(' ',inplace=True)\n"
          ]
        }
      ]
    },
    {
      "cell_type": "code",
      "source": [
        "df_feature.head()"
      ],
      "metadata": {
        "colab": {
          "base_uri": "https://localhost:8080/",
          "height": 206
        },
        "id": "s6dM9KwspP7F",
        "outputId": "be77a893-b1aa-42ae-ff7f-449bd1e9a811"
      },
      "execution_count": 89,
      "outputs": [
        {
          "output_type": "execute_result",
          "data": {
            "text/plain": [
              "                        Movie_Genre  \\\n",
              "0                      Crime Comedy   \n",
              "1  Adventure Action Science Fiction   \n",
              "2                  Animation Family   \n",
              "3              Comedy Drama Romance   \n",
              "4                             Drama   \n",
              "\n",
              "                                      Movie_Keywords  \\\n",
              "0          hotel new year's eve witch bet hotel room   \n",
              "1        android galaxy hermit death star lightsaber   \n",
              "2  father son relationship harbor underwater fish...   \n",
              "3  vietnam veteran hippie mentally disabled runni...   \n",
              "4  male nudity female nudity adultery midlife cri...   \n",
              "\n",
              "                                       Movie_Tagline  \\\n",
              "0  Twelve outrageous guests. Four scandalous requ...   \n",
              "1       A long time ago in a galaxy far, far away...   \n",
              "2  There are 3.7 trillion fish in the ocean, they...   \n",
              "3  The world will never be the same, once you've ...   \n",
              "4                                       Look closer.   \n",
              "\n",
              "                                          Movie_Cast   Movie_Director  \n",
              "0  Tim Roth Antonio Banderas Jennifer Beals Madon...   Allison Anders  \n",
              "1  Mark Hamill Harrison Ford Carrie Fisher Peter ...     George Lucas  \n",
              "2  Albert Brooks Ellen DeGeneres Alexander Gould ...   Andrew Stanton  \n",
              "3  Tom Hanks Robin Wright Gary Sinise Mykelti Wil...  Robert Zemeckis  \n",
              "4  Kevin Spacey Annette Bening Thora Birch Wes Be...       Sam Mendes  "
            ],
            "text/html": [
              "\n",
              "  <div id=\"df-c3b976a4-8725-48d5-b021-0edba48014de\" class=\"colab-df-container\">\n",
              "    <div>\n",
              "<style scoped>\n",
              "    .dataframe tbody tr th:only-of-type {\n",
              "        vertical-align: middle;\n",
              "    }\n",
              "\n",
              "    .dataframe tbody tr th {\n",
              "        vertical-align: top;\n",
              "    }\n",
              "\n",
              "    .dataframe thead th {\n",
              "        text-align: right;\n",
              "    }\n",
              "</style>\n",
              "<table border=\"1\" class=\"dataframe\">\n",
              "  <thead>\n",
              "    <tr style=\"text-align: right;\">\n",
              "      <th></th>\n",
              "      <th>Movie_Genre</th>\n",
              "      <th>Movie_Keywords</th>\n",
              "      <th>Movie_Tagline</th>\n",
              "      <th>Movie_Cast</th>\n",
              "      <th>Movie_Director</th>\n",
              "    </tr>\n",
              "  </thead>\n",
              "  <tbody>\n",
              "    <tr>\n",
              "      <th>0</th>\n",
              "      <td>Crime Comedy</td>\n",
              "      <td>hotel new year's eve witch bet hotel room</td>\n",
              "      <td>Twelve outrageous guests. Four scandalous requ...</td>\n",
              "      <td>Tim Roth Antonio Banderas Jennifer Beals Madon...</td>\n",
              "      <td>Allison Anders</td>\n",
              "    </tr>\n",
              "    <tr>\n",
              "      <th>1</th>\n",
              "      <td>Adventure Action Science Fiction</td>\n",
              "      <td>android galaxy hermit death star lightsaber</td>\n",
              "      <td>A long time ago in a galaxy far, far away...</td>\n",
              "      <td>Mark Hamill Harrison Ford Carrie Fisher Peter ...</td>\n",
              "      <td>George Lucas</td>\n",
              "    </tr>\n",
              "    <tr>\n",
              "      <th>2</th>\n",
              "      <td>Animation Family</td>\n",
              "      <td>father son relationship harbor underwater fish...</td>\n",
              "      <td>There are 3.7 trillion fish in the ocean, they...</td>\n",
              "      <td>Albert Brooks Ellen DeGeneres Alexander Gould ...</td>\n",
              "      <td>Andrew Stanton</td>\n",
              "    </tr>\n",
              "    <tr>\n",
              "      <th>3</th>\n",
              "      <td>Comedy Drama Romance</td>\n",
              "      <td>vietnam veteran hippie mentally disabled runni...</td>\n",
              "      <td>The world will never be the same, once you've ...</td>\n",
              "      <td>Tom Hanks Robin Wright Gary Sinise Mykelti Wil...</td>\n",
              "      <td>Robert Zemeckis</td>\n",
              "    </tr>\n",
              "    <tr>\n",
              "      <th>4</th>\n",
              "      <td>Drama</td>\n",
              "      <td>male nudity female nudity adultery midlife cri...</td>\n",
              "      <td>Look closer.</td>\n",
              "      <td>Kevin Spacey Annette Bening Thora Birch Wes Be...</td>\n",
              "      <td>Sam Mendes</td>\n",
              "    </tr>\n",
              "  </tbody>\n",
              "</table>\n",
              "</div>\n",
              "    <div class=\"colab-df-buttons\">\n",
              "\n",
              "  <div class=\"colab-df-container\">\n",
              "    <button class=\"colab-df-convert\" onclick=\"convertToInteractive('df-c3b976a4-8725-48d5-b021-0edba48014de')\"\n",
              "            title=\"Convert this dataframe to an interactive table.\"\n",
              "            style=\"display:none;\">\n",
              "\n",
              "  <svg xmlns=\"http://www.w3.org/2000/svg\" height=\"24px\" viewBox=\"0 -960 960 960\">\n",
              "    <path d=\"M120-120v-720h720v720H120Zm60-500h600v-160H180v160Zm220 220h160v-160H400v160Zm0 220h160v-160H400v160ZM180-400h160v-160H180v160Zm440 0h160v-160H620v160ZM180-180h160v-160H180v160Zm440 0h160v-160H620v160Z\"/>\n",
              "  </svg>\n",
              "    </button>\n",
              "\n",
              "  <style>\n",
              "    .colab-df-container {\n",
              "      display:flex;\n",
              "      gap: 12px;\n",
              "    }\n",
              "\n",
              "    .colab-df-convert {\n",
              "      background-color: #E8F0FE;\n",
              "      border: none;\n",
              "      border-radius: 50%;\n",
              "      cursor: pointer;\n",
              "      display: none;\n",
              "      fill: #1967D2;\n",
              "      height: 32px;\n",
              "      padding: 0 0 0 0;\n",
              "      width: 32px;\n",
              "    }\n",
              "\n",
              "    .colab-df-convert:hover {\n",
              "      background-color: #E2EBFA;\n",
              "      box-shadow: 0px 1px 2px rgba(60, 64, 67, 0.3), 0px 1px 3px 1px rgba(60, 64, 67, 0.15);\n",
              "      fill: #174EA6;\n",
              "    }\n",
              "\n",
              "    .colab-df-buttons div {\n",
              "      margin-bottom: 4px;\n",
              "    }\n",
              "\n",
              "    [theme=dark] .colab-df-convert {\n",
              "      background-color: #3B4455;\n",
              "      fill: #D2E3FC;\n",
              "    }\n",
              "\n",
              "    [theme=dark] .colab-df-convert:hover {\n",
              "      background-color: #434B5C;\n",
              "      box-shadow: 0px 1px 3px 1px rgba(0, 0, 0, 0.15);\n",
              "      filter: drop-shadow(0px 1px 2px rgba(0, 0, 0, 0.3));\n",
              "      fill: #FFFFFF;\n",
              "    }\n",
              "  </style>\n",
              "\n",
              "    <script>\n",
              "      const buttonEl =\n",
              "        document.querySelector('#df-c3b976a4-8725-48d5-b021-0edba48014de button.colab-df-convert');\n",
              "      buttonEl.style.display =\n",
              "        google.colab.kernel.accessAllowed ? 'block' : 'none';\n",
              "\n",
              "      async function convertToInteractive(key) {\n",
              "        const element = document.querySelector('#df-c3b976a4-8725-48d5-b021-0edba48014de');\n",
              "        const dataTable =\n",
              "          await google.colab.kernel.invokeFunction('convertToInteractive',\n",
              "                                                    [key], {});\n",
              "        if (!dataTable) return;\n",
              "\n",
              "        const docLinkHtml = 'Like what you see? Visit the ' +\n",
              "          '<a target=\"_blank\" href=https://colab.research.google.com/notebooks/data_table.ipynb>data table notebook</a>'\n",
              "          + ' to learn more about interactive tables.';\n",
              "        element.innerHTML = '';\n",
              "        dataTable['output_type'] = 'display_data';\n",
              "        await google.colab.output.renderOutput(dataTable, element);\n",
              "        const docLink = document.createElement('div');\n",
              "        docLink.innerHTML = docLinkHtml;\n",
              "        element.appendChild(docLink);\n",
              "      }\n",
              "    </script>\n",
              "  </div>\n",
              "\n",
              "\n",
              "<div id=\"df-f6eef9f0-720f-4f56-bbff-5ce821af6519\">\n",
              "  <button class=\"colab-df-quickchart\" onclick=\"quickchart('df-f6eef9f0-720f-4f56-bbff-5ce821af6519')\"\n",
              "            title=\"Suggest charts\"\n",
              "            style=\"display:none;\">\n",
              "\n",
              "<svg xmlns=\"http://www.w3.org/2000/svg\" height=\"24px\"viewBox=\"0 0 24 24\"\n",
              "     width=\"24px\">\n",
              "    <g>\n",
              "        <path d=\"M19 3H5c-1.1 0-2 .9-2 2v14c0 1.1.9 2 2 2h14c1.1 0 2-.9 2-2V5c0-1.1-.9-2-2-2zM9 17H7v-7h2v7zm4 0h-2V7h2v10zm4 0h-2v-4h2v4z\"/>\n",
              "    </g>\n",
              "</svg>\n",
              "  </button>\n",
              "\n",
              "<style>\n",
              "  .colab-df-quickchart {\n",
              "      --bg-color: #E8F0FE;\n",
              "      --fill-color: #1967D2;\n",
              "      --hover-bg-color: #E2EBFA;\n",
              "      --hover-fill-color: #174EA6;\n",
              "      --disabled-fill-color: #AAA;\n",
              "      --disabled-bg-color: #DDD;\n",
              "  }\n",
              "\n",
              "  [theme=dark] .colab-df-quickchart {\n",
              "      --bg-color: #3B4455;\n",
              "      --fill-color: #D2E3FC;\n",
              "      --hover-bg-color: #434B5C;\n",
              "      --hover-fill-color: #FFFFFF;\n",
              "      --disabled-bg-color: #3B4455;\n",
              "      --disabled-fill-color: #666;\n",
              "  }\n",
              "\n",
              "  .colab-df-quickchart {\n",
              "    background-color: var(--bg-color);\n",
              "    border: none;\n",
              "    border-radius: 50%;\n",
              "    cursor: pointer;\n",
              "    display: none;\n",
              "    fill: var(--fill-color);\n",
              "    height: 32px;\n",
              "    padding: 0;\n",
              "    width: 32px;\n",
              "  }\n",
              "\n",
              "  .colab-df-quickchart:hover {\n",
              "    background-color: var(--hover-bg-color);\n",
              "    box-shadow: 0 1px 2px rgba(60, 64, 67, 0.3), 0 1px 3px 1px rgba(60, 64, 67, 0.15);\n",
              "    fill: var(--button-hover-fill-color);\n",
              "  }\n",
              "\n",
              "  .colab-df-quickchart-complete:disabled,\n",
              "  .colab-df-quickchart-complete:disabled:hover {\n",
              "    background-color: var(--disabled-bg-color);\n",
              "    fill: var(--disabled-fill-color);\n",
              "    box-shadow: none;\n",
              "  }\n",
              "\n",
              "  .colab-df-spinner {\n",
              "    border: 2px solid var(--fill-color);\n",
              "    border-color: transparent;\n",
              "    border-bottom-color: var(--fill-color);\n",
              "    animation:\n",
              "      spin 1s steps(1) infinite;\n",
              "  }\n",
              "\n",
              "  @keyframes spin {\n",
              "    0% {\n",
              "      border-color: transparent;\n",
              "      border-bottom-color: var(--fill-color);\n",
              "      border-left-color: var(--fill-color);\n",
              "    }\n",
              "    20% {\n",
              "      border-color: transparent;\n",
              "      border-left-color: var(--fill-color);\n",
              "      border-top-color: var(--fill-color);\n",
              "    }\n",
              "    30% {\n",
              "      border-color: transparent;\n",
              "      border-left-color: var(--fill-color);\n",
              "      border-top-color: var(--fill-color);\n",
              "      border-right-color: var(--fill-color);\n",
              "    }\n",
              "    40% {\n",
              "      border-color: transparent;\n",
              "      border-right-color: var(--fill-color);\n",
              "      border-top-color: var(--fill-color);\n",
              "    }\n",
              "    60% {\n",
              "      border-color: transparent;\n",
              "      border-right-color: var(--fill-color);\n",
              "    }\n",
              "    80% {\n",
              "      border-color: transparent;\n",
              "      border-right-color: var(--fill-color);\n",
              "      border-bottom-color: var(--fill-color);\n",
              "    }\n",
              "    90% {\n",
              "      border-color: transparent;\n",
              "      border-bottom-color: var(--fill-color);\n",
              "    }\n",
              "  }\n",
              "</style>\n",
              "\n",
              "  <script>\n",
              "    async function quickchart(key) {\n",
              "      const quickchartButtonEl =\n",
              "        document.querySelector('#' + key + ' button');\n",
              "      quickchartButtonEl.disabled = true;  // To prevent multiple clicks.\n",
              "      quickchartButtonEl.classList.add('colab-df-spinner');\n",
              "      try {\n",
              "        const charts = await google.colab.kernel.invokeFunction(\n",
              "            'suggestCharts', [key], {});\n",
              "      } catch (error) {\n",
              "        console.error('Error during call to suggestCharts:', error);\n",
              "      }\n",
              "      quickchartButtonEl.classList.remove('colab-df-spinner');\n",
              "      quickchartButtonEl.classList.add('colab-df-quickchart-complete');\n",
              "    }\n",
              "    (() => {\n",
              "      let quickchartButtonEl =\n",
              "        document.querySelector('#df-f6eef9f0-720f-4f56-bbff-5ce821af6519 button');\n",
              "      quickchartButtonEl.style.display =\n",
              "        google.colab.kernel.accessAllowed ? 'block' : 'none';\n",
              "    })();\n",
              "  </script>\n",
              "</div>\n",
              "\n",
              "    </div>\n",
              "  </div>\n"
            ],
            "application/vnd.google.colaboratory.intrinsic+json": {
              "type": "dataframe",
              "variable_name": "df_feature",
              "summary": "{\n  \"name\": \"df_feature\",\n  \"rows\": 4760,\n  \"fields\": [\n    {\n      \"column\": \"Movie_Genre\",\n      \"properties\": {\n        \"dtype\": \"category\",\n        \"num_unique_values\": 1164,\n        \"samples\": [\n          \"Family Animation Adventure\",\n          \"Adventure Science Fiction Action\",\n          \"Action Crime Drama Romance Thriller\"\n        ],\n        \"semantic_type\": \"\",\n        \"description\": \"\"\n      }\n    },\n    {\n      \"column\": \"Movie_Keywords\",\n      \"properties\": {\n        \"dtype\": \"string\",\n        \"num_unique_values\": 4203,\n        \"samples\": [\n          \"canada nazis sequel spin off ancient evil\",\n          \"sex professor wedding woman director columbia university\",\n          \"prophecy sea beach gold small town\"\n        ],\n        \"semantic_type\": \"\",\n        \"description\": \"\"\n      }\n    },\n    {\n      \"column\": \"Movie_Tagline\",\n      \"properties\": {\n        \"dtype\": \"string\",\n        \"num_unique_values\": 3928,\n        \"samples\": [\n          \"The messenger must be silenced.\",\n          \"It's not the house that's haunted.\",\n          \"The final hunt begins.\"\n        ],\n        \"semantic_type\": \"\",\n        \"description\": \"\"\n      }\n    },\n    {\n      \"column\": \"Movie_Cast\",\n      \"properties\": {\n        \"dtype\": \"string\",\n        \"num_unique_values\": 4715,\n        \"samples\": [\n          \"Robin Tunney Fairuza Balk Neve Campbell Rachel True Skeet Ulrich\",\n          \"Peter Sellers Christopher Plummer Herbert Lom Catherine Schell Peter Arne\",\n          \"John Wayne Laraine Day Cedric Hardwicke Judith Anderson Anthony Quinn\"\n        ],\n        \"semantic_type\": \"\",\n        \"description\": \"\"\n      }\n    },\n    {\n      \"column\": \"Movie_Director\",\n      \"properties\": {\n        \"dtype\": \"category\",\n        \"num_unique_values\": 2332,\n        \"samples\": [\n          \"Rob McKittrick\",\n          \"Terron R. Parsons\",\n          \"Cyrus Nowrasteh\"\n        ],\n        \"semantic_type\": \"\",\n        \"description\": \"\"\n      }\n    }\n  ]\n}"
            }
          },
          "metadata": {},
          "execution_count": 89
        }
      ]
    },
    {
      "cell_type": "code",
      "source": [
        "df_feature.shape"
      ],
      "metadata": {
        "colab": {
          "base_uri": "https://localhost:8080/"
        },
        "id": "dgfHan5NrFOY",
        "outputId": "4f09c0f5-58c6-4264-a571-4803dc033cf2"
      },
      "execution_count": 90,
      "outputs": [
        {
          "output_type": "execute_result",
          "data": {
            "text/plain": [
              "(4760, 5)"
            ]
          },
          "metadata": {},
          "execution_count": 90
        }
      ]
    },
    {
      "cell_type": "code",
      "source": [
        "x=df_feature[:].T.sum()\n"
      ],
      "metadata": {
        "id": "NF53GtJ1rU3Q"
      },
      "execution_count": 91,
      "outputs": []
    },
    {
      "cell_type": "code",
      "source": [
        "x"
      ],
      "metadata": {
        "colab": {
          "base_uri": "https://localhost:8080/"
        },
        "id": "WBeTGiWXrub8",
        "outputId": "39b5b2b2-8d39-4f0c-e1f3-21e29fd3eaee"
      },
      "execution_count": 92,
      "outputs": [
        {
          "output_type": "execute_result",
          "data": {
            "text/plain": [
              "0       Crime Comedyhotel new year's eve witch bet hot...\n",
              "1       Adventure Action Science Fictionandroid galaxy...\n",
              "2       Animation Familyfather son relationship harbor...\n",
              "3       Comedy Drama Romancevietnam veteran hippie men...\n",
              "4       Dramamale nudity female nudity adultery midlif...\n",
              "                              ...                        \n",
              "4755    Horror The hot spot where Satan's waitin'.Lisa...\n",
              "4756    Comedy Family Drama It’s better to stand out t...\n",
              "4757    Thriller Dramachristian film sex traffickingSh...\n",
              "4758                                           Family    \n",
              "4759    Documentarymusic actors legendary perfomer cla...\n",
              "Length: 4760, dtype: object"
            ]
          },
          "metadata": {},
          "execution_count": 92
        }
      ]
    },
    {
      "cell_type": "markdown",
      "source": [
        "## **Get Feature Text Convestion to token**"
      ],
      "metadata": {
        "id": "5igc93oUqEgR"
      }
    },
    {
      "cell_type": "code",
      "source": [
        "from sklearn.feature_extraction.text import TfidfVectorizer\n",
        "vectorizer = TfidfVectorizer()"
      ],
      "metadata": {
        "id": "gw7p56HTpP4g"
      },
      "execution_count": 93,
      "outputs": []
    },
    {
      "cell_type": "code",
      "source": [
        "x=vectorizer.fit_transform(x)"
      ],
      "metadata": {
        "id": "MN4UGVZQsTLu"
      },
      "execution_count": 94,
      "outputs": []
    },
    {
      "cell_type": "code",
      "source": [
        "x.shape"
      ],
      "metadata": {
        "colab": {
          "base_uri": "https://localhost:8080/"
        },
        "id": "QT-qGbvTscNi",
        "outputId": "5c368a6f-0efb-4ad8-b478-c36461dfd4b1"
      },
      "execution_count": 95,
      "outputs": [
        {
          "output_type": "execute_result",
          "data": {
            "text/plain": [
              "(4760, 26690)"
            ]
          },
          "metadata": {},
          "execution_count": 95
        }
      ]
    },
    {
      "cell_type": "code",
      "source": [
        "print(x)"
      ],
      "metadata": {
        "colab": {
          "base_uri": "https://localhost:8080/"
        },
        "id": "WXtjQxIcsguN",
        "outputId": "c1c3fc64-34a7-4835-fe98-40edeffcaa7c"
      },
      "execution_count": 156,
      "outputs": [
        {
          "output_type": "stream",
          "name": "stdout",
          "text": [
            "  (0, 997)\t0.16218897716465208\n",
            "  (0, 24042)\t0.19573940525923644\n",
            "  (0, 15312)\t0.14125963661980098\n",
            "  (0, 15025)\t0.1712334106383567\n",
            "  (0, 2087)\t0.18027784411206133\n",
            "  (0, 12800)\t0.09884510196398825\n",
            "  (0, 1843)\t0.14125963661980098\n",
            "  (0, 1180)\t0.13768298254377234\n",
            "  (0, 20504)\t0.14225119175320491\n",
            "  (0, 23960)\t0.11263290442298864\n",
            "  (0, 14419)\t0.0911952674290389\n",
            "  (0, 17528)\t0.06209189423364648\n",
            "  (0, 25971)\t0.17530033318796678\n",
            "  (0, 9354)\t0.08724859486116572\n",
            "  (0, 25910)\t0.11107601799071852\n",
            "  (0, 12887)\t0.13687175432284468\n",
            "  (0, 23406)\t0.10688255470486582\n",
            "  (0, 17624)\t0.07289043954163378\n",
            "  (0, 6008)\t0.11987121627273684\n",
            "  (0, 9193)\t0.11774519713232517\n",
            "  (0, 11492)\t0.20162471321580175\n",
            "  (0, 12300)\t0.15282415865976737\n",
            "  (0, 2246)\t0.19573940525923644\n",
            "  (0, 14648)\t0.15398639143293763\n",
            "  (0, 17628)\t0.08583051970457106\n",
            "  :\t:\n",
            "  (4757, 5275)\t0.19907175627875004\n",
            "  (4757, 10885)\t0.21770852711405092\n",
            "  (4757, 21357)\t0.16607843368803332\n",
            "  (4757, 17223)\t0.1880313826922281\n",
            "  (4757, 9090)\t0.1350664057724148\n",
            "  (4757, 13655)\t0.23511957471226388\n",
            "  (4757, 11296)\t0.1742104681917816\n",
            "  (4757, 13533)\t0.1780111577507305\n",
            "  (4757, 23531)\t0.10682342453037985\n",
            "  (4757, 24003)\t0.0982501180608628\n",
            "  (4757, 12564)\t0.12474473883004708\n",
            "  (4757, 17155)\t0.14996371815569692\n",
            "  (4758, 8316)\t1.0\n",
            "  (4759, 17659)\t0.32858085544617605\n",
            "  (4759, 21774)\t0.32858085544617605\n",
            "  (4759, 18268)\t0.32858085544617605\n",
            "  (4759, 6708)\t0.32858085544617605\n",
            "  (4759, 333)\t0.31339828306694556\n",
            "  (4759, 14218)\t0.31339828306694556\n",
            "  (4759, 11666)\t0.26831572508904095\n",
            "  (4759, 4368)\t0.27667129761806547\n",
            "  (4759, 16987)\t0.30262607653212076\n",
            "  (4759, 9506)\t0.21199580141652455\n",
            "  (4759, 24062)\t0.20586872532474834\n",
            "  (4759, 2239)\t0.21036750875646193\n"
          ]
        }
      ]
    },
    {
      "cell_type": "markdown",
      "source": [
        "## **Get similaruty score using Cosine Similarity**"
      ],
      "metadata": {
        "id": "_VDzykCZmojH"
      }
    },
    {
      "cell_type": "markdown",
      "source": [
        "cosine-similarity computes the L2-normalized dot product of vectors, Euclidean\n",
        " L2) normalization projects the vectors onto the unit sphere.\n",
        "and their dot product iS then the cosine of the angle between the points denoted by the vectors."
      ],
      "metadata": {
        "id": "tP-lpurxtiyJ"
      }
    },
    {
      "cell_type": "code",
      "source": [
        "from sklearn.metrics.pairwise import cosine_similarity\n",
        "Similarity_Score=cosine_similarity(x)"
      ],
      "metadata": {
        "id": "5VJo-LpItPJx"
      },
      "execution_count": 97,
      "outputs": []
    },
    {
      "cell_type": "code",
      "source": [
        "Similarity_Score.shape"
      ],
      "metadata": {
        "colab": {
          "base_uri": "https://localhost:8080/"
        },
        "id": "ZPoQnE03tPPN",
        "outputId": "4b149e7e-5308-4f80-a2d4-983bc1982750"
      },
      "execution_count": 98,
      "outputs": [
        {
          "output_type": "execute_result",
          "data": {
            "text/plain": [
              "(4760, 4760)"
            ]
          },
          "metadata": {},
          "execution_count": 98
        }
      ]
    },
    {
      "cell_type": "code",
      "source": [
        "Similarity_Score"
      ],
      "metadata": {
        "colab": {
          "base_uri": "https://localhost:8080/"
        },
        "id": "kRBDpnflmVKT",
        "outputId": "f6625db1-c91c-49c8-ee87-20658d3d79f9"
      },
      "execution_count": 99,
      "outputs": [
        {
          "output_type": "execute_result",
          "data": {
            "text/plain": [
              "array([[1.        , 0.01434112, 0.03803458, ..., 0.        , 0.        ,\n",
              "        0.        ],\n",
              "       [0.01434112, 1.        , 0.0084257 , ..., 0.        , 0.        ,\n",
              "        0.        ],\n",
              "       [0.03803458, 0.0084257 , 1.        , ..., 0.        , 0.        ,\n",
              "        0.        ],\n",
              "       ...,\n",
              "       [0.        , 0.        , 0.        , ..., 1.        , 0.        ,\n",
              "        0.        ],\n",
              "       [0.        , 0.        , 0.        , ..., 0.        , 1.        ,\n",
              "        0.        ],\n",
              "       [0.        , 0.        , 0.        , ..., 0.        , 0.        ,\n",
              "        1.        ]])"
            ]
          },
          "metadata": {},
          "execution_count": 99
        }
      ]
    },
    {
      "cell_type": "markdown",
      "source": [
        "# **Get Movie Name as input from user and validate for closest spelling**"
      ],
      "metadata": {
        "id": "4UjzTgr-vQED"
      }
    },
    {
      "cell_type": "code",
      "source": [
        "Fav_movice_name=input(\"Enter Favaurite movie name: \")"
      ],
      "metadata": {
        "colab": {
          "base_uri": "https://localhost:8080/"
        },
        "id": "s80xGlyomVPm",
        "outputId": "076c6e33-7a1e-4f8e-ca65-ebbad6bc67bc"
      },
      "execution_count": 128,
      "outputs": [
        {
          "name": "stdout",
          "output_type": "stream",
          "text": [
            "Enter Favaurite movie name: avataar\n"
          ]
        }
      ]
    },
    {
      "cell_type": "code",
      "source": [
        "All_movies_titile_list=df['Movie_Title'].tolist()\n",
        "All_movies_titile_list[1:10]"
      ],
      "metadata": {
        "colab": {
          "base_uri": "https://localhost:8080/"
        },
        "id": "aXl2QnHXvsCY",
        "outputId": "fd3d4fef-51e5-49cb-fa49-a6c5e237ce66"
      },
      "execution_count": 129,
      "outputs": [
        {
          "output_type": "execute_result",
          "data": {
            "text/plain": [
              "['Star Wars',\n",
              " 'Finding Nemo',\n",
              " 'Forrest Gump',\n",
              " 'American Beauty',\n",
              " 'Dancer in the Dark',\n",
              " 'The Fifth Element',\n",
              " 'Metropolis',\n",
              " 'My Life Without Me',\n",
              " 'Pirates of the Caribbean: The Curse of the Black Pearl']"
            ]
          },
          "metadata": {},
          "execution_count": 129
        }
      ]
    },
    {
      "cell_type": "code",
      "source": [
        "import difflib"
      ],
      "metadata": {
        "id": "DH5uplFOvsE7"
      },
      "execution_count": 130,
      "outputs": []
    },
    {
      "cell_type": "code",
      "source": [
        "#choose the close matches name from movice list\n",
        "Movie_rec=difflib.get_close_matches(Fav_movice_name,All_movies_titile_list)[0]\n",
        "print(Movie_rec)"
      ],
      "metadata": {
        "colab": {
          "base_uri": "https://localhost:8080/"
        },
        "id": "-3bCzmxQvsHw",
        "outputId": "f62210d9-f654-44be-fb37-f9b508fe6977"
      },
      "execution_count": 132,
      "outputs": [
        {
          "output_type": "stream",
          "name": "stdout",
          "text": [
            "Avatar\n"
          ]
        }
      ]
    },
    {
      "cell_type": "code",
      "source": [
        "#index of the movice of input from user\n",
        "index_of_Close_movie_match=df[df['Movie_Title']==Movie_rec][\"Movie_ID\"].values[0]\n",
        "index_of_Close_movie_match"
      ],
      "metadata": {
        "colab": {
          "base_uri": "https://localhost:8080/"
        },
        "id": "FA5RpBURvsKY",
        "outputId": "02c6ce8e-b711-4b09-aff1-fc8bcf60440c"
      },
      "execution_count": 193,
      "outputs": [
        {
          "output_type": "execute_result",
          "data": {
            "text/plain": [
              "2692"
            ]
          },
          "metadata": {},
          "execution_count": 193
        }
      ]
    },
    {
      "cell_type": "code",
      "source": [
        "Recomedation_score=list(enumerate(Similarity_Score[index_of_Close_movie_match]))"
      ],
      "metadata": {
        "id": "IS20nLgqyzTs"
      },
      "execution_count": 194,
      "outputs": []
    },
    {
      "cell_type": "markdown",
      "source": [
        "# **Get All movies based on recommendation score**"
      ],
      "metadata": {
        "id": "QchBxynKzOjB"
      }
    },
    {
      "cell_type": "code",
      "source": [
        "#sorting according to Recomedation_score\n",
        "Sorted_Similar_Movies=sorted(Recomedation_score,key=lambda x:x[1], reverse=True)\n",
        "print(Sorted_Similar_Movies)"
      ],
      "metadata": {
        "colab": {
          "base_uri": "https://localhost:8080/"
        },
        "id": "onBlzEp-vsMz",
        "outputId": "057237a7-5407-4f3d-dfbe-533bc1a981fa"
      },
      "execution_count": 195,
      "outputs": [
        {
          "output_type": "stream",
          "name": "stdout",
          "text": [
            "[(2692, 1.0000000000000002), (3779, 0.09440231351446374), (1383, 0.08108052971364803), (1994, 0.08093334716271879), (110, 0.08035361554129483), (628, 0.07809187768640077), (3053, 0.07767698449186974), (1341, 0.07713539116178102), (2558, 0.0770500564526767), (1977, 0.07377965580050312), (3248, 0.0727155505912401), (3480, 0.07062648641793713), (2538, 0.06864657606703727), (62, 0.06722224274321834), (1886, 0.06702840459734283), (1118, 0.0621953453949175), (254, 0.061235210887638364), (2903, 0.06114546097108128), (3450, 0.05901866073186422), (1021, 0.05876122087407043), (2318, 0.05865676075218296), (2112, 0.05812222947002343), (4062, 0.05778037548037817), (4614, 0.056972394183737174), (2026, 0.056806773991091304), (3655, 0.05612467397680783), (3728, 0.05590093819188474), (1134, 0.0548383796163456), (3385, 0.054188367775122745), (2358, 0.05361354684422674), (4398, 0.05322916360612798), (4375, 0.05315646266139523), (4389, 0.05304878401774515), (1243, 0.05275389534404484), (3946, 0.05258285401956007), (873, 0.05159554291249377), (3334, 0.051370148727131415), (2214, 0.05115912502883859), (227, 0.051148532197544304), (4268, 0.050664285128138475), (137, 0.049009757195971705), (292, 0.048847711136728506), (2294, 0.04860744979644352), (1809, 0.04795823589170596), (1878, 0.04787956137468854), (4682, 0.04784898358126611), (1023, 0.04758555066571236), (213, 0.04754618540508004), (2133, 0.047420516100227725), (2550, 0.047404461696067234), (2579, 0.04734940266822132), (2944, 0.04731928058120873), (3518, 0.04730654862366623), (3203, 0.04720358861558916), (1821, 0.04711595432083653), (2191, 0.04708390605376101), (45, 0.0470703663768386), (3395, 0.04683475713285186), (3552, 0.04659257307580619), (3294, 0.04649945550192773), (877, 0.046277004870162515), (1070, 0.04620353566149355), (3973, 0.04617055055417257), (3753, 0.04615418753585781), (2653, 0.04600884146838706), (1030, 0.04587217043846245), (519, 0.04560580101328833), (4456, 0.04540061939711265), (408, 0.04522754345982792), (328, 0.04506556500350593), (2893, 0.04490160320792988), (2694, 0.044811318239229965), (3091, 0.04416423941250544), (2417, 0.044006419348021984), (3276, 0.043425907672904364), (2530, 0.04340645875974902), (4023, 0.043320933641104925), (2630, 0.04329284514454048), (479, 0.043270286699201785), (3408, 0.04322025590403752), (3023, 0.04307170457149963), (161, 0.04306946716657082), (3249, 0.04301700050341547), (904, 0.042448866637297356), (1320, 0.04241888818313774), (2374, 0.04229750449965933), (1850, 0.04201967882348475), (2248, 0.041775474075138236), (412, 0.04167382606345866), (615, 0.04166455775238519), (1358, 0.041161154977983144), (1248, 0.04112184371302263), (1647, 0.04111441469131054), (1871, 0.040971811756691685), (2375, 0.04096456004069153), (1506, 0.0408812327693746), (172, 0.04085851282356298), (67, 0.04075989390487987), (3427, 0.04061617693429827), (2859, 0.040283044493113436), (1311, 0.03994445181715796), (438, 0.03986025141197678), (3209, 0.039859831926334986), (4064, 0.03983740211271973), (2869, 0.0397582178855734), (637, 0.039695744227551184), (830, 0.03969166001831622), (185, 0.03931640496905941), (682, 0.039128206864561955), (4588, 0.03906996316231166), (1292, 0.039007343891442225), (3867, 0.03872465987124147), (4137, 0.03868924802491242), (1241, 0.03858737902535038), (210, 0.038540046949708716), (3955, 0.038534250350479464), (2321, 0.03844432391788758), (1675, 0.03843787403923184), (2212, 0.038425996869303085), (3793, 0.03803592514155819), (4739, 0.03794535140316867), (3947, 0.03783406197481657), (2122, 0.0377867637088494), (1527, 0.03775000373876233), (774, 0.037480227408738756), (3511, 0.03730629352872002), (2716, 0.03727558658894127), (1085, 0.037211844440657546), (1369, 0.03711374593783579), (89, 0.03704587077335652), (3362, 0.03663393248182135), (1676, 0.036601044824711125), (4452, 0.03657823868639323), (108, 0.03655747504282087), (387, 0.03648706278838058), (3652, 0.036486288693232755), (788, 0.03645640171119754), (2316, 0.03642991933653458), (710, 0.036385937582811494), (44, 0.0361972611107407), (2082, 0.03588066313935053), (4488, 0.03543268504195381), (578, 0.03527843612047497), (3004, 0.035277309062991404), (2012, 0.03522630955319017), (3351, 0.03520682681554151), (1024, 0.03516087433900552), (3983, 0.03515966673513137), (2371, 0.03514930938212437), (818, 0.035086115211611285), (1393, 0.03501110802731696), (2123, 0.0349854954561661), (2540, 0.034931319684471905), (3731, 0.0347825873391205), (721, 0.034782293752390045), (4594, 0.034678360390721294), (3315, 0.03458538474803405), (4727, 0.034578932855655976), (1702, 0.034575763350412604), (1389, 0.03435138804340642), (3463, 0.034167028944791095), (174, 0.034023329847174454), (1379, 0.03395290167218375), (4152, 0.03389517884020139), (3486, 0.033605646293817105), (2365, 0.03356565348646428), (2868, 0.033544925737146805), (2706, 0.033453911970236484), (2014, 0.033411619407675876), (3102, 0.033328642815835446), (3255, 0.033112629933875155), (1885, 0.033110268094465344), (632, 0.03307170804117239), (1982, 0.03286713854003185), (4378, 0.032825942403715315), (2622, 0.0326773542775973), (694, 0.032575501399331803), (126, 0.03251236675892719), (4443, 0.0325082146049008), (3498, 0.0324950948448873), (1195, 0.032446024528483094), (3430, 0.032249254185907426), (166, 0.032205762610743746), (1837, 0.032153405271244224), (3146, 0.032038596867936135), (4721, 0.03194841956644238), (4165, 0.03191753407107077), (1750, 0.03185611554098235), (4195, 0.031685305053450186), (65, 0.03168370545708423), (2981, 0.03157163932539141), (2782, 0.0315301636573925), (4005, 0.0314358931773815), (4035, 0.031415929219830524), (935, 0.03136451654624788), (903, 0.03128813867344609), (3572, 0.031247312401590108), (2807, 0.031173512425566947), (540, 0.031099940531624248), (1398, 0.03109476449113445), (179, 0.03096632179397841), (1063, 0.030942968183387848), (812, 0.030899931164823587), (3280, 0.030753280169020902), (2517, 0.0306237559802233), (4668, 0.030597309905085343), (618, 0.030585324416095922), (1464, 0.0304290422813626), (4141, 0.03028818904653788), (1568, 0.030278144305647816), (1868, 0.030154198679563808), (1648, 0.030092113235599044), (1146, 0.03008809359716644), (2100, 0.029989359133201686), (430, 0.029844622612206006), (2198, 0.02982329213130573), (1795, 0.029802835176594676), (1367, 0.029715875915342378), (2887, 0.029497085210359233), (3556, 0.02943299028279619), (4533, 0.029408936540731692), (1272, 0.029340436874264766), (1482, 0.029314651172805104), (3656, 0.029298035225209115), (1405, 0.029180367282786758), (4177, 0.029159665590700413), (2710, 0.02913840358185768), (2102, 0.028940142869406743), (2876, 0.028921040261094617), (2114, 0.02882442825589479), (421, 0.02876877618659392), (2751, 0.028759091133812274), (3470, 0.02875794623933804), (3313, 0.028748699826671047), (2723, 0.028691954801822392), (3904, 0.02868601525946299), (465, 0.028665754575346335), (4602, 0.028659619071785616), (1068, 0.02864415030052945), (3376, 0.028634478742241648), (836, 0.028597422627834893), (2687, 0.028567579456874933), (3017, 0.028313784115274486), (1046, 0.028304455892629327), (3420, 0.0282604033918957), (1095, 0.028223630428352284), (193, 0.028151043868770077), (911, 0.028080298912635086), (761, 0.028025568095183813), (3377, 0.027988869433686666), (25, 0.027939522994965518), (3127, 0.027913542701211835), (3574, 0.027766169678253714), (2920, 0.027739405377749507), (2467, 0.027561470484108817), (384, 0.027436480546050426), (4703, 0.02742916850970511), (2443, 0.02721581018742627), (3157, 0.02716241823499564), (282, 0.027053770178404456), (1763, 0.026963998162576726), (2908, 0.02672910522955803), (176, 0.026687744876650127), (3871, 0.026638641547337274), (2020, 0.02661840206283314), (112, 0.026563255114880654), (4402, 0.02652778062546984), (2413, 0.026476046454785837), (381, 0.026368978613495995), (424, 0.026353255402127698), (3850, 0.02634046223902975), (3868, 0.026337322426259715), (629, 0.026323480180582524), (4242, 0.02628324668691914), (459, 0.02627650637838296), (4590, 0.02615268763199216), (3835, 0.026138966836795466), (593, 0.026052189250866786), (3447, 0.026041604812438803), (3428, 0.02601266205537336), (3751, 0.026006556476037022), (1999, 0.025990113812883475), (1720, 0.025976751162171224), (2762, 0.025961322108389247), (2037, 0.025874014306395094), (3720, 0.02574643584351684), (824, 0.025742224031651495), (3961, 0.02572752486650562), (2481, 0.02566391626781788), (1186, 0.02565728407186085), (2023, 0.025631881927111792), (530, 0.02561501472555646), (250, 0.02560739156471688), (1043, 0.025511933463098296), (3559, 0.025421597369772092), (1544, 0.025350762016192893), (1976, 0.025339019332283053), (3154, 0.025264766520332743), (2791, 0.025235485065701245), (2221, 0.025188489940912696), (84, 0.025031349829430335), (4128, 0.024967952741146295), (2011, 0.024923940227500174), (2484, 0.02491677627763601), (515, 0.024915500603860233), (1283, 0.02478742215964932), (864, 0.02478652437124189), (3045, 0.0247776798205614), (2157, 0.024731283876126574), (1059, 0.024718332244908516), (3260, 0.02467983655159324), (269, 0.024645391339098998), (4450, 0.024606956053708114), (1585, 0.024559284121276444), (2487, 0.024557726117272274), (3913, 0.024485895158688768), (109, 0.024449822022175667), (976, 0.024423062860563227), (2560, 0.02430528807559338), (4548, 0.024279006208788343), (3488, 0.02426510851525421), (672, 0.024061115267758497), (2718, 0.02399487899537314), (4684, 0.023930255695142892), (3156, 0.02391945097614729), (2449, 0.02391727262270429), (1990, 0.023882122731251447), (4004, 0.023796735150991677), (2013, 0.023711521200670365), (240, 0.023653829619337215), (1500, 0.02357127708103117), (398, 0.023534098534564913), (952, 0.023529584183344922), (284, 0.023482698573966156), (3167, 0.023473495794896406), (2649, 0.023454706747988722), (1970, 0.02342110563053338), (1788, 0.02339792847658452), (3285, 0.0233274925409526), (3344, 0.02324046402499527), (1757, 0.02318172540474782), (1845, 0.023163424225251063), (613, 0.023153629037449698), (3852, 0.023120683494495455), (4104, 0.022970552816405865), (371, 0.022874261231075353), (1749, 0.022826975392277852), (885, 0.022806636053241316), (124, 0.02270606179320575), (3839, 0.022645391661425346), (15, 0.02263656388537008), (3010, 0.022569557108632312), (138, 0.022540121679694804), (3801, 0.022519636797051212), (942, 0.02236965301303623), (2055, 0.022360669161973455), (3083, 0.02231842238985181), (1935, 0.022273825919545555), (670, 0.022223632693515006), (2971, 0.022136057553370742), (1314, 0.0221303062694549), (4701, 0.022064789106682574), (68, 0.022058556165503614), (3778, 0.021918481781417233), (4016, 0.021883591246609373), (1505, 0.02188011375459265), (1351, 0.021841230679769202), (4731, 0.021824124863773657), (3319, 0.02166448841485427), (383, 0.021629198685336207), (4554, 0.021611034403752498), (917, 0.021604380634823925), (3345, 0.02153946228758776), (1397, 0.02152343431995015), (832, 0.02145098102665373), (3923, 0.021419522409068876), (2767, 0.021317276674612508), (3711, 0.0213161019249623), (566, 0.02131426873144731), (2638, 0.021305160749678434), (3927, 0.021290386046732362), (4283, 0.021289630428714658), (4608, 0.021279050666599793), (3492, 0.021278279079508647), (2362, 0.021143741108396397), (2621, 0.021140927372271284), (2646, 0.021096430555956093), (1515, 0.021023056542550253), (334, 0.021008797983956252), (1707, 0.020997821713221933), (706, 0.020991147797160947), (1652, 0.020983336257400183), (455, 0.020977444025727647), (1492, 0.020894728493037105), (1671, 0.020635943739820382), (2301, 0.02062511793823492), (2995, 0.020619017721438766), (175, 0.02059486605200673), (1261, 0.020539144033680703), (967, 0.020383439969852195), (3222, 0.020355045938448627), (116, 0.020319575440421542), (3352, 0.020308183927563263), (2210, 0.02026158238022123), (4382, 0.0202537387842447), (4007, 0.020237673226167707), (858, 0.020223964869611696), (1141, 0.020186580786066985), (330, 0.020104005856787018), (1861, 0.020099080664288872), (3692, 0.02009632697243019), (1132, 0.019857833374389122), (2040, 0.01985644726183218), (1052, 0.019851899541114694), (763, 0.019850981863873185), (691, 0.019850125576903747), (795, 0.019821750149583484), (1412, 0.019819215440042823), (2018, 0.019702353757794954), (1173, 0.019651355968634363), (590, 0.019634766097264778), (2469, 0.019600252184028232), (3469, 0.019374216794371544), (1865, 0.019371405602304523), (4156, 0.019341652451763103), (2867, 0.01934033368412614), (2582, 0.019300911948326283), (204, 0.019292208861729037), (3153, 0.019219669012017167), (33, 0.01910898271331572), (364, 0.019096485184254802), (1137, 0.018991835139061844), (3483, 0.018980360339846642), (1942, 0.018980131933594494), (657, 0.0189746022603155), (3144, 0.01889673708913586), (3553, 0.018868080074360083), (2841, 0.01881180554346429), (1471, 0.01879599299890575), (1985, 0.01873497728761332), (3111, 0.018721110002297255), (2745, 0.01871899557298654), (3934, 0.018641999816764374), (2647, 0.018641105645279002), (2237, 0.01863463601726882), (3810, 0.01863328701352788), (4440, 0.018631441241142372), (1175, 0.018631229441842544), (3036, 0.018630977647659197), (4395, 0.018566150806831033), (4492, 0.018526368601326143), (2689, 0.018520952782920125), (1629, 0.018500521936585884), (4053, 0.01843695750042055), (3471, 0.018383377401232623), (3875, 0.01836548730861985), (1365, 0.018339584372193136), (796, 0.018296864702303507), (2760, 0.018247423094228776), (3403, 0.01823842645349948), (123, 0.018184249624602064), (4149, 0.018175674265706335), (2808, 0.01817562877614215), (2035, 0.01815718288823756), (2368, 0.01815643373750843), (1847, 0.018134469230235546), (553, 0.018103970384891217), (442, 0.01809259723024512), (1245, 0.018087097221893892), (3433, 0.017995804416104835), (4189, 0.01797222538608976), (3446, 0.017962406416467788), (4028, 0.017955062988773432), (61, 0.01791994134973393), (870, 0.017914523284959766), (2553, 0.01789654140610509), (85, 0.017813832958166992), (2777, 0.01780070159771594), (643, 0.017617851567063185), (1033, 0.017605793340026203), (1385, 0.01759551103868485), (2513, 0.01756004036302077), (768, 0.017559951135685634), (3504, 0.017554832898599312), (4658, 0.01754643553045701), (1386, 0.01753546113844113), (2712, 0.017464912636961955), (4321, 0.01743887162938271), (4012, 0.01743220807523915), (2167, 0.017423779590734167), (2149, 0.017416140169178196), (2347, 0.017393789134229044), (4176, 0.017356540822643946), (261, 0.017351599181171934), (1403, 0.01734502366034785), (2598, 0.01732811792938559), (3665, 0.017320186792580173), (2823, 0.017294826746111974), (2885, 0.017287509414027173), (4088, 0.01727063943745672), (4380, 0.01722453092504846), (947, 0.01721708286849729), (4281, 0.017216791379284488), (218, 0.0171259790936604), (2768, 0.01711572241956545), (1274, 0.017107549250900078), (3978, 0.017047695725953802), (2607, 0.017018188394194715), (181, 0.017005720279122054), (669, 0.016994058020813142), (145, 0.016979896260667218), (757, 0.016975805446734583), (638, 0.016965468255999663), (4534, 0.016939678844147276), (4617, 0.016841861082064737), (409, 0.016826374831843918), (551, 0.01679866925015093), (3119, 0.016791101473393244), (199, 0.016764831567606008), (2931, 0.016756777988263874), (2932, 0.016755267515943795), (1216, 0.016732503864439415), (345, 0.01670122011487382), (4050, 0.01668757935991747), (106, 0.016667993705588604), (3976, 0.016602139436183022), (3528, 0.016576211291568416), (1609, 0.016544335160366505), (776, 0.016492723720133683), (147, 0.016461407512254184), (794, 0.016458088406144593), (1579, 0.016431390514735182), (929, 0.01640390750656678), (4246, 0.01640104538018813), (4288, 0.016387842652303836), (3895, 0.016355538269164114), (1270, 0.016315726532496657), (1996, 0.01631235744208673), (251, 0.016288017234120683), (1003, 0.016277584512550874), (1817, 0.016251656333233423), (867, 0.016197069675892958), (677, 0.01618755129113734), (3541, 0.016164989971497255), (3857, 0.016113083011173295), (2027, 0.015964840894313704), (3098, 0.015954419519457214), (3462, 0.01592750103303393), (4679, 0.015908287283396497), (4436, 0.015907320378390013), (2258, 0.015881738518273562), (1257, 0.0158803797165643), (2654, 0.015873673065936015), (2161, 0.015859376526092758), (437, 0.015827932439126387), (2645, 0.015808660542713834), (1377, 0.01578056309816151), (343, 0.015734940373919093), (2795, 0.01573137349078201), (1872, 0.015721984295570986), (1202, 0.0157097364203098), (3306, 0.015701951086450065), (547, 0.015676904714012486), (2070, 0.01566362545487712), (374, 0.01565849478864544), (779, 0.015649902235929197), (1838, 0.01563268633149731), (358, 0.015631139378592264), (1445, 0.015618170964334073), (2353, 0.015601538469830709), (787, 0.015600043783134896), (3095, 0.015571199512867806), (3558, 0.015568131938798552), (1510, 0.015566781293660742), (1572, 0.015541235549446641), (4610, 0.015535382734933406), (209, 0.015528326444110233), (2650, 0.015521735541728386), (4469, 0.015506097964992211), (1116, 0.015454949083862789), (1361, 0.015398723500527496), (3828, 0.015372476293802279), (1045, 0.015280394294542806), (3766, 0.015268326338043932), (3684, 0.0152067295352636), (3000, 0.01517927361139916), (1682, 0.01516965236575783), (4637, 0.015163661483702006), (4724, 0.015152115275470909), (1512, 0.015121122360750196), (4466, 0.015104378174754374), (4403, 0.015089459401420912), (586, 0.015069747458333612), (4583, 0.015063756417688234), (1523, 0.015058014112821193), (83, 0.015046552666188383), (3284, 0.01504506428910008), (4349, 0.015031545736157044), (3275, 0.015025904727002676), (4314, 0.015016926562114305), (1759, 0.015011132721270755), (3375, 0.01499845239394825), (2290, 0.014962352686371395), (1945, 0.014950418722824746), (934, 0.014940455354296715), (3226, 0.014876457482397274), (3597, 0.014855464490880363), (4081, 0.014850461596548464), (1880, 0.014840331926833431), (3675, 0.014830379834156063), (510, 0.014819487143258214), (3958, 0.014796603241164177), (1927, 0.014780231745086272), (2276, 0.014773912086392331), (2440, 0.01476761945861489), (252, 0.014756017058225584), (2376, 0.014754637735523733), (4504, 0.014748874610377811), (4619, 0.01474474049190972), (968, 0.014743706709770994), (1112, 0.0147377331260028), (1064, 0.014713296695937753), (1906, 0.014711278768531396), (2639, 0.014701427585471062), (1128, 0.014685670692201436), (3580, 0.014659648952656782), (1053, 0.014658035190476908), (957, 0.014654296849601496), (2298, 0.01462147645406134), (1741, 0.01456179291659295), (2618, 0.014556762275280072), (2406, 0.014553028302761284), (1074, 0.014535000742365509), (1417, 0.014518683485041907), (3253, 0.014510804086521037), (1278, 0.014481044195477695), (4735, 0.01447685022121506), (3019, 0.014469873876142191), (3295, 0.014457115663900308), (4482, 0.014431298059228586), (684, 0.0143753045605646), (144, 0.014347040334807378), (2229, 0.014335124409762028), (3360, 0.014297337724510077), (222, 0.014295462699543744), (1843, 0.014290405845253262), (2644, 0.014289265786858204), (287, 0.014280029649542322), (937, 0.014233381294625999), (808, 0.01423199133248264), (203, 0.014226538080268886), (1774, 0.014204941193682027), (833, 0.014191700762578627), (4399, 0.014151700822448562), (496, 0.01411911690148553), (3883, 0.014105126359083241), (860, 0.01404743096685105), (4293, 0.014038021115282885), (1895, 0.01401512577948896), (3328, 0.013993117042147207), (7, 0.013972848745648185), (3466, 0.01396526614916415), (46, 0.013940836046437621), (1152, 0.013920204582732342), (3992, 0.013917282024987366), (3853, 0.013916069497355453), (1331, 0.013905467352742111), (2346, 0.013899668350177934), (2110, 0.013896359758506484), (4048, 0.013851502681454176), (2119, 0.01381306282436681), (3861, 0.013811772107854102), (458, 0.013801728807405565), (2969, 0.013798670079285804), (1184, 0.013788783038724165), (21, 0.013750993043777852), (1162, 0.01375000635544907), (160, 0.013692923967295536), (2849, 0.013685426151736041), (916, 0.013675743302282349), (3356, 0.013672394438114565), (2742, 0.013635276690898725), (3630, 0.013628276133579857), (2366, 0.013627024195979496), (3984, 0.01362131324848383), (701, 0.013598510385744628), (1275, 0.013591922851581385), (4627, 0.013571833859044154), (1384, 0.013539115230952166), (874, 0.013526870107532028), (533, 0.013505681615029071), (2874, 0.013502152409523242), (1119, 0.01344771694080283), (48, 0.013424759784223004), (3043, 0.013399801426642443), (4722, 0.013328913332103946), (2097, 0.013323948447422514), (2568, 0.013319175952348286), (1716, 0.01331004669619558), (1997, 0.013285095647901347), (3694, 0.013267393478192488), (75, 0.01323986323622107), (43, 0.013234838056885037), (3924, 0.013229041866414158), (13, 0.013228047834008227), (2000, 0.013204914563062544), (433, 0.013197958211379113), (3862, 0.013185812710242224), (1254, 0.013165653717945239), (4669, 0.013120416614761859), (2522, 0.013092918207006258), (4231, 0.013082221756645508), (609, 0.01307533837257628), (545, 0.013054891485531477), (3750, 0.01305049304762465), (534, 0.013037532942594965), (2805, 0.01303360906442061), (1401, 0.013032488002954463), (896, 0.013019764490177462), (1224, 0.013007856064889278), (450, 0.012998147221129503), (3959, 0.012989518933959474), (3210, 0.012986079288646469), (2474, 0.012970039797149138), (2917, 0.01296368750900114), (3279, 0.012954384432386858), (407, 0.012944987498019892), (2460, 0.012938011685166801), (1853, 0.012921744944323105), (3437, 0.012915892962560384), (2016, 0.012909746387519306), (231, 0.012902641775237323), (2334, 0.012892805031565516), (3374, 0.012890343927084639), (3129, 0.012889248438306473), (1018, 0.012877938984738688), (2053, 0.012870682394992247), (2177, 0.01286131397528521), (1443, 0.012852255267122725), (4551, 0.012843322697394929), (584, 0.012823715590762091), (3421, 0.012821783153687413), (3612, 0.01281380175595925), (3777, 0.012810437080084227), (3086, 0.012805870171660443), (2996, 0.012782762452313853), (1802, 0.012770045328773011), (4379, 0.012767847892518554), (879, 0.012767670150777212), (429, 0.012766847505940418), (86, 0.012763439015712731), (986, 0.012704531839388928), (2919, 0.012685417165414544), (2254, 0.012660611087756218), (296, 0.012660491151166034), (543, 0.012636576874713413), (51, 0.012621559075086768), (120, 0.012614614621102622), (1342, 0.012606583485469783), (906, 0.012602360042893277), (2910, 0.012598709387290503), (1239, 0.012598288763197338), (814, 0.012594973206320843), (692, 0.012574519280752008), (622, 0.012556331711167695), (3213, 0.012556206502919436), (3508, 0.012508800392063816), (1317, 0.012498013714142341), (88, 0.012428670487286719), (452, 0.012427764585588707), (1232, 0.012416752153280856), (502, 0.012398330264336926), (2489, 0.012394307480955182), (3299, 0.012360437178619902), (87, 0.012359473831108294), (1129, 0.012346515104685042), (2295, 0.012345241141281863), (1967, 0.012316997384788116), (270, 0.012301985704209832), (2934, 0.012296088204021099), (1919, 0.012286956453967756), (3297, 0.012285571409785133), (1252, 0.012281097273756912), (1376, 0.012279328120492329), (1721, 0.012261114811927779), (3949, 0.012257279832846458), (2695, 0.012251835116353024), (1752, 0.012231275530080793), (2154, 0.012225788357694507), (2784, 0.012157389491769408), (1334, 0.012152245973643816), (3142, 0.012148515371388157), (2961, 0.01214672119301487), (5, 0.012140830391025932), (806, 0.01211832909320501), (1621, 0.012106790762714226), (1293, 0.012102788280375601), (4068, 0.0121027094918406), (1035, 0.012097398097699674), (2052, 0.012082076173607004), (1655, 0.012072513167805759), (329, 0.012069364950252884), (370, 0.012056121429600958), (1160, 0.012029632753340094), (4503, 0.012017333443346993), (2024, 0.012017285629385366), (1988, 0.012000523985942506), (1337, 0.011969868717915891), (620, 0.011945413473972199), (2279, 0.011945204145448463), (1654, 0.011940378491794284), (799, 0.011930791652293734), (1493, 0.011908789978603975), (2250, 0.011907242179966958), (2216, 0.011881761429211213), (3293, 0.011856378048521124), (3228, 0.011849932801342698), (2275, 0.01184523691157161), (4387, 0.011835189760896618), (988, 0.011813295940349439), (989, 0.011780076719974383), (2886, 0.011757473512263607), (3171, 0.01173964388144301), (4673, 0.011738543472796324), (2512, 0.011716774234879978), (4475, 0.011714939480670683), (676, 0.011698497889194928), (1787, 0.011691988015642819), (4032, 0.011672401487070778), (878, 0.011650469225406175), (3094, 0.011643264886427435), (1310, 0.011642017776260642), (1665, 0.011641185018902721), (895, 0.011617942769001889), (1360, 0.011597435613422177), (899, 0.011593150265315951), (4192, 0.011582880654449845), (1714, 0.011581057436724511), (1183, 0.011577371885991249), (2005, 0.01157322948035962), (4709, 0.011557966838402307), (276, 0.011555753930965923), (511, 0.011551901685766846), (866, 0.011542161723193922), (52, 0.011535000901588256), (1114, 0.0115318250294459), (648, 0.011531222179650653), (1157, 0.011522375186541442), (2145, 0.011510553676116626), (4502, 0.01146924870987115), (853, 0.011465720248947903), (4374, 0.01142900300608372), (236, 0.011417717294298427), (3370, 0.01141118596607353), (2769, 0.011402034261610527), (2740, 0.011401943077655623), (434, 0.011399654845209797), (1658, 0.011328559808875274), (3903, 0.011323394594247351), (3524, 0.011322972644519641), (3854, 0.011310169229353123), (2224, 0.011291792053153397), (130, 0.011278177152000225), (1870, 0.01126355018400557), (2915, 0.011212718422536922), (1249, 0.011203516991216323), (4203, 0.011199413265809817), (2051, 0.011176688490143107), (1739, 0.011160010908996362), (317, 0.011146683805535119), (1000, 0.01113507396443399), (1595, 0.011117552510728209), (2116, 0.011107689942849146), (847, 0.011078183095125422), (2049, 0.01106735506346039), (2363, 0.011034507662048812), (1465, 0.010995810392505348), (208, 0.010993401583066774), (149, 0.010973213857245943), (2688, 0.010967563975795808), (538, 0.010964748666782369), (3797, 0.010939789051725848), (762, 0.01091156384044592), (3637, 0.010899393947248415), (2436, 0.01089852413527249), (0, 0.010877329233707652), (1090, 0.010875293249699566), (4596, 0.010868080313071009), (1237, 0.010837582500262177), (1971, 0.010825754267650825), (1290, 0.010815684089714313), (2602, 0.010790542918280549), (1050, 0.010785168419362416), (1798, 0.010773374785405007), (4122, 0.010755196585743745), (1387, 0.010753591016481105), (2065, 0.010739679788543195), (1897, 0.010737196466043791), (3999, 0.010713439654250926), (653, 0.010692270706255315), (3218, 0.010688847310702285), (816, 0.010620603355197593), (1685, 0.01061288388186359), (57, 0.010606334960773388), (733, 0.010600821528069067), (1957, 0.010571596933768898), (3822, 0.010569067161280346), (3919, 0.010556082344493204), (2096, 0.010552371016929542), (342, 0.010549359261662573), (948, 0.010547940790851569), (2633, 0.010527822611628318), (2601, 0.010524639023518908), (4371, 0.01052224373902819), (2412, 0.010483903292085131), (1951, 0.01046704423625831), (555, 0.01045827831875269), (2447, 0.010456551747317968), (2581, 0.010448478050912886), (472, 0.010433960139390885), (2939, 0.010412109719267386), (470, 0.010408879651493702), (1876, 0.01038132978978824), (1382, 0.010376901852747172), (4095, 0.010367792244256265), (2798, 0.010350492015333286), (3667, 0.010337757409576355), (2277, 0.010326486532059139), (2988, 0.01032324362964928), (844, 0.010285931846195563), (2494, 0.010281999375201842), (1619, 0.010278514314165661), (1006, 0.01027587988561368), (3643, 0.010265755985053478), (3386, 0.01026354006339635), (3756, 0.010260080211242988), (1475, 0.010257064714540635), (482, 0.010248189366666759), (1015, 0.01024712897080892), (4336, 0.010225014134168481), (3945, 0.01021946501038857), (3708, 0.010213943454857157), (3535, 0.010212906330939946), (1058, 0.010207039353618058), (3741, 0.010196773506663277), (2468, 0.010190800180627664), (3689, 0.010185460500320008), (4707, 0.010153584860223693), (842, 0.010149966913802341), (1779, 0.010148581277969337), (1413, 0.010145261506948902), (173, 0.010143059898477323), (4025, 0.010141605034893995), (2524, 0.01013486888054415), (2668, 0.010128490587256766), (2744, 0.010119270602039952), (3645, 0.01010138612930849), (527, 0.01007572081826325), (1343, 0.010062565647142648), (760, 0.010061879714297112), (2977, 0.010061153996248965), (1182, 0.010058091460724974), (3317, 0.010049352028635983), (1192, 0.010036037258710148), (2144, 0.010026710162669034), (406, 0.010020496854607546), (2727, 0.010007763712992815), (897, 0.010000015304777442), (464, 0.009997996393822166), (4255, 0.00999300900769389), (2632, 0.00998827645620673), (2831, 0.00998111264859379), (697, 0.009979259241565713), (1020, 0.009978921322508702), (2155, 0.009978290062392998), (280, 0.009958462823788601), (1077, 0.009947325246970529), (2464, 0.009933206601221283), (4747, 0.009928065163322793), (82, 0.009924162874216238), (1075, 0.009908289780245105), (2812, 0.009907723818637833), (3346, 0.009904419031038319), (1678, 0.009899638357430768), (2925, 0.00989343689239356), (1017, 0.009892681047366132), (2486, 0.009883289456408047), (3067, 0.009871617293449179), (461, 0.009869634809795027), (4603, 0.009868297219587367), (775, 0.009862544956220756), (3312, 0.009858701645396567), (1418, 0.009851783729931288), (19, 0.009850137294584286), (850, 0.009840156612268506), (1806, 0.009836886644636738), (353, 0.009834173446348455), (2045, 0.009832995509409187), (1730, 0.009831953597231068), (368, 0.009829563829382175), (3453, 0.009824935246243201), (2087, 0.00981386793031631), (1815, 0.009810421088996714), (2008, 0.009786904135342389), (4511, 0.009785977505904053), (905, 0.009776948507474225), (2980, 0.00977243218090702), (3237, 0.00976583053237151), (104, 0.009748956377020508), (2121, 0.009736605088484125), (3784, 0.009720542278548835), (1019, 0.009709969590137695), (1148, 0.009695395585782), (3151, 0.00969252733833694), (79, 0.009691347007543363), (2174, 0.00968907837629014), (753, 0.009681917937776873), (1591, 0.009681766729312249), (2698, 0.009664975263274093), (966, 0.009662917720377275), (4121, 0.009648738040510956), (1710, 0.009630512262721175), (4465, 0.009623324793285863), (2103, 0.009622691916745443), (207, 0.009618932514647932), (4118, 0.009618866101339886), (1674, 0.009613212354843578), (4512, 0.00960213149552269), (689, 0.009596969948247928), (29, 0.00958593388322802), (651, 0.009581646981541245), (962, 0.00956854398627328), (119, 0.009563315038782707), (4335, 0.009561033880840102), (1371, 0.009559300073341794), (224, 0.00955904573132985), (838, 0.009557850004291976), (1446, 0.009555521105367426), (197, 0.009552093346018711), (332, 0.009545208928615278), (281, 0.00954095487209733), (2383, 0.009525518126403485), (3407, 0.009521209141902449), (2473, 0.009463132158575936), (4205, 0.009460295003268736), (3826, 0.00944930087557467), (3373, 0.009449146641194759), (385, 0.009448254440169744), (1519, 0.009439919208369058), (1864, 0.009421914824287045), (1754, 0.009394949711332402), (3399, 0.009393081420630918), (356, 0.00939240276722958), (4656, 0.009384902734665615), (3240, 0.009382136470934412), (683, 0.00935936808306342), (1255, 0.009358451357288154), (1220, 0.009355410674009579), (3192, 0.009346553094997326), (1514, 0.009321943973554753), (4257, 0.009309047491278432), (742, 0.009302125833588982), (2143, 0.009294429126733006), (1705, 0.009272968374954832), (4227, 0.009270589551044622), (4531, 0.009264720291430217), (734, 0.009259931804291875), (1206, 0.009258886653914077), (3110, 0.009258064047969012), (1009, 0.009255382339394044), (900, 0.009239283573717623), (963, 0.00923758986449449), (1308, 0.009235274877898658), (162, 0.009226438638036854), (180, 0.009214196430298478), (1858, 0.009213920965606151), (2546, 0.00919966385113921), (2235, 0.009197699123880033), (3954, 0.009196662012875521), (32, 0.009179024409685502), (485, 0.009173467739425095), (1736, 0.009166083506467991), (675, 0.009153282078129843), (3586, 0.009152531734373559), (667, 0.00914911507429343), (2803, 0.009124073292346928), (1432, 0.009120516630611657), (1874, 0.009108767718013144), (3829, 0.009107737760071554), (2978, 0.009101317689771408), (2196, 0.009100935929340184), (2780, 0.009099530086881679), (3659, 0.00909652504905228), (307, 0.009091927148566593), (3259, 0.009082705282950916), (3389, 0.009075559909533862), (2265, 0.009069678325180401), (1388, 0.00906748010304702), (3699, 0.009055058785216012), (1727, 0.00904921733596992), (418, 0.009049042565924748), (428, 0.00904058248363368), (2739, 0.009027397080904633), (183, 0.009027348514985153), (1477, 0.00902013346004797), (1735, 0.009019245083841252), (1875, 0.009015998488609678), (4233, 0.009003147232270515), (2126, 0.008990682291529266), (544, 0.008980762043428075), (3634, 0.008969462296072973), (1125, 0.008969299740352547), (1832, 0.008965151323631085), (4557, 0.008954302982039699), (4134, 0.008952433603657446), (4510, 0.008949700156903422), (4435, 0.008936034442878937), (1948, 0.008932255127824034), (201, 0.008928277255667645), (1690, 0.008925669847288594), (1234, 0.008924337853422337), (3245, 0.008921166126900089), (936, 0.008915851127906339), (1539, 0.008912977887109111), (3767, 0.008908520428851225), (4474, 0.008904797098909664), (3880, 0.008903076428856512), (463, 0.008898225575858714), (1762, 0.008893957235000128), (1920, 0.008893240889080297), (654, 0.008892568651706593), (542, 0.008892488041454023), (3642, 0.00888385179225374), (1934, 0.008866858676684915), (908, 0.008846755064640274), (1949, 0.008845075861500715), (1339, 0.00884096500269647), (918, 0.008834696061171625), (3018, 0.008827474475484652), (3382, 0.008814593344908759), (3579, 0.008811360477966261), (1764, 0.008807925361717622), (1136, 0.00880763492840857), (2444, 0.00880400228761151), (800, 0.008790063380146684), (1185, 0.008789213944980183), (244, 0.008772134075033631), (705, 0.008766352967612927), (931, 0.008765486529388206), (3108, 0.008762932169265538), (994, 0.008762154746313918), (3155, 0.008737120319634221), (483, 0.008721436709737978), (3670, 0.008720791728674725), (1922, 0.008711635742855455), (2933, 0.008706893221285907), (1436, 0.008696870561263002), (242, 0.00869532526337489), (2975, 0.008692747123444922), (3065, 0.008688685414495837), (1542, 0.008684903104495142), (2284, 0.008682005852603637), (1419, 0.00865799964340959), (4000, 0.008654269604696301), (1440, 0.008627546512932073), (4581, 0.008624603520321081), (869, 0.008620000589027626), (447, 0.008602973871628363), (60, 0.008592798029278852), (2080, 0.00858651231130752), (403, 0.008584460009565328), (3096, 0.008566780134039702), (3409, 0.008556651770979223), (360, 0.008551657345618847), (4124, 0.008550734366718804), (1215, 0.008540146978381374), (1455, 0.008527424554970381), (732, 0.00851691764286935), (1406, 0.008489335337534376), (494, 0.008485617116984496), (105, 0.008484100359454546), (3, 0.00847461620988589), (4344, 0.008473400743493868), (2603, 0.00845344642186151), (2211, 0.008442743927303714), (2918, 0.008437250817029639), (4623, 0.008410519380920255), (924, 0.008399738427016336), (2752, 0.008391939875886576), (1937, 0.008389417848635788), (2280, 0.008388895911516245), (4216, 0.008383655028130937), (1743, 0.008372384100294148), (441, 0.00837088376679546), (63, 0.00836550334089875), (3118, 0.008332183440536657), (142, 0.008331971112684465), (3582, 0.008314148182107017), (2897, 0.008310889550190598), (396, 0.008305559116004895), (4235, 0.008304668235020844), (1231, 0.00830206228135581), (2563, 0.008298919117405039), (2206, 0.008289824660508748), (1950, 0.008275986608371722), (719, 0.008265983030036565), (4442, 0.008265839047596786), (4481, 0.008259681348247758), (4060, 0.008234535437726485), (1230, 0.008234009690453289), (843, 0.008221228895640151), (616, 0.00820928485567092), (790, 0.008207810367204351), (828, 0.008161897240940767), (500, 0.008161265423852527), (113, 0.008148350948483596), (3465, 0.008122681825344811), (939, 0.008121295688281814), (827, 0.00811632524583794), (3794, 0.008112832384036458), (915, 0.008103358801801595), (2844, 0.008095336120085252), (3232, 0.00808532883464242), (1992, 0.008082426670743355), (3152, 0.008061837869145843), (1854, 0.008058652320863455), (2871, 0.008055630208036785), (4553, 0.00805212464780305), (156, 0.008045025990736664), (1630, 0.008044015336739093), (309, 0.00803696840662493), (1797, 0.008034565230079449), (4325, 0.008003403208558985), (1061, 0.008002047100290366), (170, 0.007996974463156552), (4182, 0.007982670643318304), (1680, 0.007969282297459065), (3842, 0.007950339693871647), (1776, 0.007949735411009316), (829, 0.007945819905844835), (3993, 0.007942813570820046), (3267, 0.007939232926293296), (3941, 0.007918399762610832), (501, 0.00788251313781128), (3070, 0.007872455289886783), (1236, 0.00785919206850451), (1005, 0.007843906649949776), (271, 0.007840780284517908), (3860, 0.007830211389274176), (3099, 0.007827480218320757), (2306, 0.007820004608126221), (122, 0.00780372368553452), (1747, 0.007799800707092923), (4164, 0.007770114777589801), (285, 0.007758768169034293), (2264, 0.0077566968376652605), (801, 0.007738936640149163), (148, 0.0077326736009515114), (1816, 0.007721163237194636), (4366, 0.007696441441092129), (3418, 0.007679223005835514), (1348, 0.007668715385158988), (695, 0.007659969496797536), (3316, 0.00765324929701833), (266, 0.007628350719572016), (2614, 0.007609842793530992), (125, 0.007582176068991337), (4524, 0.007580489951640701), (333, 0.007578861667218735), (4232, 0.0075748444112852), (641, 0.007538141336281381), (1694, 0.00753330280217019), (3256, 0.007528093191178295), (402, 0.007516179006952916), (2809, 0.007512353939864465), (3951, 0.007443300373773906), (2913, 0.007430797013372357), (582, 0.007424353438242488), (1790, 0.007398450387025224), (4096, 0.007393080061106643), (1115, 0.007356732227029367), (1713, 0.0073466214785613245), (949, 0.0073082799364098455), (3423, 0.0073003454152156975), (2076, 0.007286040340394805), (1708, 0.007281656224434011), (1306, 0.007271027878632647), (2617, 0.007265789245913017), (3661, 0.007264310436504576), (2505, 0.007235294311031256), (3384, 0.007207259490512353), (1014, 0.0071897861810268585), (1300, 0.0071852670184716656), (1069, 0.007166332520299738), (2403, 0.0071370566068806), (2873, 0.007097498221902588), (2936, 0.007085855669129361), (2339, 0.007075716933460529), (40, 0.007069940851842875), (3039, 0.0070642324939490875), (1442, 0.007061403823066028), (283, 0.007044605081999125), (243, 0.007037699002306256), (4719, 0.007032726455184806), (1770, 0.007018875342637737), (2209, 0.007012277069098826), (3008, 0.007004921356172209), (2510, 0.006992711090415416), (1799, 0.006970226889807364), (940, 0.006956719764125799), (435, 0.0069412474506586885), (537, 0.006933460139623471), (1712, 0.006916412169121321), (2101, 0.006904221307187193), (4196, 0.006902650887880833), (2759, 0.006901902123296193), (3515, 0.006897781972969931), (1509, 0.006897566306197167), (2843, 0.006896431803041669), (1486, 0.006884724798800437), (635, 0.00686769472817097), (4226, 0.006855068269504988), (386, 0.00685180045527492), (4605, 0.00685118195165052), (1099, 0.0068392681515073925), (737, 0.006823586496449295), (668, 0.006821907122866137), (3387, 0.006818715771832755), (2418, 0.006809614831634989), (4077, 0.0068041817333995), (1812, 0.006802320135579647), (340, 0.00680134604682406), (1583, 0.006797584772801539), (341, 0.006770119553276815), (2244, 0.006755652721543715), (715, 0.006754397280335583), (4351, 0.006729095394589822), (1841, 0.006728202035275884), (3932, 0.006717112130266495), (1718, 0.006706100221185466), (4061, 0.00670452733196618), (4337, 0.006682444623938295), (3264, 0.006673952464450643), (363, 0.00666252499401596), (4367, 0.006652059748926316), (4052, 0.006650200090385657), (4685, 0.00664814074879107), (369, 0.006646417093485312), (1737, 0.006626769528735869), (2309, 0.006624691112283919), (232, 0.006616067128378216), (2303, 0.006611706774930345), (2545, 0.006608338818491768), (4008, 0.0066071395359784835), (2964, 0.006601149510794499), (2565, 0.006595126237628158), (2816, 0.006565008888992175), (3457, 0.006563486262527307), (3596, 0.006558917036843674), (1266, 0.006554094911109645), (1359, 0.006550730567186026), (778, 0.006550612943335492), (3599, 0.00653952062127018), (131, 0.00653808606363256), (1124, 0.00653536654299387), (4695, 0.00653066276714966), (2708, 0.0065205347824939825), (1407, 0.006520117785119573), (748, 0.006513136252190389), (3747, 0.006512056575006462), (301, 0.006509880180105197), (782, 0.0065043228693033054), (752, 0.006494838082971348), (413, 0.006493683035094923), (3648, 0.006491560225880188), (1688, 0.006475424262751513), (1911, 0.006475148799247178), (3594, 0.006471044716487479), (631, 0.006458529000866919), (2691, 0.006451159716282975), (1172, 0.0064489929382545216), (1250, 0.006438780655146791), (1276, 0.00642913907258027), (2726, 0.006429073877214383), (1094, 0.0064290183770906615), (4486, 0.006428585119568524), (1262, 0.0064282811124150695), (600, 0.0064260215990859515), (1048, 0.00642540431151018), (809, 0.0064237885046911), (1761, 0.006420521849669696), (2732, 0.006420385489656708), (1908, 0.006419762941344715), (4001, 0.006412151913050508), (671, 0.006408458905649936), (1396, 0.0064031188920442555), (1345, 0.00640230524944206), (3733, 0.006399061164928645), (523, 0.006396060672409978), (313, 0.0063939632692398725), (56, 0.006389372892627128), (817, 0.00638089541022606), (3265, 0.006378098126753672), (4210, 0.006370609918509347), (4467, 0.006367551616920043), (1494, 0.006363814089640173), (4261, 0.00635479855790227), (1461, 0.006352461747826251), (1860, 0.006346708757550158), (3632, 0.006346577885230822), (2421, 0.006345136149629372), (2640, 0.0063380273942884695), (1936, 0.006335392619973169), (3536, 0.006334683536613627), (2193, 0.006323138006341602), (2463, 0.0063219277965097815), (921, 0.006313938468834035), (182, 0.006308279810546119), (1773, 0.0062976967480559195), (1501, 0.006296565473455175), (4388, 0.006295955925008668), (1302, 0.006294253085847636), (1873, 0.0062938430435209025), (521, 0.006283474150490403), (1551, 0.0062809555161053), (3033, 0.006278278695511704), (2572, 0.006276296117049065), (1111, 0.006272837334470916), (3288, 0.006262445964526093), (2503, 0.006254988563293277), (3416, 0.006250675958433065), (3926, 0.006247763952344336), (1644, 0.006245468351904847), (1986, 0.006243704237184747), (2109, 0.006242744240865636), (821, 0.006241737027173192), (446, 0.006235441761062777), (2335, 0.006230028053328938), (1612, 0.006221943278783138), (1526, 0.0062165991479285945), (346, 0.006214109727435128), (4303, 0.0062111920338076936), (1238, 0.006206672503726463), (4099, 0.006203280703706243), (3066, 0.006202807189072162), (758, 0.006197755502163406), (273, 0.006196517072598636), (1420, 0.006187908214026264), (834, 0.006186786809207811), (2239, 0.006183591042925673), (1867, 0.006180952501241662), (1226, 0.006180452705626039), (1012, 0.006177617544518397), (1852, 0.006177489949860628), (22, 0.0061768579995566475), (322, 0.006176828894665265), (321, 0.006176142175544856), (1849, 0.006173410670023463), (1087, 0.006171130518969885), (2160, 0.006169123334659216), (3566, 0.006167882549007701), (4738, 0.006163100118360596), (1807, 0.006162076918372165), (1374, 0.006151708398113181), (1696, 0.0061456139267694835), (3998, 0.006144395307350397), (2480, 0.00614077594425221), (1329, 0.006137895704161846), (1692, 0.006121963158375532), (2056, 0.00612082363010573), (2202, 0.006100766806176289), (1552, 0.006096393937968877), (164, 0.006093979439302592), (4236, 0.006093409527089557), (1913, 0.006079096614278808), (568, 0.00607363434221626), (1425, 0.006072141664251107), (3046, 0.006067335272149869), (2095, 0.006056878327286161), (230, 0.006054005502325278), (4217, 0.006040571747568564), (3309, 0.006030615259992596), (4564, 0.006028850962210645), (1096, 0.006019542195339746), (263, 0.006008467652659726), (1307, 0.006002910612340473), (1793, 0.006001200305847776), (4110, 0.005997926819833328), (3426, 0.005993702621625721), (835, 0.0059835124393270295), (300, 0.00598181798379902), (3085, 0.005979200865675583), (4576, 0.005961214655262182), (3246, 0.005952611708826183), (248, 0.005946629724425345), (3864, 0.005945807391228135), (958, 0.005939128200072049), (2935, 0.0059358379580987854), (4272, 0.0059325652874544456), (3909, 0.005931561967717289), (1327, 0.005929518066337133), (2992, 0.005917899152245401), (2062, 0.00591784830904494), (2175, 0.005916449784845166), (9, 0.005916008672549207), (449, 0.005915267677517601), (2291, 0.005902859227670765), (3114, 0.005893954774343307), (2094, 0.00589034339914852), (2680, 0.0058891308150637815), (1664, 0.005889130715283415), (1723, 0.0058885638035387055), (3325, 0.005878315204829885), (1818, 0.005878224675338811), (1267, 0.005876437646675245), (1746, 0.005868593895487244), (1833, 0.005861536152887999), (4571, 0.0058588510142282115), (4009, 0.0058588149293428175), (1662, 0.005853218058640548), (4649, 0.005848527545953222), (468, 0.005839737140914966), (2205, 0.005837432661964933), (35, 0.005830971650978041), (4106, 0.005824289630394916), (4459, 0.005815872982624865), (3825, 0.0058085764802210975), (354, 0.005778509992310311), (766, 0.005775079140902543), (1538, 0.0057612135226654156), (4342, 0.00575923897037219), (1316, 0.005755427555903407), (2236, 0.005752242489973368), (3512, 0.00574904798834407), (2203, 0.005748393180909941), (1903, 0.005739186942647804), (3865, 0.005734630504131544), (1650, 0.005734254819952712), (3244, 0.005731335751833146), (2426, 0.005721650958287121), (4057, 0.005720218680678724), (327, 0.005715483247576873), (3329, 0.005705641897593799), (1715, 0.005699526452746417), (2058, 0.005695581278401143), (583, 0.005694732779775939), (2185, 0.005690199998740318), (1567, 0.0056880391817401696), (2757, 0.005687502979145333), (3598, 0.005683357126966099), (3748, 0.005671275628956928), (664, 0.005669350014390356), (1684, 0.005662018617977983), (3178, 0.005656114408279363), (4055, 0.005652814905289618), (3752, 0.005652413317509949), (4726, 0.005648514077240197), (2285, 0.005638980582720408), (2929, 0.005638950208017201), (597, 0.005608667821100543), (1312, 0.005602898609821318), (2074, 0.005593802944453158), (2439, 0.005593736098284378), (970, 0.005568716182548616), (2587, 0.005564022807197095), (979, 0.005561855686659013), (1571, 0.005560812559199898), (2156, 0.005560588228005939), (2942, 0.005522203025286344), (445, 0.005521365730506954), (4748, 0.0055083260635305515), (2820, 0.005501210945282523), (3509, 0.005489969398493729), (1553, 0.005489481468199836), (1194, 0.005473349983812346), (2098, 0.005465061359563952), (277, 0.0054455288713083335), (4607, 0.005439457753123862), (4555, 0.005438759610738654), (1863, 0.005434956078083443), (3215, 0.005434000605214188), (4158, 0.005403027614711058), (4385, 0.005385952255097703), (3957, 0.005375792228258077), (2678, 0.005371501867891806), (2197, 0.005360847692776536), (177, 0.005351274661371866), (2998, 0.005339444025825013), (3821, 0.005328555503535683), (2113, 0.005325407261107637), (78, 0.005325165725863051), (2529, 0.0053245474632177495), (1037, 0.005322791041686624), (1453, 0.0053187287055485805), (288, 0.005295736505924504), (3713, 0.005293831941326572), (2789, 0.00529042619348297), (2985, 0.0052708925440254515), (3164, 0.0052683444810885565), (3523, 0.005267339432840738), (1279, 0.0052617749535254985), (2299, 0.0052607463997996285), (2490, 0.005258955097344358), (2665, 0.005243897020989663), (3051, 0.005223447129963365), (2764, 0.005211725950100737), (2858, 0.005211098711959969), (2989, 0.005210855389299743), (3040, 0.005172807163848542), (3940, 0.005167341386106333), (2379, 0.005165918972171195), (735, 0.00516182642684706), (3925, 0.005160341983244202), (2022, 0.005153289069007726), (4082, 0.005151742084115649), (2137, 0.005132021042669856), (4202, 0.005131825030910332), (477, 0.005130512172165039), (3291, 0.005119105718573002), (4652, 0.005114127806204671), (2870, 0.005107195828099419), (2251, 0.00509939089793186), (4172, 0.0050951856300434405), (3410, 0.005092283374656074), (2404, 0.005078185209323386), (159, 0.005072639798154207), (1144, 0.005071950744690741), (2774, 0.00504553637923582), (168, 0.005042913247710433), (3030, 0.005034237801423512), (2349, 0.00502396728641042), (4423, 0.0050207567245251035), (3990, 0.005019111610086418), (2643, 0.005002098850738977), (2775, 0.00500152400676194), (3257, 0.004995848485272183), (3205, 0.004990746965091461), (2392, 0.004984317005014539), (1695, 0.004978756393432529), (3635, 0.004978371209684723), (3166, 0.004970888220790558), (4222, 0.004947532782956616), (2731, 0.00494549479511395), (2883, 0.004940720490752315), (1701, 0.004926873949482106), (2655, 0.0049181540894539496), (4444, 0.004904509171269054), (2889, 0.0048926227775415495), (2832, 0.0048856823976773265), (2407, 0.004856083077377458), (3262, 0.004852385865680863), (3052, 0.004848031584361066), (2901, 0.004825046041969955), (627, 0.004824924589790727), (4373, 0.004809955162989774), (3479, 0.004799956555373327), (2255, 0.004776265490436135), (3322, 0.004772351363554385), (2257, 0.0047705040890713354), (4704, 0.004770245654162657), (3922, 0.004766517033883899), (4407, 0.0047639362639270095), (3892, 0.004761148502057713), (3762, 0.0047584176606632125), (4546, 0.004736514997609899), (4221, 0.0047328275676845055), (414, 0.004731326482998729), (3939, 0.004731187260917705), (3076, 0.004716061075372725), (2415, 0.004709299301266797), (155, 0.004705153978298364), (2559, 0.004703709118690083), (561, 0.004703357604698987), (2425, 0.00469851166943555), (3219, 0.004690059086766083), (2423, 0.00468334117412921), (336, 0.004681219562968884), (2673, 0.004680102974435967), (2350, 0.004663639299403538), (4230, 0.004648996196364681), (3140, 0.0046489755815935195), (4710, 0.004637182469482677), (2199, 0.004633465460546413), (2838, 0.004631501827798443), (3015, 0.004627383082117347), (2064, 0.004625813252913871), (4458, 0.004621228638535072), (4484, 0.004619014172661271), (2448, 0.004608941010858885), (4107, 0.00460845872586748), (2286, 0.004606736557492352), (3396, 0.004601907770865188), (4660, 0.00458508861294737), (3458, 0.004583951437767016), (2075, 0.004578155328337721), (4490, 0.0045560907006949895), (4572, 0.004550069046558632), (2454, 0.004529036910318142), (4030, 0.004513797821422968), (2778, 0.004505107306159889), (2957, 0.004501879909843576), (2879, 0.0044970874848026705), (3832, 0.004496214401303517), (1711, 0.004495723958732926), (2966, 0.004484827266935786), (3074, 0.004483438876058831), (3282, 0.004479578699104437), (1264, 0.00447359355352566), (4521, 0.004466953483132414), (3638, 0.004463238224360494), (2438, 0.004461445554262042), (4723, 0.004458464019274898), (3763, 0.004457802508555829), (2834, 0.00445209622111007), (3081, 0.0044515631836778815), (2266, 0.004448981569334623), (3613, 0.004431770089385538), (3577, 0.004428018454846411), (3363, 0.004420728019597896), (2797, 0.004419243284186567), (4717, 0.004404374147511172), (1208, 0.004402839998635002), (2488, 0.004402111600396798), (4163, 0.004387695820110567), (2890, 0.004377109060948859), (3521, 0.004376245005201287), (3620, 0.004371792498901122), (3952, 0.004366139115885466), (3901, 0.004359858849300234), (3616, 0.004358829915145444), (2388, 0.004355783336317221), (4753, 0.00435545563313104), (4243, 0.00435327024983277), (3123, 0.004352553333396112), (2188, 0.004334380421093888), (2707, 0.0043342091691128), (4589, 0.0043340632609811846), (1049, 0.004330983155106265), (4477, 0.004326970432127255), (3359, 0.004326815368286682), (2772, 0.004322793941245132), (326, 0.004321313609165352), (3456, 0.004320325401640514), (2872, 0.004315496345279279), (1429, 0.004311418505958409), (3296, 0.004310193012648512), (3072, 0.0043095773507407144), (4632, 0.004302818312382981), (2428, 0.0043004606543066886), (2848, 0.004300286916508861), (3357, 0.004299296873940464), (4244, 0.004299083527874117), (2434, 0.004283526810856401), (4117, 0.004275538931918067), (3302, 0.004273537793556942), (3754, 0.0042593206648855715), (4295, 0.004255513281795713), (1995, 0.004245890719764824), (3165, 0.0042451803416641756), (3884, 0.004243397147581126), (448, 0.004241941836719211), (3772, 0.0042408827127025225), (2857, 0.004240843764626777), (2535, 0.00424055591271485), (2570, 0.004234121250087538), (2696, 0.0042324740474139885), (3274, 0.0042297189162676515), (436, 0.004229244120793596), (2914, 0.004228173580543518), (3364, 0.004227755088569169), (3355, 0.004227115676037271), (1947, 0.004223394903814298), (2089, 0.004220547183188375), (2427, 0.0042175043390828455), (1547, 0.004216738196403009), (4412, 0.004214799857709735), (1748, 0.004213527584685653), (2986, 0.004205316632823618), (3866, 0.004205239388202341), (3308, 0.004204049404118076), (2269, 0.00420351203536545), (1187, 0.004202392020208051), (3651, 0.004200237671866907), (2320, 0.004199344742079301), (2459, 0.004196223077286471), (4333, 0.0041890197068420254), (3012, 0.004185296340116227), (3258, 0.004183774417127797), (1498, 0.004179832043953204), (2623, 0.004176190125783059), (3413, 0.0041758467504288705), (4522, 0.004172907390417258), (2660, 0.004171185315163734), (4713, 0.004166136480172289), (2437, 0.004162944416970357), (2796, 0.004153999253570337), (2134, 0.004152462335915085), (3745, 0.004151069322327075), (2881, 0.004150391528134978), (419, 0.004148855803342757), (614, 0.004148837208512616), (813, 0.004142945648938956), (985, 0.004139963716531047), (2625, 0.00413783328299914), (925, 0.00413782328937846), (3062, 0.004133505662954884), (4092, 0.0041320007719352105), (431, 0.004131043338976118), (2478, 0.0041293167225883365), (2916, 0.004123447280224744), (3044, 0.004121364970065749), (4051, 0.004120798596051099), (4269, 0.004119756186792935), (1489, 0.004115715257495192), (3680, 0.004114787353477457), (4699, 0.0041140672906981165), (2400, 0.004109638908708707), (4369, 0.0041086185575383415), (3148, 0.004108317192248828), (3590, 0.004107093742516492), (4593, 0.004106955045324066), (3560, 0.004106104935450987), (2475, 0.004105526676834034), (1909, 0.004103208128159958), (4368, 0.004099484400028853), (2840, 0.004093001982355914), (2162, 0.004090523495202415), (2108, 0.004089956737026002), (2702, 0.00408890289196854), (2302, 0.004084804611836354), (3804, 0.004082388736489263), (2974, 0.004081456054121792), (3425, 0.004079738617432723), (3506, 0.004074546619673773), (2705, 0.004074294193627176), (274, 0.004072246808485079), (4575, 0.0040707077395812745), (4507, 0.004070344568087239), (2411, 0.004068985005804919), (2924, 0.0040648370871344645), (2748, 0.004064825792937902), (4706, 0.004063863419371604), (4494, 0.004062322032559303), (4650, 0.0040614788532681795), (596, 0.004060525325865641), (3032, 0.004060169197323575), (2176, 0.0040598706535056), (3962, 0.004059091368218967), (3116, 0.0040586547798436455), (3234, 0.0040540110627565636), (999, 0.004053357353034999), (3640, 0.004047486490065703), (107, 0.004046602675710878), (2288, 0.004046298858058188), (4087, 0.004043365397112182), (3037, 0.0040431708096452), (4516, 0.004041594187448114), (2260, 0.0040395338549622205), (443, 0.004038251712250551), (576, 0.004037754728295733), (4535, 0.004036849038207297), (2854, 0.004036448974364661), (1325, 0.004029627253394801), (857, 0.004029060401010238), (3639, 0.0040262174097896765), (1968, 0.00402166684540409), (739, 0.004020546078160392), (4130, 0.0040172250255825935), (1109, 0.004012757331351661), (4448, 0.004008778575186002), (3601, 0.004006834400406271), (3893, 0.004004807710332506), (3417, 0.004004755990693076), (998, 0.004002606081010016), (3960, 0.0040020604720878775), (2561, 0.004002009635766443), (2664, 0.004001710050730786), (2888, 0.004000818390502269), (4101, 0.00399842106147058), (1924, 0.003997107562624932), (3196, 0.003995095783309034), (3391, 0.003994709920261489), (2629, 0.003992513860518232), (3618, 0.003990419172428852), (2592, 0.003990021475839082), (587, 0.003988629122989408), (2223, 0.00398653773458156), (876, 0.003981465663919482), (8, 0.0039813050091412425), (4540, 0.003977318529962863), (1349, 0.0039770017234156295), (4113, 0.003976064203747678), (716, 0.00397562198007206), (4718, 0.003972353459317412), (3813, 0.003969481475798807), (623, 0.003966889738539627), (12, 0.00396621552053226), (4624, 0.003958175392189607), (2755, 0.003957462234441276), (2390, 0.003956962622125144), (4160, 0.003954421420056604), (4024, 0.003954215135904861), (2555, 0.003949380765448986), (1474, 0.003948601289452786), (3187, 0.003947125661765034), (3273, 0.003946023808809401), (350, 0.003945415044652617), (4116, 0.00394440427236495), (4098, 0.00394056870561787), (1923, 0.0039403508420347766), (4625, 0.00393952261726394), (4187, 0.003939032951510309), (4734, 0.003937866633553669), (3013, 0.003935146346454574), (3235, 0.003934699472900894), (4263, 0.003933568947707804), (688, 0.003931638625184809), (3873, 0.003931339829870959), (2348, 0.003929522667725191), (4133, 0.003928681297481192), (4528, 0.003927361353290577), (2943, 0.003926107217728042), (3920, 0.003923411897020739), (3198, 0.003922094913359359), (4330, 0.003921358053525306), (3183, 0.0039199046970463045), (4138, 0.003919195668529474), (3749, 0.003918560583051753), (2830, 0.003917050367050853), (729, 0.003915142515593656), (1007, 0.00391472933225777), (1905, 0.003913500819566695), (2159, 0.003912931160135045), (3527, 0.003912702761420886), (2776, 0.003907265075228602), (318, 0.003906413559534823), (4657, 0.0039059973061791316), (481, 0.0039048958749196075), (3780, 0.0039039375780569284), (612, 0.003902657723935107), (888, 0.003901839944224036), (4079, 0.0038969234884921452), (1896, 0.003895465117939565), (3915, 0.00389262925678361), (2391, 0.003892154353564367), (4419, 0.0038882396761148958), (206, 0.0038874876686382587), (41, 0.00388637807442034), (3704, 0.0038853094112729974), (2531, 0.003882962767324645), (1687, 0.003882335578451569), (3902, 0.0038819479275165178), (1518, 0.0038783796584801267), (3406, 0.003876657618565203), (1866, 0.0038765178075629144), (2394, 0.0038759991240077682), (4259, 0.0038748016604795875), (1907, 0.003872954386544689), (3845, 0.0038687036335932345), (4014, 0.00386623695560483), (826, 0.003865028765767896), (2361, 0.0038637810693983466), (2821, 0.0038630551297758227), (4401, 0.003861386557908117), (3349, 0.003860559656917979), (1537, 0.0038583224505246306), (4046, 0.0038556070902160578), (4489, 0.003853014391623791), (1893, 0.003852940494452675), (1822, 0.0038504352441146787), (1916, 0.0038470941065648933), (4357, 0.0038470040683796793), (2926, 0.0038466212324608662), (673, 0.0038461800804533847), (1703, 0.0038455624519013803), (4286, 0.003843849879439207), (1851, 0.003841649783824095), (1188, 0.0038413061948604065), (4111, 0.0038396479724720606), (2714, 0.0038393601841220397), (4601, 0.003838824137602895), (4225, 0.003837299916026747), (4169, 0.0038367408107313804), (3097, 0.003834692272371566), (1513, 0.0038344203687004853), (1225, 0.0038327344535623578), (4123, 0.003832104530592329), (493, 0.0038311148826980683), (74, 0.0038305164759881126), (2911, 0.0038288336365772044), (2661, 0.0038277754382959853), (3771, 0.003826391447152646), (2104, 0.0038261410858015338), (1960, 0.0038235691004051397), (4517, 0.0038234199579766422), (3035, 0.0038222024215414847), (1454, 0.0038220117074458425), (3075, 0.0038210499692622898), (1364, 0.003819866690344544), (2477, 0.0038182443309959942), (2088, 0.0038178427173565094), (456, 0.0038172650091057476), (783, 0.003815661735947624), (2067, 0.003815024741815606), (728, 0.0038115938327713994), (872, 0.003811257171425645), (865, 0.0038099098085208295), (2289, 0.003809570045832026), (34, 0.0038078320165051004), (792, 0.0038071915392957523), (991, 0.003806756778721553), (1570, 0.0038040581777008843), (3501, 0.0038034201984807445), (1463, 0.00380310922453498), (4038, 0.003802940015323507), (3493, 0.0038019959182241467), (3112, 0.003800422800239021), (1918, 0.0037996665429776595), (1324, 0.0037989500151638066), (3496, 0.003797187689295682), (4501, 0.0037964419929183463), (564, 0.003796365346711283), (4033, 0.003794292128184439), (4470, 0.0037931245228958735), (2105, 0.0037923889873842957), (4629, 0.0037920958093248113), (3449, 0.0037917843839245747), (2999, 0.0037890565938511196), (192, 0.003787277655763494), (4756, 0.003786416542041023), (2230, 0.003783659025103811), (4643, 0.0037814935580393638), (1229, 0.0037806129355151433), (930, 0.00378034797481789), (255, 0.003780073364815275), (2609, 0.00377809647402242), (178, 0.0037776537741521198), (3314, 0.003775818101087265), (3326, 0.0037754144278045287), (4520, 0.003773724303455993), (606, 0.0037722952239776335), (4422, 0.00377105869037279), (3623, 0.0037683281471875977), (2894, 0.0037674696543341392), (3353, 0.003765709755477463), (743, 0.003763022064093742), (1071, 0.0037606029310035295), (4446, 0.0037595476557420833), (2083, 0.0037576874237754874), (3654, 0.0037570770332748223), (23, 0.003755353337313595), (1946, 0.0037519707131793948), (1400, 0.0037518657971094185), (1643, 0.00375121670553663), (1286, 0.0037508862108788857), (3233, 0.0037501365387322314), (4566, 0.0037486254138743595), (3184, 0.003748264200019498), (2344, 0.003748056173872459), (4430, 0.0037466958742477362), (3388, 0.003746311877723138), (4420, 0.003745874345237778), (11, 0.0037456701814478437), (1902, 0.0037446114526781802), (2091, 0.0037443736516224705), (652, 0.0037397353385321213), (2319, 0.003739379776583356), (4056, 0.003739013208752229), (2554, 0.003737643545686128), (1140, 0.0037364162547097743), (1350, 0.003734820818704093), (3241, 0.003732959656777798), (3551, 0.0037319393215911674), (3666, 0.0037295656368371067), (2048, 0.0037288201821157555), (4693, 0.00372725970869267), (216, 0.0037272187571305484), (3765, 0.003726597189322305), (3624, 0.0037237382675540877), (2242, 0.0037217038834588575), (2386, 0.003721622178941252), (3214, 0.0037205193342292526), (580, 0.0037182157670741867), (2492, 0.0037175451802045037), (871, 0.003716394302312152), (3516, 0.003712679921642357), (1083, 0.003712644593459953), (3526, 0.0037112210542332735), (2405, 0.003710950267663496), (2878, 0.003710004972741952), (579, 0.0037087631145962044), (2466, 0.00370836441874598), (1722, 0.0037066204631501015), (1122, 0.003706079927015615), (2393, 0.003703038194559726), (3827, 0.0037014499824444824), (3227, 0.0036989367230417683), (3125, 0.0036975105274279587), (3653, 0.003697254601134254), (1645, 0.0036952777226834646), (4054, 0.0036919428987825026), (4249, 0.0036918057807585848), (2946, 0.0036912229370040794), (2652, 0.003690555638175252), (4334, 0.003690070217383723), (3564, 0.003688911669145644), (4563, 0.0036888034847798925), (4287, 0.0036881664599470987), (1335, 0.003687096107635366), (3303, 0.0036868972027257695), (1176, 0.003686595452009381), (3182, 0.0036860539023710285), (588, 0.0036854950927634345), (636, 0.003684399703354682), (1931, 0.0036829020704832447), (4178, 0.0036799976273192243), (169, 0.0036798060958608703), (1223, 0.0036781803905168425), (71, 0.003677535952261455), (644, 0.00367679799711031), (504, 0.003676584177644073), (3727, 0.003673940838840661), (1131, 0.0036739039663687494), (1179, 0.0036672395339497096), (3542, 0.0036670736186326333), (2746, 0.003665539860725833), (4284, 0.003664856186508451), (3809, 0.003664713347080588), (3882, 0.003664539548870296), (660, 0.003662075398807615), (980, 0.003661944628173044), (238, 0.003659120752380568), (4266, 0.0036575963858232717), (3917, 0.0036569428852438425), (3707, 0.003653794553214047), (2904, 0.0036496025416400605), (923, 0.0036492470962509508), (3571, 0.0036491648294152985), (1163, 0.0036473982208373927), (3799, 0.003646821542872178), (1983, 0.0036452931437196768), (509, 0.0036417999796944673), (755, 0.0036414742816218556), (3436, 0.003639498610575725), (4573, 0.003639340688907207), (1410, 0.00363919261918032), (3330, 0.003638499527105356), (3807, 0.0036379576211526266), (3673, 0.00363742019770405), (3888, 0.0036303477829106616), (696, 0.0036298461398101174), (1717, 0.0036276815826743213), (3445, 0.003627316233637742), (1533, 0.0036246917956625963), (198, 0.003622001516975334), (1740, 0.003621799609658472), (2972, 0.0036172540034550855), (2606, 0.003615784352112494), (2073, 0.0036140618777741884), (4640, 0.0036125883995176667), (2313, 0.003612093637931469), (2169, 0.0036101173595329034), (3435, 0.003607385099174606), (4135, 0.003604403156932509), (1191, 0.0036014944474877086), (1102, 0.0035991808285450433), (1768, 0.0035977627600202546), (2422, 0.0035961990140317267), (749, 0.0035946633625269305), (1969, 0.003592597292116815), (969, 0.0035907332161692366), (698, 0.003588950192852529), (1476, 0.0035877231898001727), (1338, 0.003586490018184097), (4530, 0.0035860747564684242), (1653, 0.003584305694779812), (769, 0.003583757015530607), (2569, 0.0035797558251402964), (693, 0.0035775308719794867), (3170, 0.0035763044658311998), (2061, 0.003576080842116866), (3500, 0.0035744861518802688), (894, 0.003572931223021136), (3900, 0.0035717791049734906), (1378, 0.003570342477090094), (490, 0.003570323185427861), (3641, 0.0035697907513504963), (2802, 0.0035693851779144015), (2226, 0.0035689145134359), (750, 0.003568477063191233), (4036, 0.0035639954211570983), (2945, 0.003562934203431886), (3876, 0.003562114280107913), (3890, 0.0035618714652542213), (3402, 0.0035614872907274507), (4183, 0.0035610279064495895), (475, 0.003560848840972336), (3811, 0.0035607304139602747), (1882, 0.003560632015641148), (3122, 0.003560065090602281), (1488, 0.003558621973509768), (1313, 0.0035572515093136663), (1472, 0.0035570892574154447), (1138, 0.003556907183300995), (4487, 0.003556658837281873), (1620, 0.0035563402755558375), (4362, 0.003556084804020229), (1706, 0.003555579809442465), (3477, 0.0035539036430213638), (1422, 0.0035539019582920914), (1170, 0.00355237593909904), (400, 0.0035503004336356857), (4670, 0.0035497211965938996), (114, 0.0035491262733154468), (3739, 0.0035489810025061334), (3557, 0.0035482335367341333), (3268, 0.0035470423882963667), (1891, 0.003546539510820495), (1634, 0.0035443378667481167), (959, 0.0035409008300337245), (3195, 0.003540063651477193), (1693, 0.0035355676739203864), (1483, 0.003534535075553826), (2593, 0.0035335749702037496), (348, 0.0035327677973552084), (4309, 0.00353095508932553), (2779, 0.003530068303485016), (1598, 0.0035295980329759337), (2612, 0.0035278955831453693), (2397, 0.003527392308344023), (1421, 0.0035262201481933474), (3898, 0.0035259764812135296), (4020, 0.00352591443829339), (2965, 0.003524394485441998), (2195, 0.003521404205793992), (1247, 0.00351982461238819), (1123, 0.0035195979867962595), (727, 0.0035193726738370103), (1027, 0.003518565558962029), (2131, 0.003517265854707398), (1558, 0.003515662544035719), (1026, 0.0035146744699977987), (3487, 0.0035139707376760144), (1666, 0.003511571591972022), (2496, 0.0035114285097292033), (1408, 0.0035107573873932613), (522, 0.0035099182055163413), (1044, 0.003508117737934155), (2430, 0.003505580754640197), (4394, 0.0035052053829305076), (349, 0.0035047525390821213), (1438, 0.003503622158936101), (1161, 0.003501818358121157), (598, 0.003496965521259395), (2642, 0.0034949563725596515), (2069, 0.0034943667904300726), (854, 0.003494237556412366), (2068, 0.0034924309131187745), (852, 0.0034897117367751387), (373, 0.003489429025092757), (4069, 0.00348833043566176), (3953, 0.0034870444162416947), (3819, 0.003486061775066094), (3734, 0.0034851410713494105), (3696, 0.003483943382498596), (1060, 0.0034836915298092678), (2907, 0.003482884581136734), (2634, 0.003482335593754169), (1813, 0.0034805472526330565), (4345, 0.003479977208463729), (1597, 0.0034793933676477216), (2402, 0.003475366728215757), (4011, 0.0034740447461955133), (1667, 0.0034737828296774586), (3706, 0.0034732886905836017), (1628, 0.0034713796226813775), (4356, 0.003471279829704232), (3646, 0.003470614247398327), (2029, 0.00346983894693763), (3220, 0.0034696965481613574), (880, 0.003469077501891423), (1782, 0.0034668643175420166), (3379, 0.003463688245304073), (127, 0.003463602673005848), (221, 0.003463101025405292), (1448, 0.0034620415228922737), (3298, 0.0034567883643641375), (2892, 0.003453997357452808), (1481, 0.003453594366088728), (3014, 0.0034522588197636287), (1002, 0.003452236841054117), (4085, 0.003451799707458786), (3194, 0.0034513020920141292), (2117, 0.0034500623878407186), (4591, 0.003449338907575504), (2461, 0.0034487908578138713), (1084, 0.0034474280947745426), (2528, 0.003447339676446558), (3050, 0.0034448185237258427), (4154, 0.0034434680606143845), (215, 0.003442799502400321), (1819, 0.0034404175547629048), (1796, 0.003440345291267212), (4536, 0.0034387408811603105), (325, 0.0034353551740251365), (3660, 0.003434656229435889), (471, 0.003433539045447373), (798, 0.0034328368349772214), (1744, 0.0034326240448644095), (388, 0.003431644676127772), (1001, 0.00343133859881616), (2004, 0.0034282195476935755), (1892, 0.0034254041440885683), (1177, 0.003423878518514986), (2482, 0.0034236299646284276), (132, 0.0034234151713216578), (3300, 0.00342173638432456), (1478, 0.003417808740002938), (4472, 0.0034175279674571297), (488, 0.003411957270010571), (2527, 0.00340885533818341), (4282, 0.0034065073077999045), (907, 0.0034061150842808604), (3503, 0.003405936885742679), (3028, 0.0034050174004471158), (1034, 0.003403832073277537), (1884, 0.0034027363203771024), (3278, 0.003401643839589588), (96, 0.0034015001322251063), (1582, 0.003401447939805034), (3974, 0.0034004679723682023), (31, 0.0033996668733752215), (3669, 0.003399030132565562), (2800, 0.003398382108617529), (975, 0.003396823503092868), (2862, 0.0033940444550751773), (589, 0.003390531185976921), (372, 0.003389350421332655), (655, 0.003389194753521876), (2674, 0.0033859144745340707), (1608, 0.003384557801431093), (4479, 0.0033835117670899203), (355, 0.0033795385194669205), (1375, 0.0033787283303994644), (4523, 0.00337853976142162), (2556, 0.0033777445148685504), (111, 0.003376772383465353), (1372, 0.003376416643187883), (2453, 0.00337590272526564), (4638, 0.0033736774484320184), (659, 0.0033734257754181474), (1217, 0.003371164372431719), (594, 0.003369916493703975), (18, 0.003369645019167447), (2899, 0.0033688813827285947), (1041, 0.0033685614056302798), (3460, 0.0033681098332522825), (2743, 0.0033671828485682693), (121, 0.0033665340554005873), (359, 0.003365472909199773), (3563, 0.0033647507428909234), (1357, 0.003363732890440055), (92, 0.003360796267825519), (605, 0.003358265881478833), (3342, 0.0033579444433803375), (2201, 0.0033551357781463893), (3614, 0.003354012096047157), (1340, 0.0033535352826558284), (1107, 0.0033526504309583875), (4473, 0.0033516465701564917), (886, 0.0033514432872225244), (608, 0.003349934843090619), (2367, 0.0033496959524487013), (3147, 0.0033480693085265077), (2457, 0.0033478490271131667), (200, 0.0033431141778530924), (3311, 0.0033409832319965553), (3071, 0.0033409348806214927), (3910, 0.0033405421951300186), (1065, 0.0033371863425835464), (2741, 0.003328106837516021), (1760, 0.0033272505427751745), (1605, 0.0033259354256329828), (2287, 0.0033258303650215274), (4350, 0.0033250514085900636), (4712, 0.003323514292654114), (1079, 0.003321671263233903), (1209, 0.003321085688088724), (1462, 0.0033206423707959594), (3705, 0.003316109384023709), (3027, 0.0033124709568393067), (3120, 0.00330949148859347), (910, 0.0033074022213106114), (563, 0.003306704429259558), (2399, 0.0033057066792334827), (136, 0.003303873249165646), (1827, 0.003302762259788129), (944, 0.0033023879181868316), (1503, 0.0033021602874910754), (1427, 0.003301892641800651), (3755, 0.003300128640719086), (1273, 0.0032970080302940487), (3742, 0.0032953429770509624), (1627, 0.003289792770339443), (1543, 0.003289605549188159), (2031, 0.0032850204323863525), (558, 0.0032833993654161463), (184, 0.0032822979792375235), (495, 0.003279841014057861), (416, 0.0032790923007680124), (744, 0.0032781053462558533), (103, 0.0032774123301881255), (804, 0.00327703448975771), (3304, 0.0032769069092913115), (4066, 0.003276424610189751), (703, 0.0032761098880506275), (4143, 0.003275501965926929), (1565, 0.00327279878744392), (951, 0.0032695909941593336), (3318, 0.0032693450974271196), (1219, 0.003269012717702461), (410, 0.0032654111456692347), (1869, 0.0032647068905106123), (286, 0.003264375777973318), (2747, 0.0032637653968030523), (2591, 0.003260744228212253), (457, 0.003259702392779498), (1080, 0.0032584573984627673), (604, 0.0032567783451821373), (2611, 0.0032557383140373796), (2845, 0.00325548835622747), (851, 0.0032526031618624837), (1719, 0.0032508370580870416), (3137, 0.0032496656337887477), (2502, 0.0032489821386907022), (981, 0.003248707904142592), (3956, 0.0032481090852714656), (1830, 0.003247811322772435), (722, 0.0032477220011841194), (2771, 0.0032466366918399454), (2338, 0.003243100689631968), (1964, 0.003241688086034474), (3474, 0.0032348235089199907), (2724, 0.0032306327204670283), (2240, 0.0032289103362086783), (1199, 0.003228746354562443), (3380, 0.0032269723373452874), (815, 0.0032209355423735812), (3327, 0.003220135664819492), (267, 0.0032196667671884702), (357, 0.0032177324692351413), (3569, 0.0032170431583837113), (4429, 0.003215606706730239), (4074, 0.003212534054209487), (856, 0.0032118282727691314), (1352, 0.003204565860445646), (1251, 0.0032036183067458046), (2520, 0.0032030375862538893), (1318, 0.0032029745595466377), (2580, 0.0032003193658528013), (1423, 0.0031922669208225146), (4247, 0.0031909485662646466), (3393, 0.0031862339656540495), (2976, 0.0031807126162428584), (480, 0.003169937890578459), (617, 0.0031690727603749416), (1616, 0.0031685273924954996), (1414, 0.0031634774872246287), (194, 0.0031634068544442455), (4733, 0.003162175294638138), (3657, 0.0031574030319164387), (97, 0.0031484536379964823), (4636, 0.00314735726367762), (2509, 0.0031470936696278862), (4411, 0.003145173672846152), (642, 0.003143312098050789), (4151, 0.003138423965990084), (165, 0.0031348210917476597), (3254, 0.0031339044860705626), (16, 0.003133803765877059), (4432, 0.0031296620320051265), (3331, 0.0031290319200669276), (1394, 0.003128382267613125), (1370, 0.003127176302161996), (712, 0.003123396699280281), (190, 0.0031203158850356774), (3575, 0.003119311496636549), (611, 0.0031172956699001505), (1088, 0.0031129143427277178), (2355, 0.0031049936857315934), (861, 0.0031028463424190664), (3928, 0.0031014198141546523), (4626, 0.0031001924763876406), (1943, 0.0030940111951342545), (195, 0.00308910428000469), (3200, 0.0030847067670261626), (1078, 0.003082489206743512), (1828, 0.003080965489617155), (2359, 0.0030784221079051912), (626, 0.00307743977232217), (1040, 0.003074754481754948), (707, 0.0030729801843182793), (3056, 0.003072349411716362), (2034, 0.003070878202366807), (3347, 0.003063195787311347), (2127, 0.0030602453464096853), (2132, 0.003060038246965948), (2526, 0.0030471422695494857), (1415, 0.003045888303328512), (2761, 0.00304405178762197), (3855, 0.0030433662158684096), (4311, 0.003035537666884974), (3024, 0.00302550098041024), (3534, 0.003023829083757731), (2758, 0.0030230358728911945), (1356, 0.003022250693774501), (1624, 0.00301579289783916), (2039, 0.0030102805733524408), (2441, 0.0029956028807629977), (1305, 0.0029946125153229174), (2697, 0.002988861181974103), (3301, 0.002970739409986579), (453, 0.0029382377462350553), (2010, 0.002933347631492124), (1989, 0.002924209937454143), (1677, 0.002923417687338808), (1303, 0.002919069206382653), (4674, 0.002916751748640969), (953, 0.002901760671401119), (2766, 0.002875291953064603), (256, 0.0028712849300435604), (351, 0.0028683786520547496), (3199, 0.0028668813185000024), (571, 0.0028325350381428606), (607, 0.0028097672896199855), (3626, 0.002806850058528859), (562, 0.0028037021004803215), (228, 0.002750512006779443), (3546, 0.0027162117605211917), (831, 0.0027057960685682282), (3365, 0.0025992901928710093), (4171, 0.0025843227449517696), (4752, 0.002572377497129735), (129, 0.002546517678791126), (202, 0.002372354967825255), (2534, 0.0016684465660615775), (1, 0.0), (2, 0.0), (4, 0.0), (6, 0.0), (10, 0.0), (14, 0.0), (17, 0.0), (20, 0.0), (24, 0.0), (26, 0.0), (27, 0.0), (28, 0.0), (30, 0.0), (36, 0.0), (37, 0.0), (38, 0.0), (39, 0.0), (42, 0.0), (47, 0.0), (49, 0.0), (50, 0.0), (53, 0.0), (54, 0.0), (55, 0.0), (58, 0.0), (59, 0.0), (64, 0.0), (66, 0.0), (69, 0.0), (70, 0.0), (72, 0.0), (73, 0.0), (76, 0.0), (77, 0.0), (80, 0.0), (81, 0.0), (90, 0.0), (91, 0.0), (93, 0.0), (94, 0.0), (95, 0.0), (98, 0.0), (99, 0.0), (100, 0.0), (101, 0.0), (102, 0.0), (115, 0.0), (117, 0.0), (118, 0.0), (128, 0.0), (133, 0.0), (134, 0.0), (135, 0.0), (139, 0.0), (140, 0.0), (141, 0.0), (143, 0.0), (146, 0.0), (150, 0.0), (151, 0.0), (152, 0.0), (153, 0.0), (154, 0.0), (157, 0.0), (158, 0.0), (163, 0.0), (167, 0.0), (171, 0.0), (186, 0.0), (187, 0.0), (188, 0.0), (189, 0.0), (191, 0.0), (196, 0.0), (205, 0.0), (211, 0.0), (212, 0.0), (214, 0.0), (217, 0.0), (219, 0.0), (220, 0.0), (223, 0.0), (225, 0.0), (226, 0.0), (229, 0.0), (233, 0.0), (234, 0.0), (235, 0.0), (237, 0.0), (239, 0.0), (241, 0.0), (245, 0.0), (246, 0.0), (247, 0.0), (249, 0.0), (253, 0.0), (257, 0.0), (258, 0.0), (259, 0.0), (260, 0.0), (262, 0.0), (264, 0.0), (265, 0.0), (268, 0.0), (272, 0.0), (275, 0.0), (278, 0.0), (279, 0.0), (289, 0.0), (290, 0.0), (291, 0.0), (293, 0.0), (294, 0.0), (295, 0.0), (297, 0.0), (298, 0.0), (299, 0.0), (302, 0.0), (303, 0.0), (304, 0.0), (305, 0.0), (306, 0.0), (308, 0.0), (310, 0.0), (311, 0.0), (312, 0.0), (314, 0.0), (315, 0.0), (316, 0.0), (319, 0.0), (320, 0.0), (323, 0.0), (324, 0.0), (331, 0.0), (335, 0.0), (337, 0.0), (338, 0.0), (339, 0.0), (344, 0.0), (347, 0.0), (352, 0.0), (361, 0.0), (362, 0.0), (365, 0.0), (366, 0.0), (367, 0.0), (375, 0.0), (376, 0.0), (377, 0.0), (378, 0.0), (379, 0.0), (380, 0.0), (382, 0.0), (389, 0.0), (390, 0.0), (391, 0.0), (392, 0.0), (393, 0.0), (394, 0.0), (395, 0.0), (397, 0.0), (399, 0.0), (401, 0.0), (404, 0.0), (405, 0.0), (411, 0.0), (415, 0.0), (417, 0.0), (420, 0.0), (422, 0.0), (423, 0.0), (425, 0.0), (426, 0.0), (427, 0.0), (432, 0.0), (439, 0.0), (440, 0.0), (444, 0.0), (451, 0.0), (454, 0.0), (460, 0.0), (462, 0.0), (466, 0.0), (467, 0.0), (469, 0.0), (473, 0.0), (474, 0.0), (476, 0.0), (478, 0.0), (484, 0.0), (486, 0.0), (487, 0.0), (489, 0.0), (491, 0.0), (492, 0.0), (497, 0.0), (498, 0.0), (499, 0.0), (503, 0.0), (505, 0.0), (506, 0.0), (507, 0.0), (508, 0.0), (512, 0.0), (513, 0.0), (514, 0.0), (516, 0.0), (517, 0.0), (518, 0.0), (520, 0.0), (524, 0.0), (525, 0.0), (526, 0.0), (528, 0.0), (529, 0.0), (531, 0.0), (532, 0.0), (535, 0.0), (536, 0.0), (539, 0.0), (541, 0.0), (546, 0.0), (548, 0.0), (549, 0.0), (550, 0.0), (552, 0.0), (554, 0.0), (556, 0.0), (557, 0.0), (559, 0.0), (560, 0.0), (565, 0.0), (567, 0.0), (569, 0.0), (570, 0.0), (572, 0.0), (573, 0.0), (574, 0.0), (575, 0.0), (577, 0.0), (581, 0.0), (585, 0.0), (591, 0.0), (592, 0.0), (595, 0.0), (599, 0.0), (601, 0.0), (602, 0.0), (603, 0.0), (610, 0.0), (619, 0.0), (621, 0.0), (624, 0.0), (625, 0.0), (630, 0.0), (633, 0.0), (634, 0.0), (639, 0.0), (640, 0.0), (645, 0.0), (646, 0.0), (647, 0.0), (649, 0.0), (650, 0.0), (656, 0.0), (658, 0.0), (661, 0.0), (662, 0.0), (663, 0.0), (665, 0.0), (666, 0.0), (674, 0.0), (678, 0.0), (679, 0.0), (680, 0.0), (681, 0.0), (685, 0.0), (686, 0.0), (687, 0.0), (690, 0.0), (699, 0.0), (700, 0.0), (702, 0.0), (704, 0.0), (708, 0.0), (709, 0.0), (711, 0.0), (713, 0.0), (714, 0.0), (717, 0.0), (718, 0.0), (720, 0.0), (723, 0.0), (724, 0.0), (725, 0.0), (726, 0.0), (730, 0.0), (731, 0.0), (736, 0.0), (738, 0.0), (740, 0.0), (741, 0.0), (745, 0.0), (746, 0.0), (747, 0.0), (751, 0.0), (754, 0.0), (756, 0.0), (759, 0.0), (764, 0.0), (765, 0.0), (767, 0.0), (770, 0.0), (771, 0.0), (772, 0.0), (773, 0.0), (777, 0.0), (780, 0.0), (781, 0.0), (784, 0.0), (785, 0.0), (786, 0.0), (789, 0.0), (791, 0.0), (793, 0.0), (797, 0.0), (802, 0.0), (803, 0.0), (805, 0.0), (807, 0.0), (810, 0.0), (811, 0.0), (819, 0.0), (820, 0.0), (822, 0.0), (823, 0.0), (825, 0.0), (837, 0.0), (839, 0.0), (840, 0.0), (841, 0.0), (845, 0.0), (846, 0.0), (848, 0.0), (849, 0.0), (855, 0.0), (859, 0.0), (862, 0.0), (863, 0.0), (868, 0.0), (875, 0.0), (881, 0.0), (882, 0.0), (883, 0.0), (884, 0.0), (887, 0.0), (889, 0.0), (890, 0.0), (891, 0.0), (892, 0.0), (893, 0.0), (898, 0.0), (901, 0.0), (902, 0.0), (909, 0.0), (912, 0.0), (913, 0.0), (914, 0.0), (919, 0.0), (920, 0.0), (922, 0.0), (926, 0.0), (927, 0.0), (928, 0.0), (932, 0.0), (933, 0.0), (938, 0.0), (941, 0.0), (943, 0.0), (945, 0.0), (946, 0.0), (950, 0.0), (954, 0.0), (955, 0.0), (956, 0.0), (960, 0.0), (961, 0.0), (964, 0.0), (965, 0.0), (971, 0.0), (972, 0.0), (973, 0.0), (974, 0.0), (977, 0.0), (978, 0.0), (982, 0.0), (983, 0.0), (984, 0.0), (987, 0.0), (990, 0.0), (992, 0.0), (993, 0.0), (995, 0.0), (996, 0.0), (997, 0.0), (1004, 0.0), (1008, 0.0), (1010, 0.0), (1011, 0.0), (1013, 0.0), (1016, 0.0), (1022, 0.0), (1025, 0.0), (1028, 0.0), (1029, 0.0), (1031, 0.0), (1032, 0.0), (1036, 0.0), (1038, 0.0), (1039, 0.0), (1042, 0.0), (1047, 0.0), (1051, 0.0), (1054, 0.0), (1055, 0.0), (1056, 0.0), (1057, 0.0), (1062, 0.0), (1066, 0.0), (1067, 0.0), (1072, 0.0), (1073, 0.0), (1076, 0.0), (1081, 0.0), (1082, 0.0), (1086, 0.0), (1089, 0.0), (1091, 0.0), (1092, 0.0), (1093, 0.0), (1097, 0.0), (1098, 0.0), (1100, 0.0), (1101, 0.0), (1103, 0.0), (1104, 0.0), (1105, 0.0), (1106, 0.0), (1108, 0.0), (1110, 0.0), (1113, 0.0), (1117, 0.0), (1120, 0.0), (1121, 0.0), (1126, 0.0), (1127, 0.0), (1130, 0.0), (1133, 0.0), (1135, 0.0), (1139, 0.0), (1142, 0.0), (1143, 0.0), (1145, 0.0), (1147, 0.0), (1149, 0.0), (1150, 0.0), (1151, 0.0), (1153, 0.0), (1154, 0.0), (1155, 0.0), (1156, 0.0), (1158, 0.0), (1159, 0.0), (1164, 0.0), (1165, 0.0), (1166, 0.0), (1167, 0.0), (1168, 0.0), (1169, 0.0), (1171, 0.0), (1174, 0.0), (1178, 0.0), (1180, 0.0), (1181, 0.0), (1189, 0.0), (1190, 0.0), (1193, 0.0), (1196, 0.0), (1197, 0.0), (1198, 0.0), (1200, 0.0), (1201, 0.0), (1203, 0.0), (1204, 0.0), (1205, 0.0), (1207, 0.0), (1210, 0.0), (1211, 0.0), (1212, 0.0), (1213, 0.0), (1214, 0.0), (1218, 0.0), (1221, 0.0), (1222, 0.0), (1227, 0.0), (1228, 0.0), (1233, 0.0), (1235, 0.0), (1240, 0.0), (1242, 0.0), (1244, 0.0), (1246, 0.0), (1253, 0.0), (1256, 0.0), (1258, 0.0), (1259, 0.0), (1260, 0.0), (1263, 0.0), (1265, 0.0), (1268, 0.0), (1269, 0.0), (1271, 0.0), (1277, 0.0), (1280, 0.0), (1281, 0.0), (1282, 0.0), (1284, 0.0), (1285, 0.0), (1287, 0.0), (1288, 0.0), (1289, 0.0), (1291, 0.0), (1294, 0.0), (1295, 0.0), (1296, 0.0), (1297, 0.0), (1298, 0.0), (1299, 0.0), (1301, 0.0), (1304, 0.0), (1309, 0.0), (1315, 0.0), (1319, 0.0), (1321, 0.0), (1322, 0.0), (1323, 0.0), (1326, 0.0), (1328, 0.0), (1330, 0.0), (1332, 0.0), (1333, 0.0), (1336, 0.0), (1344, 0.0), (1346, 0.0), (1347, 0.0), (1353, 0.0), (1354, 0.0), (1355, 0.0), (1362, 0.0), (1363, 0.0), (1366, 0.0), (1368, 0.0), (1373, 0.0), (1380, 0.0), (1381, 0.0), (1390, 0.0), (1391, 0.0), (1392, 0.0), (1395, 0.0), (1399, 0.0), (1402, 0.0), (1404, 0.0), (1409, 0.0), (1411, 0.0), (1416, 0.0), (1424, 0.0), (1426, 0.0), (1428, 0.0), (1430, 0.0), (1431, 0.0), (1433, 0.0), (1434, 0.0), (1435, 0.0), (1437, 0.0), (1439, 0.0), (1441, 0.0), (1444, 0.0), (1447, 0.0), (1449, 0.0), (1450, 0.0), (1451, 0.0), (1452, 0.0), (1456, 0.0), (1457, 0.0), (1458, 0.0), (1459, 0.0), (1460, 0.0), (1466, 0.0), (1467, 0.0), (1468, 0.0), (1469, 0.0), (1470, 0.0), (1473, 0.0), (1479, 0.0), (1480, 0.0), (1484, 0.0), (1485, 0.0), (1487, 0.0), (1490, 0.0), (1491, 0.0), (1495, 0.0), (1496, 0.0), (1497, 0.0), (1499, 0.0), (1502, 0.0), (1504, 0.0), (1507, 0.0), (1508, 0.0), (1511, 0.0), (1516, 0.0), (1517, 0.0), (1520, 0.0), (1521, 0.0), (1522, 0.0), (1524, 0.0), (1525, 0.0), (1528, 0.0), (1529, 0.0), (1530, 0.0), (1531, 0.0), (1532, 0.0), (1534, 0.0), (1535, 0.0), (1536, 0.0), (1540, 0.0), (1541, 0.0), (1545, 0.0), (1546, 0.0), (1548, 0.0), (1549, 0.0), (1550, 0.0), (1554, 0.0), (1555, 0.0), (1556, 0.0), (1557, 0.0), (1559, 0.0), (1560, 0.0), (1561, 0.0), (1562, 0.0), (1563, 0.0), (1564, 0.0), (1566, 0.0), (1569, 0.0), (1573, 0.0), (1574, 0.0), (1575, 0.0), (1576, 0.0), (1577, 0.0), (1578, 0.0), (1580, 0.0), (1581, 0.0), (1584, 0.0), (1586, 0.0), (1587, 0.0), (1588, 0.0), (1589, 0.0), (1590, 0.0), (1592, 0.0), (1593, 0.0), (1594, 0.0), (1596, 0.0), (1599, 0.0), (1600, 0.0), (1601, 0.0), (1602, 0.0), (1603, 0.0), (1604, 0.0), (1606, 0.0), (1607, 0.0), (1610, 0.0), (1611, 0.0), (1613, 0.0), (1614, 0.0), (1615, 0.0), (1617, 0.0), (1618, 0.0), (1622, 0.0), (1623, 0.0), (1625, 0.0), (1626, 0.0), (1631, 0.0), (1632, 0.0), (1633, 0.0), (1635, 0.0), (1636, 0.0), (1637, 0.0), (1638, 0.0), (1639, 0.0), (1640, 0.0), (1641, 0.0), (1642, 0.0), (1646, 0.0), (1649, 0.0), (1651, 0.0), (1656, 0.0), (1657, 0.0), (1659, 0.0), (1660, 0.0), (1661, 0.0), (1663, 0.0), (1668, 0.0), (1669, 0.0), (1670, 0.0), (1672, 0.0), (1673, 0.0), (1679, 0.0), (1681, 0.0), (1683, 0.0), (1686, 0.0), (1689, 0.0), (1691, 0.0), (1697, 0.0), (1698, 0.0), (1699, 0.0), (1700, 0.0), (1704, 0.0), (1709, 0.0), (1724, 0.0), (1725, 0.0), (1726, 0.0), (1728, 0.0), (1729, 0.0), (1731, 0.0), (1732, 0.0), (1733, 0.0), (1734, 0.0), (1738, 0.0), (1742, 0.0), (1745, 0.0), (1751, 0.0), (1753, 0.0), (1755, 0.0), (1756, 0.0), (1758, 0.0), (1765, 0.0), (1766, 0.0), (1767, 0.0), (1769, 0.0), (1771, 0.0), (1772, 0.0), (1775, 0.0), (1777, 0.0), (1778, 0.0), (1780, 0.0), (1781, 0.0), (1783, 0.0), (1784, 0.0), (1785, 0.0), (1786, 0.0), (1789, 0.0), (1791, 0.0), (1792, 0.0), (1794, 0.0), (1800, 0.0), (1801, 0.0), (1803, 0.0), (1804, 0.0), (1805, 0.0), (1808, 0.0), (1810, 0.0), (1811, 0.0), (1814, 0.0), (1820, 0.0), (1823, 0.0), (1824, 0.0), (1825, 0.0), (1826, 0.0), (1829, 0.0), (1831, 0.0), (1834, 0.0), (1835, 0.0), (1836, 0.0), (1839, 0.0), (1840, 0.0), (1842, 0.0), (1844, 0.0), (1846, 0.0), (1848, 0.0), (1855, 0.0), (1856, 0.0), (1857, 0.0), (1859, 0.0), (1862, 0.0), (1877, 0.0), (1879, 0.0), (1881, 0.0), (1883, 0.0), (1887, 0.0), (1888, 0.0), (1889, 0.0), (1890, 0.0), (1894, 0.0), (1898, 0.0), (1899, 0.0), (1900, 0.0), (1901, 0.0), (1904, 0.0), (1910, 0.0), (1912, 0.0), (1914, 0.0), (1915, 0.0), (1917, 0.0), (1921, 0.0), (1925, 0.0), (1926, 0.0), (1928, 0.0), (1929, 0.0), (1930, 0.0), (1932, 0.0), (1933, 0.0), (1938, 0.0), (1939, 0.0), (1940, 0.0), (1941, 0.0), (1944, 0.0), (1952, 0.0), (1953, 0.0), (1954, 0.0), (1955, 0.0), (1956, 0.0), (1958, 0.0), (1959, 0.0), (1961, 0.0), (1962, 0.0), (1963, 0.0), (1965, 0.0), (1966, 0.0), (1972, 0.0), (1973, 0.0), (1974, 0.0), (1975, 0.0), (1978, 0.0), (1979, 0.0), (1980, 0.0), (1981, 0.0), (1984, 0.0), (1987, 0.0), (1991, 0.0), (1993, 0.0), (1998, 0.0), (2001, 0.0), (2002, 0.0), (2003, 0.0), (2006, 0.0), (2007, 0.0), (2009, 0.0), (2015, 0.0), (2017, 0.0), (2019, 0.0), (2021, 0.0), (2025, 0.0), (2028, 0.0), (2030, 0.0), (2032, 0.0), (2033, 0.0), (2036, 0.0), (2038, 0.0), (2041, 0.0), (2042, 0.0), (2043, 0.0), (2044, 0.0), (2046, 0.0), (2047, 0.0), (2050, 0.0), (2054, 0.0), (2057, 0.0), (2059, 0.0), (2060, 0.0), (2063, 0.0), (2066, 0.0), (2071, 0.0), (2072, 0.0), (2077, 0.0), (2078, 0.0), (2079, 0.0), (2081, 0.0), (2084, 0.0), (2085, 0.0), (2086, 0.0), (2090, 0.0), (2092, 0.0), (2093, 0.0), (2099, 0.0), (2106, 0.0), (2107, 0.0), (2111, 0.0), (2115, 0.0), (2118, 0.0), (2120, 0.0), (2124, 0.0), (2125, 0.0), (2128, 0.0), (2129, 0.0), (2130, 0.0), (2135, 0.0), (2136, 0.0), (2138, 0.0), (2139, 0.0), (2140, 0.0), (2141, 0.0), (2142, 0.0), (2146, 0.0), (2147, 0.0), (2148, 0.0), (2150, 0.0), (2151, 0.0), (2152, 0.0), (2153, 0.0), (2158, 0.0), (2163, 0.0), (2164, 0.0), (2165, 0.0), (2166, 0.0), (2168, 0.0), (2170, 0.0), (2171, 0.0), (2172, 0.0), (2173, 0.0), (2178, 0.0), (2179, 0.0), (2180, 0.0), (2181, 0.0), (2182, 0.0), (2183, 0.0), (2184, 0.0), (2186, 0.0), (2187, 0.0), (2189, 0.0), (2190, 0.0), (2192, 0.0), (2194, 0.0), (2200, 0.0), (2204, 0.0), (2207, 0.0), (2208, 0.0), (2213, 0.0), (2215, 0.0), (2217, 0.0), (2218, 0.0), (2219, 0.0), (2220, 0.0), (2222, 0.0), (2225, 0.0), (2227, 0.0), (2228, 0.0), (2231, 0.0), (2232, 0.0), (2233, 0.0), (2234, 0.0), (2238, 0.0), (2241, 0.0), (2243, 0.0), (2245, 0.0), (2246, 0.0), (2247, 0.0), (2249, 0.0), (2252, 0.0), (2253, 0.0), (2256, 0.0), (2259, 0.0), (2261, 0.0), (2262, 0.0), (2263, 0.0), (2267, 0.0), (2268, 0.0), (2270, 0.0), (2271, 0.0), (2272, 0.0), (2273, 0.0), (2274, 0.0), (2278, 0.0), (2281, 0.0), (2282, 0.0), (2283, 0.0), (2292, 0.0), (2293, 0.0), (2296, 0.0), (2297, 0.0), (2300, 0.0), (2304, 0.0), (2305, 0.0), (2307, 0.0), (2308, 0.0), (2310, 0.0), (2311, 0.0), (2312, 0.0), (2314, 0.0), (2315, 0.0), (2317, 0.0), (2322, 0.0), (2323, 0.0), (2324, 0.0), (2325, 0.0), (2326, 0.0), (2327, 0.0), (2328, 0.0), (2329, 0.0), (2330, 0.0), (2331, 0.0), (2332, 0.0), (2333, 0.0), (2336, 0.0), (2337, 0.0), (2340, 0.0), (2341, 0.0), (2342, 0.0), (2343, 0.0), (2345, 0.0), (2351, 0.0), (2352, 0.0), (2354, 0.0), (2356, 0.0), (2357, 0.0), (2360, 0.0), (2364, 0.0), (2369, 0.0), (2370, 0.0), (2372, 0.0), (2373, 0.0), (2377, 0.0), (2378, 0.0), (2380, 0.0), (2381, 0.0), (2382, 0.0), (2384, 0.0), (2385, 0.0), (2387, 0.0), (2389, 0.0), (2395, 0.0), (2396, 0.0), (2398, 0.0), (2401, 0.0), (2408, 0.0), (2409, 0.0), (2410, 0.0), (2414, 0.0), (2416, 0.0), (2419, 0.0), (2420, 0.0), (2424, 0.0), (2429, 0.0), (2431, 0.0), (2432, 0.0), (2433, 0.0), (2435, 0.0), (2442, 0.0), (2445, 0.0), (2446, 0.0), (2450, 0.0), (2451, 0.0), (2452, 0.0), (2455, 0.0), (2456, 0.0), (2458, 0.0), (2462, 0.0), (2465, 0.0), (2470, 0.0), (2471, 0.0), (2472, 0.0), (2476, 0.0), (2479, 0.0), (2483, 0.0), (2485, 0.0), (2491, 0.0), (2493, 0.0), (2495, 0.0), (2497, 0.0), (2498, 0.0), (2499, 0.0), (2500, 0.0), (2501, 0.0), (2504, 0.0), (2506, 0.0), (2507, 0.0), (2508, 0.0), (2511, 0.0), (2514, 0.0), (2515, 0.0), (2516, 0.0), (2518, 0.0), (2519, 0.0), (2521, 0.0), (2523, 0.0), (2525, 0.0), (2532, 0.0), (2533, 0.0), (2536, 0.0), (2537, 0.0), (2539, 0.0), (2541, 0.0), (2542, 0.0), (2543, 0.0), (2544, 0.0), (2547, 0.0), (2548, 0.0), (2549, 0.0), (2551, 0.0), (2552, 0.0), (2557, 0.0), (2562, 0.0), (2564, 0.0), (2566, 0.0), (2567, 0.0), (2571, 0.0), (2573, 0.0), (2574, 0.0), (2575, 0.0), (2576, 0.0), (2577, 0.0), (2578, 0.0), (2583, 0.0), (2584, 0.0), (2585, 0.0), (2586, 0.0), (2588, 0.0), (2589, 0.0), (2590, 0.0), (2594, 0.0), (2595, 0.0), (2596, 0.0), (2597, 0.0), (2599, 0.0), (2600, 0.0), (2604, 0.0), (2605, 0.0), (2608, 0.0), (2610, 0.0), (2613, 0.0), (2615, 0.0), (2616, 0.0), (2619, 0.0), (2620, 0.0), (2624, 0.0), (2626, 0.0), (2627, 0.0), (2628, 0.0), (2631, 0.0), (2635, 0.0), (2636, 0.0), (2637, 0.0), (2641, 0.0), (2648, 0.0), (2651, 0.0), (2656, 0.0), (2657, 0.0), (2658, 0.0), (2659, 0.0), (2662, 0.0), (2663, 0.0), (2666, 0.0), (2667, 0.0), (2669, 0.0), (2670, 0.0), (2671, 0.0), (2672, 0.0), (2675, 0.0), (2676, 0.0), (2677, 0.0), (2679, 0.0), (2681, 0.0), (2682, 0.0), (2683, 0.0), (2684, 0.0), (2685, 0.0), (2686, 0.0), (2690, 0.0), (2693, 0.0), (2699, 0.0), (2700, 0.0), (2701, 0.0), (2703, 0.0), (2704, 0.0), (2709, 0.0), (2711, 0.0), (2713, 0.0), (2715, 0.0), (2717, 0.0), (2719, 0.0), (2720, 0.0), (2721, 0.0), (2722, 0.0), (2725, 0.0), (2728, 0.0), (2729, 0.0), (2730, 0.0), (2733, 0.0), (2734, 0.0), (2735, 0.0), (2736, 0.0), (2737, 0.0), (2738, 0.0), (2749, 0.0), (2750, 0.0), (2753, 0.0), (2754, 0.0), (2756, 0.0), (2763, 0.0), (2765, 0.0), (2770, 0.0), (2773, 0.0), (2781, 0.0), (2783, 0.0), (2785, 0.0), (2786, 0.0), (2787, 0.0), (2788, 0.0), (2790, 0.0), (2792, 0.0), (2793, 0.0), (2794, 0.0), (2799, 0.0), (2801, 0.0), (2804, 0.0), (2806, 0.0), (2810, 0.0), (2811, 0.0), (2813, 0.0), (2814, 0.0), (2815, 0.0), (2817, 0.0), (2818, 0.0), (2819, 0.0), (2822, 0.0), (2824, 0.0), (2825, 0.0), (2826, 0.0), (2827, 0.0), (2828, 0.0), (2829, 0.0), (2833, 0.0), (2835, 0.0), (2836, 0.0), (2837, 0.0), (2839, 0.0), (2842, 0.0), (2846, 0.0), (2847, 0.0), (2850, 0.0), (2851, 0.0), (2852, 0.0), (2853, 0.0), (2855, 0.0), (2856, 0.0), (2860, 0.0), (2861, 0.0), (2863, 0.0), (2864, 0.0), (2865, 0.0), (2866, 0.0), (2875, 0.0), (2877, 0.0), (2880, 0.0), (2882, 0.0), (2884, 0.0), (2891, 0.0), (2895, 0.0), (2896, 0.0), (2898, 0.0), (2900, 0.0), (2902, 0.0), (2905, 0.0), (2906, 0.0), (2909, 0.0), (2912, 0.0), (2921, 0.0), (2922, 0.0), (2923, 0.0), (2927, 0.0), (2928, 0.0), (2930, 0.0), (2937, 0.0), (2938, 0.0), (2940, 0.0), (2941, 0.0), (2947, 0.0), (2948, 0.0), (2949, 0.0), (2950, 0.0), (2951, 0.0), (2952, 0.0), (2953, 0.0), (2954, 0.0), (2955, 0.0), (2956, 0.0), (2958, 0.0), (2959, 0.0), (2960, 0.0), (2962, 0.0), (2963, 0.0), (2967, 0.0), (2968, 0.0), (2970, 0.0), (2973, 0.0), (2979, 0.0), (2982, 0.0), (2983, 0.0), (2984, 0.0), (2987, 0.0), (2990, 0.0), (2991, 0.0), (2993, 0.0), (2994, 0.0), (2997, 0.0), (3001, 0.0), (3002, 0.0), (3003, 0.0), (3005, 0.0), (3006, 0.0), (3007, 0.0), (3009, 0.0), (3011, 0.0), (3016, 0.0), (3020, 0.0), (3021, 0.0), (3022, 0.0), (3025, 0.0), (3026, 0.0), (3029, 0.0), (3031, 0.0), (3034, 0.0), (3038, 0.0), (3041, 0.0), (3042, 0.0), (3047, 0.0), (3048, 0.0), (3049, 0.0), (3054, 0.0), (3055, 0.0), (3057, 0.0), (3058, 0.0), (3059, 0.0), (3060, 0.0), (3061, 0.0), (3063, 0.0), (3064, 0.0), (3068, 0.0), (3069, 0.0), (3073, 0.0), (3077, 0.0), (3078, 0.0), (3079, 0.0), (3080, 0.0), (3082, 0.0), (3084, 0.0), (3087, 0.0), (3088, 0.0), (3089, 0.0), (3090, 0.0), (3092, 0.0), (3093, 0.0), (3100, 0.0), (3101, 0.0), (3103, 0.0), (3104, 0.0), (3105, 0.0), (3106, 0.0), (3107, 0.0), (3109, 0.0), (3113, 0.0), (3115, 0.0), (3117, 0.0), (3121, 0.0), (3124, 0.0), (3126, 0.0), (3128, 0.0), (3130, 0.0), (3131, 0.0), (3132, 0.0), (3133, 0.0), (3134, 0.0), (3135, 0.0), (3136, 0.0), (3138, 0.0), (3139, 0.0), (3141, 0.0), (3143, 0.0), (3145, 0.0), (3149, 0.0), (3150, 0.0), (3158, 0.0), (3159, 0.0), (3160, 0.0), (3161, 0.0), (3162, 0.0), (3163, 0.0), (3168, 0.0), (3169, 0.0), (3172, 0.0), (3173, 0.0), (3174, 0.0), (3175, 0.0), (3176, 0.0), (3177, 0.0), (3179, 0.0), (3180, 0.0), (3181, 0.0), (3185, 0.0), (3186, 0.0), (3188, 0.0), (3189, 0.0), (3190, 0.0), (3191, 0.0), (3193, 0.0), (3197, 0.0), (3201, 0.0), (3202, 0.0), (3204, 0.0), (3206, 0.0), (3207, 0.0), (3208, 0.0), (3211, 0.0), (3212, 0.0), (3216, 0.0), (3217, 0.0), (3221, 0.0), (3223, 0.0), (3224, 0.0), (3225, 0.0), (3229, 0.0), (3230, 0.0), (3231, 0.0), (3236, 0.0), (3238, 0.0), (3239, 0.0), (3242, 0.0), (3243, 0.0), (3247, 0.0), (3250, 0.0), (3251, 0.0), (3252, 0.0), (3261, 0.0), (3263, 0.0), (3266, 0.0), (3269, 0.0), (3270, 0.0), (3271, 0.0), (3272, 0.0), (3277, 0.0), (3281, 0.0), (3283, 0.0), (3286, 0.0), (3287, 0.0), (3289, 0.0), (3290, 0.0), (3292, 0.0), (3305, 0.0), (3307, 0.0), (3310, 0.0), (3320, 0.0), (3321, 0.0), (3323, 0.0), (3324, 0.0), (3332, 0.0), (3333, 0.0), (3335, 0.0), (3336, 0.0), (3337, 0.0), (3338, 0.0), (3339, 0.0), (3340, 0.0), (3341, 0.0), (3343, 0.0), (3348, 0.0), (3350, 0.0), (3354, 0.0), (3358, 0.0), (3361, 0.0), (3366, 0.0), (3367, 0.0), (3368, 0.0), (3369, 0.0), (3371, 0.0), (3372, 0.0), (3378, 0.0), (3381, 0.0), (3383, 0.0), (3390, 0.0), (3392, 0.0), (3394, 0.0), (3397, 0.0), (3398, 0.0), (3400, 0.0), (3401, 0.0), (3404, 0.0), (3405, 0.0), (3411, 0.0), (3412, 0.0), (3414, 0.0), (3415, 0.0), (3419, 0.0), (3422, 0.0), (3424, 0.0), (3429, 0.0), (3431, 0.0), (3432, 0.0), (3434, 0.0), (3438, 0.0), (3439, 0.0), (3440, 0.0), (3441, 0.0), (3442, 0.0), (3443, 0.0), (3444, 0.0), (3448, 0.0), (3451, 0.0), (3452, 0.0), (3454, 0.0), (3455, 0.0), (3459, 0.0), (3461, 0.0), (3464, 0.0), (3467, 0.0), (3468, 0.0), (3472, 0.0), (3473, 0.0), (3475, 0.0), (3476, 0.0), (3478, 0.0), (3481, 0.0), (3482, 0.0), (3484, 0.0), (3485, 0.0), (3489, 0.0), (3490, 0.0), (3491, 0.0), (3494, 0.0), (3495, 0.0), (3497, 0.0), (3499, 0.0), (3502, 0.0), (3505, 0.0), (3507, 0.0), (3510, 0.0), (3513, 0.0), (3514, 0.0), (3517, 0.0), (3519, 0.0), (3520, 0.0), (3522, 0.0), (3525, 0.0), (3529, 0.0), (3530, 0.0), (3531, 0.0), (3532, 0.0), (3533, 0.0), (3537, 0.0), (3538, 0.0), (3539, 0.0), (3540, 0.0), (3543, 0.0), (3544, 0.0), (3545, 0.0), (3547, 0.0), (3548, 0.0), (3549, 0.0), (3550, 0.0), (3554, 0.0), (3555, 0.0), (3561, 0.0), (3562, 0.0), (3565, 0.0), (3567, 0.0), (3568, 0.0), (3570, 0.0), (3573, 0.0), (3576, 0.0), (3578, 0.0), (3581, 0.0), (3583, 0.0), (3584, 0.0), (3585, 0.0), (3587, 0.0), (3588, 0.0), (3589, 0.0), (3591, 0.0), (3592, 0.0), (3593, 0.0), (3595, 0.0), (3600, 0.0), (3602, 0.0), (3603, 0.0), (3604, 0.0), (3605, 0.0), (3606, 0.0), (3607, 0.0), (3608, 0.0), (3609, 0.0), (3610, 0.0), (3611, 0.0), (3615, 0.0), (3617, 0.0), (3619, 0.0), (3621, 0.0), (3622, 0.0), (3625, 0.0), (3627, 0.0), (3628, 0.0), (3629, 0.0), (3631, 0.0), (3633, 0.0), (3636, 0.0), (3644, 0.0), (3647, 0.0), (3649, 0.0), (3650, 0.0), (3658, 0.0), (3662, 0.0), (3663, 0.0), (3664, 0.0), (3668, 0.0), (3671, 0.0), (3672, 0.0), (3674, 0.0), (3676, 0.0), (3677, 0.0), (3678, 0.0), (3679, 0.0), (3681, 0.0), (3682, 0.0), (3683, 0.0), (3685, 0.0), (3686, 0.0), (3687, 0.0), (3688, 0.0), (3690, 0.0), (3691, 0.0), (3693, 0.0), (3695, 0.0), (3697, 0.0), (3698, 0.0), (3700, 0.0), (3701, 0.0), (3702, 0.0), (3703, 0.0), (3709, 0.0), (3710, 0.0), (3712, 0.0), (3714, 0.0), (3715, 0.0), (3716, 0.0), (3717, 0.0), (3718, 0.0), (3719, 0.0), (3721, 0.0), (3722, 0.0), (3723, 0.0), (3724, 0.0), (3725, 0.0), (3726, 0.0), (3729, 0.0), (3730, 0.0), (3732, 0.0), (3735, 0.0), (3736, 0.0), (3737, 0.0), (3738, 0.0), (3740, 0.0), (3743, 0.0), (3744, 0.0), (3746, 0.0), (3757, 0.0), (3758, 0.0), (3759, 0.0), (3760, 0.0), (3761, 0.0), (3764, 0.0), (3768, 0.0), (3769, 0.0), (3770, 0.0), (3773, 0.0), (3774, 0.0), (3775, 0.0), (3776, 0.0), (3781, 0.0), (3782, 0.0), (3783, 0.0), (3785, 0.0), (3786, 0.0), (3787, 0.0), (3788, 0.0), (3789, 0.0), (3790, 0.0), (3791, 0.0), (3792, 0.0), (3795, 0.0), (3796, 0.0), (3798, 0.0), (3800, 0.0), (3802, 0.0), (3803, 0.0), (3805, 0.0), (3806, 0.0), (3808, 0.0), (3812, 0.0), (3814, 0.0), (3815, 0.0), (3816, 0.0), (3817, 0.0), (3818, 0.0), (3820, 0.0), (3823, 0.0), (3824, 0.0), (3830, 0.0), (3831, 0.0), (3833, 0.0), (3834, 0.0), (3836, 0.0), (3837, 0.0), (3838, 0.0), (3840, 0.0), (3841, 0.0), (3843, 0.0), (3844, 0.0), (3846, 0.0), (3847, 0.0), (3848, 0.0), (3849, 0.0), (3851, 0.0), (3856, 0.0), (3858, 0.0), (3859, 0.0), (3863, 0.0), (3869, 0.0), (3870, 0.0), (3872, 0.0), (3874, 0.0), (3877, 0.0), (3878, 0.0), (3879, 0.0), (3881, 0.0), (3885, 0.0), (3886, 0.0), (3887, 0.0), (3889, 0.0), (3891, 0.0), (3894, 0.0), (3896, 0.0), (3897, 0.0), (3899, 0.0), (3905, 0.0), (3906, 0.0), (3907, 0.0), (3908, 0.0), (3911, 0.0), (3912, 0.0), (3914, 0.0), (3916, 0.0), (3918, 0.0), (3921, 0.0), (3929, 0.0), (3930, 0.0), (3931, 0.0), (3933, 0.0), (3935, 0.0), (3936, 0.0), (3937, 0.0), (3938, 0.0), (3942, 0.0), (3943, 0.0), (3944, 0.0), (3948, 0.0), (3950, 0.0), (3963, 0.0), (3964, 0.0), (3965, 0.0), (3966, 0.0), (3967, 0.0), (3968, 0.0), (3969, 0.0), (3970, 0.0), (3971, 0.0), (3972, 0.0), (3975, 0.0), (3977, 0.0), (3979, 0.0), (3980, 0.0), (3981, 0.0), (3982, 0.0), (3985, 0.0), (3986, 0.0), (3987, 0.0), (3988, 0.0), (3989, 0.0), (3991, 0.0), (3994, 0.0), (3995, 0.0), (3996, 0.0), (3997, 0.0), (4002, 0.0), (4003, 0.0), (4006, 0.0), (4010, 0.0), (4013, 0.0), (4015, 0.0), (4017, 0.0), (4018, 0.0), (4019, 0.0), (4021, 0.0), (4022, 0.0), (4026, 0.0), (4027, 0.0), (4029, 0.0), (4031, 0.0), (4034, 0.0), (4037, 0.0), (4039, 0.0), (4040, 0.0), (4041, 0.0), (4042, 0.0), (4043, 0.0), (4044, 0.0), (4045, 0.0), (4047, 0.0), (4049, 0.0), (4058, 0.0), (4059, 0.0), (4063, 0.0), (4065, 0.0), (4067, 0.0), (4070, 0.0), (4071, 0.0), (4072, 0.0), (4073, 0.0), (4075, 0.0), (4076, 0.0), (4078, 0.0), (4080, 0.0), (4083, 0.0), (4084, 0.0), (4086, 0.0), (4089, 0.0), (4090, 0.0), (4091, 0.0), (4093, 0.0), (4094, 0.0), (4097, 0.0), (4100, 0.0), (4102, 0.0), (4103, 0.0), (4105, 0.0), (4108, 0.0), (4109, 0.0), (4112, 0.0), (4114, 0.0), (4115, 0.0), (4119, 0.0), (4120, 0.0), (4125, 0.0), (4126, 0.0), (4127, 0.0), (4129, 0.0), (4131, 0.0), (4132, 0.0), (4136, 0.0), (4139, 0.0), (4140, 0.0), (4142, 0.0), (4144, 0.0), (4145, 0.0), (4146, 0.0), (4147, 0.0), (4148, 0.0), (4150, 0.0), (4153, 0.0), (4155, 0.0), (4157, 0.0), (4159, 0.0), (4161, 0.0), (4162, 0.0), (4166, 0.0), (4167, 0.0), (4168, 0.0), (4170, 0.0), (4173, 0.0), (4174, 0.0), (4175, 0.0), (4179, 0.0), (4180, 0.0), (4181, 0.0), (4184, 0.0), (4185, 0.0), (4186, 0.0), (4188, 0.0), (4190, 0.0), (4191, 0.0), (4193, 0.0), (4194, 0.0), (4197, 0.0), (4198, 0.0), (4199, 0.0), (4200, 0.0), (4201, 0.0), (4204, 0.0), (4206, 0.0), (4207, 0.0), (4208, 0.0), (4209, 0.0), (4211, 0.0), (4212, 0.0), (4213, 0.0), (4214, 0.0), (4215, 0.0), (4218, 0.0), (4219, 0.0), (4220, 0.0), (4223, 0.0), (4224, 0.0), (4228, 0.0), (4229, 0.0), (4234, 0.0), (4237, 0.0), (4238, 0.0), (4239, 0.0), (4240, 0.0), (4241, 0.0), (4245, 0.0), (4248, 0.0), (4250, 0.0), (4251, 0.0), (4252, 0.0), (4253, 0.0), (4254, 0.0), (4256, 0.0), (4258, 0.0), (4260, 0.0), (4262, 0.0), (4264, 0.0), (4265, 0.0), (4267, 0.0), (4270, 0.0), (4271, 0.0), (4273, 0.0), (4274, 0.0), (4275, 0.0), (4276, 0.0), (4277, 0.0), (4278, 0.0), (4279, 0.0), (4280, 0.0), (4285, 0.0), (4289, 0.0), (4290, 0.0), (4291, 0.0), (4292, 0.0), (4294, 0.0), (4296, 0.0), (4297, 0.0), (4298, 0.0), (4299, 0.0), (4300, 0.0), (4301, 0.0), (4302, 0.0), (4304, 0.0), (4305, 0.0), (4306, 0.0), (4307, 0.0), (4308, 0.0), (4310, 0.0), (4312, 0.0), (4313, 0.0), (4315, 0.0), (4316, 0.0), (4317, 0.0), (4318, 0.0), (4319, 0.0), (4320, 0.0), (4322, 0.0), (4323, 0.0), (4324, 0.0), (4326, 0.0), (4327, 0.0), (4328, 0.0), (4329, 0.0), (4331, 0.0), (4332, 0.0), (4338, 0.0), (4339, 0.0), (4340, 0.0), (4341, 0.0), (4343, 0.0), (4346, 0.0), (4347, 0.0), (4348, 0.0), (4352, 0.0), (4353, 0.0), (4354, 0.0), (4355, 0.0), (4358, 0.0), (4359, 0.0), (4360, 0.0), (4361, 0.0), (4363, 0.0), (4364, 0.0), (4365, 0.0), (4370, 0.0), (4372, 0.0), (4376, 0.0), (4377, 0.0), (4381, 0.0), (4383, 0.0), (4384, 0.0), (4386, 0.0), (4390, 0.0), (4391, 0.0), (4392, 0.0), (4393, 0.0), (4396, 0.0), (4397, 0.0), (4400, 0.0), (4404, 0.0), (4405, 0.0), (4406, 0.0), (4408, 0.0), (4409, 0.0), (4410, 0.0), (4413, 0.0), (4414, 0.0), (4415, 0.0), (4416, 0.0), (4417, 0.0), (4418, 0.0), (4421, 0.0), (4424, 0.0), (4425, 0.0), (4426, 0.0), (4427, 0.0), (4428, 0.0), (4431, 0.0), (4433, 0.0), (4434, 0.0), (4437, 0.0), (4438, 0.0), (4439, 0.0), (4441, 0.0), (4445, 0.0), (4447, 0.0), (4449, 0.0), (4451, 0.0), (4453, 0.0), (4454, 0.0), (4455, 0.0), (4457, 0.0), (4460, 0.0), (4461, 0.0), (4462, 0.0), (4463, 0.0), (4464, 0.0), (4468, 0.0), (4471, 0.0), (4476, 0.0), (4478, 0.0), (4480, 0.0), (4483, 0.0), (4485, 0.0), (4491, 0.0), (4493, 0.0), (4495, 0.0), (4496, 0.0), (4497, 0.0), (4498, 0.0), (4499, 0.0), (4500, 0.0), (4505, 0.0), (4506, 0.0), (4508, 0.0), (4509, 0.0), (4513, 0.0), (4514, 0.0), (4515, 0.0), (4518, 0.0), (4519, 0.0), (4525, 0.0), (4526, 0.0), (4527, 0.0), (4529, 0.0), (4532, 0.0), (4537, 0.0), (4538, 0.0), (4539, 0.0), (4541, 0.0), (4542, 0.0), (4543, 0.0), (4544, 0.0), (4545, 0.0), (4547, 0.0), (4549, 0.0), (4550, 0.0), (4552, 0.0), (4556, 0.0), (4558, 0.0), (4559, 0.0), (4560, 0.0), (4561, 0.0), (4562, 0.0), (4565, 0.0), (4567, 0.0), (4568, 0.0), (4569, 0.0), (4570, 0.0), (4574, 0.0), (4577, 0.0), (4578, 0.0), (4579, 0.0), (4580, 0.0), (4582, 0.0), (4584, 0.0), (4585, 0.0), (4586, 0.0), (4587, 0.0), (4592, 0.0), (4595, 0.0), (4597, 0.0), (4598, 0.0), (4599, 0.0), (4600, 0.0), (4604, 0.0), (4606, 0.0), (4609, 0.0), (4611, 0.0), (4612, 0.0), (4613, 0.0), (4615, 0.0), (4616, 0.0), (4618, 0.0), (4620, 0.0), (4621, 0.0), (4622, 0.0), (4628, 0.0), (4630, 0.0), (4631, 0.0), (4633, 0.0), (4634, 0.0), (4635, 0.0), (4639, 0.0), (4641, 0.0), (4642, 0.0), (4644, 0.0), (4645, 0.0), (4646, 0.0), (4647, 0.0), (4648, 0.0), (4651, 0.0), (4653, 0.0), (4654, 0.0), (4655, 0.0), (4659, 0.0), (4661, 0.0), (4662, 0.0), (4663, 0.0), (4664, 0.0), (4665, 0.0), (4666, 0.0), (4667, 0.0), (4671, 0.0), (4672, 0.0), (4675, 0.0), (4676, 0.0), (4677, 0.0), (4678, 0.0), (4680, 0.0), (4681, 0.0), (4683, 0.0), (4686, 0.0), (4687, 0.0), (4688, 0.0), (4689, 0.0), (4690, 0.0), (4691, 0.0), (4692, 0.0), (4694, 0.0), (4696, 0.0), (4697, 0.0), (4698, 0.0), (4700, 0.0), (4702, 0.0), (4705, 0.0), (4708, 0.0), (4711, 0.0), (4714, 0.0), (4715, 0.0), (4716, 0.0), (4720, 0.0), (4725, 0.0), (4728, 0.0), (4729, 0.0), (4730, 0.0), (4732, 0.0), (4736, 0.0), (4737, 0.0), (4740, 0.0), (4741, 0.0), (4742, 0.0), (4743, 0.0), (4744, 0.0), (4745, 0.0), (4746, 0.0), (4749, 0.0), (4750, 0.0), (4751, 0.0), (4754, 0.0), (4755, 0.0), (4757, 0.0), (4758, 0.0), (4759, 0.0)]\n"
          ]
        }
      ]
    },
    {
      "cell_type": "code",
      "source": [
        "# print the name of similar movies based on the index\n",
        "\n",
        "print('Top 30 Movies Suggested for You : \\n')\n",
        "\n",
        "i= 1\n",
        "\n",
        "for movie in Sorted_Similar_Movies:\n",
        "  index = movie[0]\n",
        "  title_from_index = df[df.Movie_ID == index]['Movie_Title'].values\n",
        "  if (i<31):\n",
        "    print(i, '.',title_from_index)\n",
        "    i+=1"
      ],
      "metadata": {
        "colab": {
          "base_uri": "https://localhost:8080/"
        },
        "id": "fhZ9YXy6zpFe",
        "outputId": "5de89ee1-1503-47f4-dea5-fb43af041c62"
      },
      "execution_count": 198,
      "outputs": [
        {
          "output_type": "stream",
          "name": "stdout",
          "text": [
            "Top 30 Movies Suggested for You : \n",
            "\n",
            "1 . ['Avatar']\n",
            "2 . ['Act of Valor']\n",
            "3 . ['Elizabethtown']\n",
            "4 . ['New Nightmare']\n",
            "5 . ['The Godfather']\n",
            "6 . ['Gerry']\n",
            "7 . ['Cradle Will Rock']\n",
            "8 . ['A Prairie Home Companion']\n",
            "9 . ['Bright Lights, Big City']\n",
            "10 . ['Rollerball']\n",
            "11 . ['Mrs. Winterbourne']\n",
            "12 . ['Walking and Talking']\n",
            "13 . ['The Dangerous Lives of Altar Boys']\n",
            "14 . ['Donnie Darko']\n",
            "15 . ['The Merchant of Venice']\n",
            "16 . ['The History Boys']\n",
            "17 . ['The Terminal']\n",
            "18 . ['Precious']\n",
            "19 . ['Submarine']\n",
            "20 . ['Water']\n",
            "21 . ['The Great Debaters']\n",
            "22 . ['Four Christmases']\n",
            "23 . ['Bang']\n",
            "24 . ['The Opposite Sex']\n",
            "25 . ['Shaolin Soccer']\n",
            "26 . ['The Swindle']\n",
            "27 . ['The Iron Lady']\n",
            "28 . ['Baby Mama']\n",
            "29 . ['Crazy Stone']\n",
            "30 . ['Repo! The Genetic Opera']\n"
          ]
        }
      ]
    },
    {
      "cell_type": "markdown",
      "source": [
        "# Top 10 Movie recommendation system"
      ],
      "metadata": {
        "id": "JopliBpR--lE"
      }
    },
    {
      "cell_type": "code",
      "source": [
        "Movie_Name = input(' Enter your favourite movie name : ')\n",
        "\n",
        "list_of_all_titles = df['Movie_Title'].tolist()\n",
        "\n",
        "Find_Close_Match = difflib.get_close_matches(Movie_Name, list_of_all_titles)\n",
        "\n",
        "Close_Match = Find_Close_Match[0]\n",
        "\n",
        "Index_of_Movie = df[df.Movie_Title == Close_Match]['Movie_ID'].values[0]\n",
        "print(\"****\",Index_of_Movie)\n",
        "\n",
        "Recommendation_Score = list(enumerate(Similarity_Score[Index_of_Movie]))\n",
        "\n",
        "sorted_similar_movies = sorted(Recommendation_Score, key = lambda x:x[1], reverse = True)\n",
        "\n",
        "print('Top 10 Movies suggested for you : \\n')\n",
        "\n",
        "i= 1\n",
        "\n",
        "for movie in sorted_similar_movies:\n",
        "  index = movie[0]\n",
        "  title_from_index = df[df.Movie_ID == index]['Movie_Title'].values\n",
        "  if (i<11):\n",
        "    print(i, '.',title_from_index)\n",
        "    i+=1"
      ],
      "metadata": {
        "id": "2nB7o7KZvsPT",
        "colab": {
          "base_uri": "https://localhost:8080/"
        },
        "outputId": "a5f1a91c-9393-483c-e2fa-9a87c1bfd382"
      },
      "execution_count": 183,
      "outputs": [
        {
          "output_type": "stream",
          "name": "stdout",
          "text": [
            " Enter your favourite movie name : Avatar\n",
            "**** 2692\n",
            "Top 10 Movies suggested for you : \n",
            "\n",
            "1 . ['Avatar']\n",
            "2 . ['Act of Valor']\n",
            "3 . ['Elizabethtown']\n",
            "4 . ['New Nightmare']\n",
            "5 . ['The Godfather']\n",
            "6 . ['Gerry']\n",
            "7 . ['Cradle Will Rock']\n",
            "8 . ['A Prairie Home Companion']\n",
            "9 . ['Bright Lights, Big City']\n",
            "10 . ['Rollerball']\n"
          ]
        }
      ]
    }
  ]
}